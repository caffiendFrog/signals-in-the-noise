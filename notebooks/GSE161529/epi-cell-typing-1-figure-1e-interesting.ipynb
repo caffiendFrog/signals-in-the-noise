{
 "cells": [
  {
   "metadata": {},
   "cell_type": "markdown",
   "source": [
    "# Figure 1\n",
    "\n",
    "This notebook recreates a subset of the visualizations in figure 1 of the reference article for both the real and noise cells."
   ],
   "id": "a0b8fcef37161b26"
  },
  {
   "metadata": {},
   "cell_type": "markdown",
   "source": "## 0. Initializations",
   "id": "5bdcc4f480906562"
  },
  {
   "metadata": {},
   "cell_type": "code",
   "source": [
    "# -- imports --\n",
    "import anndata as ad\n",
    "import numpy as np\n",
    "import scanpy as sc\n",
    "\n",
    "from scipy import sparse\n",
    "\n",
    "from signals_in_the_noise.preprocessing.gse161529 import GSE161529"
   ],
   "id": "581938d42693dc95",
   "outputs": [],
   "execution_count": null
  },
  {
   "metadata": {},
   "cell_type": "code",
   "source": [
    "def get_combined_dataset(is_noise):\n",
    "    adatas = []\n",
    "    is_noise_val = 1 if is_noise else 0\n",
    "    for idx, filename in enumerate(gse.EPI_CELL_TYPING_FILENAMES):\n",
    "        adata = gse.get_dataset(filename)\n",
    "        adata.obs_names = [f\"{filename}_{i}\" for i in range(adata.n_obs)]\n",
    "        # filter to real cells\n",
    "        adata = adata[adata.obs['is_noise']==is_noise_val].copy()\n",
    "        adata = gse.annotate_epithial_cell_typing(adata)\n",
    "        # remove stromal cells - \"...removed the stromal subset...\"\n",
    "        mask = ~adata.obs['predicted_type'].str.lower().str.contains('stromal')\n",
    "        adata = adata[mask].copy()\n",
    "        # re-run highly variable genes after removing stromal cells\n",
    "        sc.pp.highly_variable_genes(adata, flavor='seurat')\n",
    "        adata = adata[:, adata.var.highly_variable].copy()\n",
    "        # arbitrarily assign a unique id to each dataset as proxy for subject id\n",
    "        adata.obs['specimen_id'] = idx\n",
    "        if sparse.issparse(adata.X):\n",
    "            adata.X = adata.X.toarray()\n",
    "        adatas.append(adata)\n",
    "    return ad.concat(adatas, join='inner')\n",
    "\n",
    "def figure_1_tsne(adata_all, color):\n",
    "    sc.pp.scale(adata_all)\n",
    "    sc.pp.pca(adata_all, random_state=random_kwargs['random_state'])\n",
    "    sc.pp.neighbors(adata_all, **random_kwargs)\n",
    "    # use of leiden and resolution specified in caption for Figure 1E\n",
    "    sc.tl.leiden(adata_all, resolution=0.015)\n",
    "    sc.tl.tsne(adata_all, **random_kwargs)\n",
    "    sc.pl.tsne(adata_all, color=color)"
   ],
   "id": "33c73149cc92e305",
   "outputs": [],
   "execution_count": null
  },
  {
   "metadata": {},
   "cell_type": "code",
   "source": [
    "# -- dataset --\n",
    "gse = GSE161529()\n",
    "adata_all_real = get_combined_dataset(is_noise=False)\n",
    "adata_all_noise = get_combined_dataset(is_noise=True)\n",
    "\n",
    "# re-run highly variable genes after subsetting\n",
    "sc.pp.highly_variable_genes(adata_all_real, flavor='seurat')\n",
    "adata_all_real = adata_all_real[:, adata_all_real.var.highly_variable].copy()\n",
    "\n",
    "sc.pp.highly_variable_genes(adata_all_noise, flavor='seurat')\n",
    "adata_all_noise = adata_all_noise[:, adata_all_noise.var.highly_variable].copy()\n",
    "\n",
    "# -- constants --\n",
    "random_kwargs = {'use_rep': 'X_pca', 'random_state': 43}"
   ],
   "id": "f38244810a95f871",
   "outputs": [],
   "execution_count": null
  },
  {
   "metadata": {},
   "cell_type": "markdown",
   "source": "## 1. Visualization E (t-SNE colored by cell clusters)",
   "id": "11aa99b2a2b7738c"
  },
  {
   "metadata": {},
   "cell_type": "markdown",
   "source": "### 1.1. Real cells",
   "id": "8987d5df2fcaba92"
  },
  {
   "metadata": {
    "collapsed": true
   },
   "cell_type": "code",
   "source": "figure_1_tsne(adata_all_real, color=['predicted_type'])",
   "id": "initial_id",
   "outputs": [],
   "execution_count": null
  },
  {
   "metadata": {},
   "cell_type": "markdown",
   "source": "### 1.2. Noise cells",
   "id": "4812e2c2866582a7"
  },
  {
   "metadata": {},
   "cell_type": "code",
   "source": "figure_1_tsne(adata_all_noise, color=['predicted_type'])",
   "id": "443403da70ae06ad",
   "outputs": [],
   "execution_count": null
  },
  {
   "metadata": {},
   "cell_type": "markdown",
   "source": "## 2. Visualization C (t-SNE colored by tissue specimens)",
   "id": "1a2fb85ec42fbd25"
  },
  {
   "metadata": {},
   "cell_type": "markdown",
   "source": "### 2.1. Real cells",
   "id": "a119d8a85b53de65"
  },
  {
   "metadata": {},
   "cell_type": "code",
   "source": "# adata = gse.get_dataset(gse.EPI_CELL_TYPING_FILENAMES[0])",
   "id": "b55f023b975ce086",
   "outputs": [],
   "execution_count": null
  },
  {
   "metadata": {},
   "cell_type": "code",
   "source": "figure_1_tsne(adata_all_real, color=['specimen_id'])",
   "id": "81409ab07cca3458",
   "outputs": [],
   "execution_count": null
  },
  {
   "metadata": {},
   "cell_type": "markdown",
   "source": "### 2.2. Noise cells",
   "id": "19e53db430acd74"
  },
  {
   "metadata": {},
   "cell_type": "code",
   "source": "figure_1_tsne(adata_all_noise, color=['specimen_id'])",
   "id": "6777597fdc30fd13",
   "outputs": [],
   "execution_count": null
  }
 ],
 "metadata": {
  "kernelspec": {
   "display_name": "Python 3",
   "language": "python",
   "name": "python3"
  },
  "language_info": {
   "codemirror_mode": {
    "name": "ipython",
    "version": 2
   },
   "file_extension": ".py",
   "mimetype": "text/x-python",
   "name": "python",
   "nbconvert_exporter": "python",
   "pygments_lexer": "ipython2",
   "version": "2.7.6"
  }
 },
 "nbformat": 4,
 "nbformat_minor": 5
}
