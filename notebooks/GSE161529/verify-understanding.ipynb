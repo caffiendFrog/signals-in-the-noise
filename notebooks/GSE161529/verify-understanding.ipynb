{
 "cells": [
  {
   "cell_type": "markdown",
   "id": "1e0d4425-50fb-443c-b5ed-1e0fab5d3e1b",
   "metadata": {},
   "source": [
    "# Normal breast epithelia comprise three major populations plus transient intermediates\n",
    "\n",
    "This notebook attempts to reproduce the analysis done to arrive at the source papers first result, normal breast tissue contains three major types of cells: basal, luminal progenitor, and mature luminal.\n",
    "\n",
    "This analysis was performed on the single-cell RNA sequencing data for 11 subjects, corresponding to the following identifiers:\n",
    "|\"Sample\" identifier|File identifier|\n",
    "|---|---|\n",
    "|N-1105-epi|`GSM4909260_N-N1105-Epi`|\n",
    "|N-0280-epi|`GSM4909255_N-N280-Epi`|\n",
    "|N-0230.16-epi|`GSM4909264_N-N1B-Epi`|\n",
    "|N-0408-epi|`GSM4909259_N-NE-Epi`|\n",
    "|N-1469-epi|`GSM4909258_N-NF-Epi`|\n",
    "|N-0123-epi|`GSM4909267_N-MH0023-Epi`|\n",
    "|N-0064-epi|`GSM4909313_N-MH0064-Epi`|\n",
    "|N-0093-epi|`GSM4909256_N-PM0095-Epi`|\n",
    "|N-0342-epi|`GSM4909269_N-PM0342-Epi`|\n",
    "|N-0372-epi|`GSM4909275_N-PM0372-Epi`|\n",
    "|N-0275-epi|`GSM4909273_N-MH275-Epi`|\n",
    "\n",
    "This table was arrived at through:\n",
    "* Figure 1c in the source article lists the \"Sample\" (quotes to emphasize in the context of the article, a sample is analogous to a human subject) identifiers used.\n",
    "* Supplementary table 1 of the source article maps identifiers to file identifiers."
   ]
  },
  {
   "cell_type": "markdown",
   "id": "bcbb0f0d-84e5-41f2-9d15-22a5a93d107f",
   "metadata": {},
   "source": [
    "## 1. Additional preprocessing\n",
    "For this finding, the authors leveraged the work of Lim *et al* (2009) [2] for the gene signatures of basal, luminal progenitor, and mature luminal signatures. Using these signatures, the authors were able to classify the sequencing data as either one of these 3 populations or other.\n",
    "\n",
    "To reproduce their analysis, I use the following supplementary files from Lim *et al* that contain the gene signature to classify the cell data:\n",
    "|Population|Filename|\n",
    "|---|---|\n",
    "|basal|`41591_2009_BFnm2000_MOESM13_ESM.xls`|\n",
    "|luminal progenitor (lp)|`41591_2009_BFnm2000_MOESM14_ESM.xls`|\n",
    "|mature luminal (ml)|`41591_2009_BFnm2000_MOESM15_ESM.xls`|"
   ]
  },
  {
   "cell_type": "code",
   "execution_count": 3,
   "id": "e71a4a05-86f8-49d1-a716-6d6f409cf7e2",
   "metadata": {},
   "outputs": [],
   "source": [
    "gene_signature_filenames = {\n",
    "    'basal': '41591_2009_BFnm2000_MOESM13_ESM.xls',\n",
    "    'lp': '41591_2009_BFnm2000_MOESM14_ESM.xls',\n",
    "    'ml': '41591_2009_BFnm2000_MOESM15_ESM.xls',\n",
    "}"
   ]
  },
  {
   "cell_type": "code",
   "execution_count": 6,
   "id": "377ff1af-25cb-473e-bb41-885b63b5021a",
   "metadata": {},
   "outputs": [],
   "source": [
    "import pandas as pd\n",
    "from signals_in_the_noise.utilities.storage import get_resources_path"
   ]
  },
  {
   "cell_type": "code",
   "execution_count": 8,
   "id": "a7989079-fdd6-4440-b46d-c2c8afb754ee",
   "metadata": {},
   "outputs": [
    {
     "ename": "ImportError",
     "evalue": "Missing optional dependency 'xlrd'. Install xlrd >= 2.0.1 for xls Excel support Use pip or conda to install xlrd.",
     "output_type": "error",
     "traceback": [
      "\u001b[31m---------------------------------------------------------------------------\u001b[39m",
      "\u001b[31mModuleNotFoundError\u001b[39m                       Traceback (most recent call last)",
      "\u001b[36mFile \u001b[39m\u001b[32m~\\GitHub\\signals-in-the-noise\\.venv\\Lib\\site-packages\\pandas\\compat\\_optional.py:135\u001b[39m, in \u001b[36mimport_optional_dependency\u001b[39m\u001b[34m(name, extra, errors, min_version)\u001b[39m\n\u001b[32m    134\u001b[39m \u001b[38;5;28;01mtry\u001b[39;00m:\n\u001b[32m--> \u001b[39m\u001b[32m135\u001b[39m     module = \u001b[43mimportlib\u001b[49m\u001b[43m.\u001b[49m\u001b[43mimport_module\u001b[49m\u001b[43m(\u001b[49m\u001b[43mname\u001b[49m\u001b[43m)\u001b[49m\n\u001b[32m    136\u001b[39m \u001b[38;5;28;01mexcept\u001b[39;00m \u001b[38;5;167;01mImportError\u001b[39;00m:\n",
      "\u001b[36mFile \u001b[39m\u001b[32m~\\AppData\\Local\\Programs\\Python\\Python312\\Lib\\importlib\\__init__.py:90\u001b[39m, in \u001b[36mimport_module\u001b[39m\u001b[34m(name, package)\u001b[39m\n\u001b[32m     89\u001b[39m         level += \u001b[32m1\u001b[39m\n\u001b[32m---> \u001b[39m\u001b[32m90\u001b[39m \u001b[38;5;28;01mreturn\u001b[39;00m \u001b[43m_bootstrap\u001b[49m\u001b[43m.\u001b[49m\u001b[43m_gcd_import\u001b[49m\u001b[43m(\u001b[49m\u001b[43mname\u001b[49m\u001b[43m[\u001b[49m\u001b[43mlevel\u001b[49m\u001b[43m:\u001b[49m\u001b[43m]\u001b[49m\u001b[43m,\u001b[49m\u001b[43m \u001b[49m\u001b[43mpackage\u001b[49m\u001b[43m,\u001b[49m\u001b[43m \u001b[49m\u001b[43mlevel\u001b[49m\u001b[43m)\u001b[49m\n",
      "\u001b[36mFile \u001b[39m\u001b[32m<frozen importlib._bootstrap>:1387\u001b[39m, in \u001b[36m_gcd_import\u001b[39m\u001b[34m(name, package, level)\u001b[39m\n",
      "\u001b[36mFile \u001b[39m\u001b[32m<frozen importlib._bootstrap>:1360\u001b[39m, in \u001b[36m_find_and_load\u001b[39m\u001b[34m(name, import_)\u001b[39m\n",
      "\u001b[36mFile \u001b[39m\u001b[32m<frozen importlib._bootstrap>:1324\u001b[39m, in \u001b[36m_find_and_load_unlocked\u001b[39m\u001b[34m(name, import_)\u001b[39m\n",
      "\u001b[31mModuleNotFoundError\u001b[39m: No module named 'xlrd'",
      "\nDuring handling of the above exception, another exception occurred:\n",
      "\u001b[31mImportError\u001b[39m                               Traceback (most recent call last)",
      "\u001b[36mCell\u001b[39m\u001b[36m \u001b[39m\u001b[32mIn[8]\u001b[39m\u001b[32m, line 1\u001b[39m\n\u001b[32m----> \u001b[39m\u001b[32m1\u001b[39m df = \u001b[43mpd\u001b[49m\u001b[43m.\u001b[49m\u001b[43mread_excel\u001b[49m\u001b[43m(\u001b[49m\u001b[43mget_resources_path\u001b[49m\u001b[43m(\u001b[49m\u001b[43mgse\u001b[49m\u001b[43m.\u001b[49m\u001b[43mSTUDY_ID\u001b[49m\u001b[43m \u001b[49m\u001b[43m+\u001b[49m\u001b[43m \u001b[49m\u001b[33;43m'\u001b[39;49m\u001b[33;43m/\u001b[39;49m\u001b[33;43m'\u001b[39;49m\u001b[43m \u001b[49m\u001b[43m+\u001b[49m\u001b[43m \u001b[49m\u001b[43mgene_signature_filenames\u001b[49m\u001b[43m[\u001b[49m\u001b[33;43m'\u001b[39;49m\u001b[33;43mbasal\u001b[39;49m\u001b[33;43m'\u001b[39;49m\u001b[43m]\u001b[49m\u001b[43m)\u001b[49m\u001b[43m)\u001b[49m\n\u001b[32m      2\u001b[39m gse.STUDY_ID\n",
      "\u001b[36mFile \u001b[39m\u001b[32m~\\GitHub\\signals-in-the-noise\\.venv\\Lib\\site-packages\\pandas\\io\\excel\\_base.py:495\u001b[39m, in \u001b[36mread_excel\u001b[39m\u001b[34m(io, sheet_name, header, names, index_col, usecols, dtype, engine, converters, true_values, false_values, skiprows, nrows, na_values, keep_default_na, na_filter, verbose, parse_dates, date_parser, date_format, thousands, decimal, comment, skipfooter, storage_options, dtype_backend, engine_kwargs)\u001b[39m\n\u001b[32m    493\u001b[39m \u001b[38;5;28;01mif\u001b[39;00m \u001b[38;5;129;01mnot\u001b[39;00m \u001b[38;5;28misinstance\u001b[39m(io, ExcelFile):\n\u001b[32m    494\u001b[39m     should_close = \u001b[38;5;28;01mTrue\u001b[39;00m\n\u001b[32m--> \u001b[39m\u001b[32m495\u001b[39m     io = \u001b[43mExcelFile\u001b[49m\u001b[43m(\u001b[49m\n\u001b[32m    496\u001b[39m \u001b[43m        \u001b[49m\u001b[43mio\u001b[49m\u001b[43m,\u001b[49m\n\u001b[32m    497\u001b[39m \u001b[43m        \u001b[49m\u001b[43mstorage_options\u001b[49m\u001b[43m=\u001b[49m\u001b[43mstorage_options\u001b[49m\u001b[43m,\u001b[49m\n\u001b[32m    498\u001b[39m \u001b[43m        \u001b[49m\u001b[43mengine\u001b[49m\u001b[43m=\u001b[49m\u001b[43mengine\u001b[49m\u001b[43m,\u001b[49m\n\u001b[32m    499\u001b[39m \u001b[43m        \u001b[49m\u001b[43mengine_kwargs\u001b[49m\u001b[43m=\u001b[49m\u001b[43mengine_kwargs\u001b[49m\u001b[43m,\u001b[49m\n\u001b[32m    500\u001b[39m \u001b[43m    \u001b[49m\u001b[43m)\u001b[49m\n\u001b[32m    501\u001b[39m \u001b[38;5;28;01melif\u001b[39;00m engine \u001b[38;5;129;01mand\u001b[39;00m engine != io.engine:\n\u001b[32m    502\u001b[39m     \u001b[38;5;28;01mraise\u001b[39;00m \u001b[38;5;167;01mValueError\u001b[39;00m(\n\u001b[32m    503\u001b[39m         \u001b[33m\"\u001b[39m\u001b[33mEngine should not be specified when passing \u001b[39m\u001b[33m\"\u001b[39m\n\u001b[32m    504\u001b[39m         \u001b[33m\"\u001b[39m\u001b[33man ExcelFile - ExcelFile already has the engine set\u001b[39m\u001b[33m\"\u001b[39m\n\u001b[32m    505\u001b[39m     )\n",
      "\u001b[36mFile \u001b[39m\u001b[32m~\\GitHub\\signals-in-the-noise\\.venv\\Lib\\site-packages\\pandas\\io\\excel\\_base.py:1567\u001b[39m, in \u001b[36mExcelFile.__init__\u001b[39m\u001b[34m(self, path_or_buffer, engine, storage_options, engine_kwargs)\u001b[39m\n\u001b[32m   1564\u001b[39m \u001b[38;5;28mself\u001b[39m.engine = engine\n\u001b[32m   1565\u001b[39m \u001b[38;5;28mself\u001b[39m.storage_options = storage_options\n\u001b[32m-> \u001b[39m\u001b[32m1567\u001b[39m \u001b[38;5;28mself\u001b[39m._reader = \u001b[38;5;28;43mself\u001b[39;49m\u001b[43m.\u001b[49m\u001b[43m_engines\u001b[49m\u001b[43m[\u001b[49m\u001b[43mengine\u001b[49m\u001b[43m]\u001b[49m\u001b[43m(\u001b[49m\n\u001b[32m   1568\u001b[39m \u001b[43m    \u001b[49m\u001b[38;5;28;43mself\u001b[39;49m\u001b[43m.\u001b[49m\u001b[43m_io\u001b[49m\u001b[43m,\u001b[49m\n\u001b[32m   1569\u001b[39m \u001b[43m    \u001b[49m\u001b[43mstorage_options\u001b[49m\u001b[43m=\u001b[49m\u001b[43mstorage_options\u001b[49m\u001b[43m,\u001b[49m\n\u001b[32m   1570\u001b[39m \u001b[43m    \u001b[49m\u001b[43mengine_kwargs\u001b[49m\u001b[43m=\u001b[49m\u001b[43mengine_kwargs\u001b[49m\u001b[43m,\u001b[49m\n\u001b[32m   1571\u001b[39m \u001b[43m\u001b[49m\u001b[43m)\u001b[49m\n",
      "\u001b[36mFile \u001b[39m\u001b[32m~\\GitHub\\signals-in-the-noise\\.venv\\Lib\\site-packages\\pandas\\io\\excel\\_xlrd.py:45\u001b[39m, in \u001b[36mXlrdReader.__init__\u001b[39m\u001b[34m(self, filepath_or_buffer, storage_options, engine_kwargs)\u001b[39m\n\u001b[32m     33\u001b[39m \u001b[38;5;250m\u001b[39m\u001b[33;03m\"\"\"\u001b[39;00m\n\u001b[32m     34\u001b[39m \u001b[33;03mReader using xlrd engine.\u001b[39;00m\n\u001b[32m     35\u001b[39m \n\u001b[32m   (...)\u001b[39m\u001b[32m     42\u001b[39m \u001b[33;03m    Arbitrary keyword arguments passed to excel engine.\u001b[39;00m\n\u001b[32m     43\u001b[39m \u001b[33;03m\"\"\"\u001b[39;00m\n\u001b[32m     44\u001b[39m err_msg = \u001b[33m\"\u001b[39m\u001b[33mInstall xlrd >= 2.0.1 for xls Excel support\u001b[39m\u001b[33m\"\u001b[39m\n\u001b[32m---> \u001b[39m\u001b[32m45\u001b[39m \u001b[43mimport_optional_dependency\u001b[49m\u001b[43m(\u001b[49m\u001b[33;43m\"\u001b[39;49m\u001b[33;43mxlrd\u001b[39;49m\u001b[33;43m\"\u001b[39;49m\u001b[43m,\u001b[49m\u001b[43m \u001b[49m\u001b[43mextra\u001b[49m\u001b[43m=\u001b[49m\u001b[43merr_msg\u001b[49m\u001b[43m)\u001b[49m\n\u001b[32m     46\u001b[39m \u001b[38;5;28msuper\u001b[39m().\u001b[34m__init__\u001b[39m(\n\u001b[32m     47\u001b[39m     filepath_or_buffer,\n\u001b[32m     48\u001b[39m     storage_options=storage_options,\n\u001b[32m     49\u001b[39m     engine_kwargs=engine_kwargs,\n\u001b[32m     50\u001b[39m )\n",
      "\u001b[36mFile \u001b[39m\u001b[32m~\\GitHub\\signals-in-the-noise\\.venv\\Lib\\site-packages\\pandas\\compat\\_optional.py:138\u001b[39m, in \u001b[36mimport_optional_dependency\u001b[39m\u001b[34m(name, extra, errors, min_version)\u001b[39m\n\u001b[32m    136\u001b[39m \u001b[38;5;28;01mexcept\u001b[39;00m \u001b[38;5;167;01mImportError\u001b[39;00m:\n\u001b[32m    137\u001b[39m     \u001b[38;5;28;01mif\u001b[39;00m errors == \u001b[33m\"\u001b[39m\u001b[33mraise\u001b[39m\u001b[33m\"\u001b[39m:\n\u001b[32m--> \u001b[39m\u001b[32m138\u001b[39m         \u001b[38;5;28;01mraise\u001b[39;00m \u001b[38;5;167;01mImportError\u001b[39;00m(msg)\n\u001b[32m    139\u001b[39m     \u001b[38;5;28;01mreturn\u001b[39;00m \u001b[38;5;28;01mNone\u001b[39;00m\n\u001b[32m    141\u001b[39m \u001b[38;5;66;03m# Handle submodules: if we have submodule, grab parent module from sys.modules\u001b[39;00m\n",
      "\u001b[31mImportError\u001b[39m: Missing optional dependency 'xlrd'. Install xlrd >= 2.0.1 for xls Excel support Use pip or conda to install xlrd."
     ]
    }
   ],
   "source": [
    "df = pd.read_excel(get_resources_path(gse.STUDY_ID + '/' + gene_signature_filenames['basal']))\n",
    "gse.STUDY_ID"
   ]
  },
  {
   "cell_type": "code",
   "execution_count": null,
   "id": "1c0285a6-3cae-40d3-9f4a-c09f928d38ad",
   "metadata": {},
   "outputs": [],
   "source": []
  },
  {
   "cell_type": "code",
   "execution_count": 1,
   "id": "7838e0be-8b56-48bf-9b8f-ff2395115470",
   "metadata": {
    "scrolled": true
   },
   "outputs": [
    {
     "name": "stderr",
     "output_type": "stream",
     "text": [
      "2025-07-10 20:43:31,825 [INFO] signals_in_the_noise.utilities.tenx_genomics: Reading C:\\Users\\silly\\GitHub\\signals-in-the-noise\\data\\GSE161529_adata_cache\\GSM4909253_N-PM0092-Total.h5ad as AnnData object.\n",
      "2025-07-10 20:43:32,138 [INFO] signals_in_the_noise.utilities.tenx_genomics: Reading C:\\Users\\silly\\GitHub\\signals-in-the-noise\\data\\GSE161529_adata_cache\\GSM4909254_N-PM0019-Total.h5ad as AnnData object.\n",
      "2025-07-10 20:43:32,507 [INFO] signals_in_the_noise.utilities.tenx_genomics: Reading C:\\Users\\silly\\GitHub\\signals-in-the-noise\\data\\GSE161529_adata_cache\\GSM4909255_N-N280-Epi.h5ad as AnnData object.\n",
      "2025-07-10 20:43:32,669 [INFO] signals_in_the_noise.utilities.tenx_genomics: Reading C:\\Users\\silly\\GitHub\\signals-in-the-noise\\data\\GSE161529_adata_cache\\GSM4909256_N-PM0095-Epi.h5ad as AnnData object.\n",
      "2025-07-10 20:43:32,959 [INFO] signals_in_the_noise.utilities.tenx_genomics: Reading C:\\Users\\silly\\GitHub\\signals-in-the-noise\\data\\GSE161529_adata_cache\\GSM4909257_N-PM0095-Total.h5ad as AnnData object.\n",
      "2025-07-10 20:43:33,234 [INFO] signals_in_the_noise.utilities.tenx_genomics: Reading C:\\Users\\silly\\GitHub\\signals-in-the-noise\\data\\GSE161529_adata_cache\\GSM4909258_N-NF-Epi.h5ad as AnnData object.\n",
      "2025-07-10 20:43:33,445 [INFO] signals_in_the_noise.utilities.tenx_genomics: Reading C:\\Users\\silly\\GitHub\\signals-in-the-noise\\data\\GSE161529_adata_cache\\GSM4909259_N-NE-Epi.h5ad as AnnData object.\n",
      "2025-07-10 20:43:33,623 [INFO] signals_in_the_noise.utilities.tenx_genomics: Reading C:\\Users\\silly\\GitHub\\signals-in-the-noise\\data\\GSE161529_adata_cache\\GSM4909260_N-N1105-Epi.h5ad as AnnData object.\n",
      "2025-07-10 20:43:33,992 [INFO] signals_in_the_noise.utilities.tenx_genomics: Reading C:\\Users\\silly\\GitHub\\signals-in-the-noise\\data\\GSE161529_adata_cache\\GSM4909261_N-PM0230-Total.h5ad as AnnData object.\n",
      "2025-07-10 20:43:34,219 [INFO] signals_in_the_noise.utilities.tenx_genomics: Reading C:\\Users\\silly\\GitHub\\signals-in-the-noise\\data\\GSE161529_adata_cache\\GSM4909262_N-MH0064-Epi.h5ad as AnnData object.\n",
      "2025-07-10 20:43:34,491 [INFO] signals_in_the_noise.utilities.tenx_genomics: Reading C:\\Users\\silly\\GitHub\\signals-in-the-noise\\data\\GSE161529_adata_cache\\GSM4909263_N-MH0064-Total.h5ad as AnnData object.\n",
      "2025-07-10 20:43:34,696 [INFO] signals_in_the_noise.utilities.tenx_genomics: Reading C:\\Users\\silly\\GitHub\\signals-in-the-noise\\data\\GSE161529_adata_cache\\GSM4909264_N-N1B-Epi.h5ad as AnnData object.\n",
      "2025-07-10 20:43:34,928 [INFO] signals_in_the_noise.utilities.tenx_genomics: Reading C:\\Users\\silly\\GitHub\\signals-in-the-noise\\data\\GSE161529_adata_cache\\GSM4909265_N-PM0233-Total.h5ad as AnnData object.\n",
      "2025-07-10 20:43:35,322 [INFO] signals_in_the_noise.utilities.tenx_genomics: Reading C:\\Users\\silly\\GitHub\\signals-in-the-noise\\data\\GSE161529_adata_cache\\GSM4909266_N-MH0169-Total.h5ad as AnnData object.\n",
      "2025-07-10 20:43:35,651 [INFO] signals_in_the_noise.utilities.tenx_genomics: Reading C:\\Users\\silly\\GitHub\\signals-in-the-noise\\data\\GSE161529_adata_cache\\GSM4909267_N-MH0023-Epi.h5ad as AnnData object.\n",
      "2025-07-10 20:43:35,934 [INFO] signals_in_the_noise.utilities.tenx_genomics: Reading C:\\Users\\silly\\GitHub\\signals-in-the-noise\\data\\GSE161529_adata_cache\\GSM4909268_N-MH0023-Total.h5ad as AnnData object.\n",
      "2025-07-10 20:43:36,335 [INFO] signals_in_the_noise.utilities.tenx_genomics: Reading C:\\Users\\silly\\GitHub\\signals-in-the-noise\\data\\GSE161529_adata_cache\\GSM4909269_N-PM0342-Epi.h5ad as AnnData object.\n",
      "2025-07-10 20:43:36,793 [INFO] signals_in_the_noise.utilities.tenx_genomics: Reading C:\\Users\\silly\\GitHub\\signals-in-the-noise\\data\\GSE161529_adata_cache\\GSM4909270_N-PM0342-Total.h5ad as AnnData object.\n",
      "2025-07-10 20:43:37,199 [INFO] signals_in_the_noise.utilities.tenx_genomics: Reading C:\\Users\\silly\\GitHub\\signals-in-the-noise\\data\\GSE161529_adata_cache\\GSM4909271_N-MH288-Total.h5ad as AnnData object.\n",
      "2025-07-10 20:43:37,433 [INFO] signals_in_the_noise.utilities.tenx_genomics: Reading C:\\Users\\silly\\GitHub\\signals-in-the-noise\\data\\GSE161529_adata_cache\\GSM4909272_N-MH0021-Total.h5ad as AnnData object.\n",
      "2025-07-10 20:43:37,573 [INFO] signals_in_the_noise.utilities.tenx_genomics: Reading C:\\Users\\silly\\GitHub\\signals-in-the-noise\\data\\GSE161529_adata_cache\\GSM4909273_N-MH275-Epi.h5ad as AnnData object.\n",
      "2025-07-10 20:43:37,859 [INFO] signals_in_the_noise.utilities.tenx_genomics: Reading C:\\Users\\silly\\GitHub\\signals-in-the-noise\\data\\GSE161529_adata_cache\\GSM4909274_N-MH275-Total.h5ad as AnnData object.\n",
      "2025-07-10 20:43:38,064 [INFO] signals_in_the_noise.utilities.tenx_genomics: Reading C:\\Users\\silly\\GitHub\\signals-in-the-noise\\data\\GSE161529_adata_cache\\GSM4909275_N-PM0372-Epi.h5ad as AnnData object.\n",
      "2025-07-10 20:43:38,470 [INFO] signals_in_the_noise.utilities.tenx_genomics: Reading C:\\Users\\silly\\GitHub\\signals-in-the-noise\\data\\GSE161529_adata_cache\\GSM4909276_N-PM0372-Total.h5ad as AnnData object.\n",
      "2025-07-10 20:43:38,704 [INFO] signals_in_the_noise.utilities.tenx_genomics: Reading C:\\Users\\silly\\GitHub\\signals-in-the-noise\\data\\GSE161529_adata_cache\\GSM4909277_B1-KCF0894.h5ad as AnnData object.\n",
      "2025-07-10 20:43:38,995 [INFO] signals_in_the_noise.utilities.tenx_genomics: Reading C:\\Users\\silly\\GitHub\\signals-in-the-noise\\data\\GSE161529_adata_cache\\GSM4909278_B1-MH0033.h5ad as AnnData object.\n",
      "2025-07-10 20:43:39,241 [INFO] signals_in_the_noise.utilities.tenx_genomics: Reading C:\\Users\\silly\\GitHub\\signals-in-the-noise\\data\\GSE161529_adata_cache\\GSM4909279_B1-MH0023.h5ad as AnnData object.\n",
      "2025-07-10 20:43:39,458 [INFO] signals_in_the_noise.utilities.tenx_genomics: Reading C:\\Users\\silly\\GitHub\\signals-in-the-noise\\data\\GSE161529_adata_cache\\GSM4909280_B1-MH0090.h5ad as AnnData object.\n",
      "2025-07-10 20:43:39,666 [INFO] signals_in_the_noise.utilities.tenx_genomics: Reading C:\\Users\\silly\\GitHub\\signals-in-the-noise\\data\\GSE161529_adata_cache\\GSM4909281_TN-MH0126.h5ad as AnnData object.\n",
      "2025-07-10 20:43:39,850 [INFO] signals_in_the_noise.utilities.tenx_genomics: Reading C:\\Users\\silly\\GitHub\\signals-in-the-noise\\data\\GSE161529_adata_cache\\GSM4909282_TN-MH0135.h5ad as AnnData object.\n",
      "2025-07-10 20:43:40,444 [INFO] signals_in_the_noise.utilities.tenx_genomics: Reading C:\\Users\\silly\\GitHub\\signals-in-the-noise\\data\\GSE161529_adata_cache\\GSM4909283_TN-SH0106.h5ad as AnnData object.\n",
      "2025-07-10 20:43:40,657 [INFO] signals_in_the_noise.utilities.tenx_genomics: Reading C:\\Users\\silly\\GitHub\\signals-in-the-noise\\data\\GSE161529_adata_cache\\GSM4909284_TN-MH0114-T2.h5ad as AnnData object.\n",
      "2025-07-10 20:43:40,819 [INFO] signals_in_the_noise.utilities.tenx_genomics: Reading C:\\Users\\silly\\GitHub\\signals-in-the-noise\\data\\GSE161529_adata_cache\\GSM4909285_TN-B1-MH4031.h5ad as AnnData object.\n",
      "2025-07-10 20:43:41,081 [INFO] signals_in_the_noise.utilities.tenx_genomics: Reading C:\\Users\\silly\\GitHub\\signals-in-the-noise\\data\\GSE161529_adata_cache\\GSM4909286_TN-B1-MH0131.h5ad as AnnData object.\n",
      "2025-07-10 20:43:41,336 [INFO] signals_in_the_noise.utilities.tenx_genomics: Reading C:\\Users\\silly\\GitHub\\signals-in-the-noise\\data\\GSE161529_adata_cache\\GSM4909287_TN-B1-Tum0554.h5ad as AnnData object.\n",
      "2025-07-10 20:43:41,632 [INFO] signals_in_the_noise.utilities.tenx_genomics: Reading C:\\Users\\silly\\GitHub\\signals-in-the-noise\\data\\GSE161529_adata_cache\\GSM4909288_TN-B1-MH0177.h5ad as AnnData object.\n",
      "2025-07-10 20:43:42,103 [INFO] signals_in_the_noise.utilities.tenx_genomics: Reading C:\\Users\\silly\\GitHub\\signals-in-the-noise\\data\\GSE161529_adata_cache\\GSM4909289_HER2-AH0308.h5ad as AnnData object.\n",
      "2025-07-10 20:43:42,368 [INFO] signals_in_the_noise.utilities.tenx_genomics: Reading C:\\Users\\silly\\GitHub\\signals-in-the-noise\\data\\GSE161529_adata_cache\\GSM4909290_HER2-PM0337.h5ad as AnnData object.\n",
      "2025-07-10 20:43:42,781 [INFO] signals_in_the_noise.utilities.tenx_genomics: Reading C:\\Users\\silly\\GitHub\\signals-in-the-noise\\data\\GSE161529_adata_cache\\GSM4909291_HER2-MH0031.h5ad as AnnData object.\n",
      "2025-07-10 20:43:43,114 [INFO] signals_in_the_noise.utilities.tenx_genomics: Reading C:\\Users\\silly\\GitHub\\signals-in-the-noise\\data\\GSE161529_adata_cache\\GSM4909292_HER2-MH0069.h5ad as AnnData object.\n",
      "2025-07-10 20:43:43,221 [INFO] signals_in_the_noise.utilities.tenx_genomics: Reading C:\\Users\\silly\\GitHub\\signals-in-the-noise\\data\\GSE161529_adata_cache\\GSM4909293_HER2-MH0161.h5ad as AnnData object.\n",
      "2025-07-10 20:43:43,513 [INFO] signals_in_the_noise.utilities.tenx_genomics: Reading C:\\Users\\silly\\GitHub\\signals-in-the-noise\\data\\GSE161529_adata_cache\\GSM4909294_HER2-MH0176.h5ad as AnnData object.\n",
      "2025-07-10 20:43:43,901 [INFO] signals_in_the_noise.utilities.tenx_genomics: Reading C:\\Users\\silly\\GitHub\\signals-in-the-noise\\data\\GSE161529_adata_cache\\GSM4909295_ER-AH0319.h5ad as AnnData object.\n",
      "2025-07-10 20:43:44,109 [INFO] signals_in_the_noise.utilities.tenx_genomics: Reading C:\\Users\\silly\\GitHub\\signals-in-the-noise\\data\\GSE161529_adata_cache\\GSM4909296_ER-MH0001.h5ad as AnnData object.\n",
      "2025-07-10 20:43:44,332 [INFO] signals_in_the_noise.utilities.tenx_genomics: Reading C:\\Users\\silly\\GitHub\\signals-in-the-noise\\data\\GSE161529_adata_cache\\GSM4909297_ER-MH0125.h5ad as AnnData object.\n",
      "2025-07-10 20:43:44,614 [INFO] signals_in_the_noise.utilities.tenx_genomics: Reading C:\\Users\\silly\\GitHub\\signals-in-the-noise\\data\\GSE161529_adata_cache\\GSM4909298_ER-PM0360.h5ad as AnnData object.\n",
      "2025-07-10 20:43:44,829 [INFO] signals_in_the_noise.utilities.tenx_genomics: Reading C:\\Users\\silly\\GitHub\\signals-in-the-noise\\data\\GSE161529_adata_cache\\GSM4909299_ER-MH0114-T3.h5ad as AnnData object.\n",
      "2025-07-10 20:43:45,159 [INFO] signals_in_the_noise.utilities.tenx_genomics: Reading C:\\Users\\silly\\GitHub\\signals-in-the-noise\\data\\GSE161529_adata_cache\\GSM4909300_ER-MH0032.h5ad as AnnData object.\n",
      "2025-07-10 20:43:45,287 [INFO] signals_in_the_noise.utilities.tenx_genomics: Reading C:\\Users\\silly\\GitHub\\signals-in-the-noise\\data\\GSE161529_adata_cache\\GSM4909301_ER-MH0042.h5ad as AnnData object.\n",
      "2025-07-10 20:43:45,479 [INFO] signals_in_the_noise.utilities.tenx_genomics: Reading C:\\Users\\silly\\GitHub\\signals-in-the-noise\\data\\GSE161529_adata_cache\\GSM4909302_ER-MH0025.h5ad as AnnData object.\n",
      "2025-07-10 20:43:45,818 [INFO] signals_in_the_noise.utilities.tenx_genomics: Reading C:\\Users\\silly\\GitHub\\signals-in-the-noise\\data\\GSE161529_adata_cache\\GSM4909303_ER-MH0151.h5ad as AnnData object.\n",
      "2025-07-10 20:43:46,011 [INFO] signals_in_the_noise.utilities.tenx_genomics: Reading C:\\Users\\silly\\GitHub\\signals-in-the-noise\\data\\GSE161529_adata_cache\\GSM4909304_ER-MH0163.h5ad as AnnData object.\n",
      "2025-07-10 20:43:46,268 [INFO] signals_in_the_noise.utilities.tenx_genomics: Reading C:\\Users\\silly\\GitHub\\signals-in-the-noise\\data\\GSE161529_adata_cache\\GSM4909305_ER-MH0029-7C.h5ad as AnnData object.\n",
      "2025-07-10 20:43:46,443 [INFO] signals_in_the_noise.utilities.tenx_genomics: Reading C:\\Users\\silly\\GitHub\\signals-in-the-noise\\data\\GSE161529_adata_cache\\GSM4909306_ER-MH0029-9C.h5ad as AnnData object.\n",
      "2025-07-10 20:43:46,714 [INFO] signals_in_the_noise.utilities.tenx_genomics: Reading C:\\Users\\silly\\GitHub\\signals-in-the-noise\\data\\GSE161529_adata_cache\\GSM4909307_ER-MH0040.h5ad as AnnData object.\n",
      "2025-07-10 20:43:46,917 [INFO] signals_in_the_noise.utilities.tenx_genomics: Reading C:\\Users\\silly\\GitHub\\signals-in-the-noise\\data\\GSE161529_adata_cache\\GSM4909308_ER-MH0040-LN.h5ad as AnnData object.\n",
      "2025-07-10 20:43:47,189 [INFO] signals_in_the_noise.utilities.tenx_genomics: Reading C:\\Users\\silly\\GitHub\\signals-in-the-noise\\data\\GSE161529_adata_cache\\GSM4909309_ER-MH0043-T.h5ad as AnnData object.\n",
      "2025-07-10 20:43:47,472 [INFO] signals_in_the_noise.utilities.tenx_genomics: Reading C:\\Users\\silly\\GitHub\\signals-in-the-noise\\data\\GSE161529_adata_cache\\GSM4909310_ER-MH0043-LN.h5ad as AnnData object.\n",
      "2025-07-10 20:43:47,600 [INFO] signals_in_the_noise.utilities.tenx_genomics: Reading C:\\Users\\silly\\GitHub\\signals-in-the-noise\\data\\GSE161529_adata_cache\\GSM4909311_ER-MH0056-T.h5ad as AnnData object.\n",
      "2025-07-10 20:43:47,737 [INFO] signals_in_the_noise.utilities.tenx_genomics: Reading C:\\Users\\silly\\GitHub\\signals-in-the-noise\\data\\GSE161529_adata_cache\\GSM4909312_ER-MH0056-LN.h5ad as AnnData object.\n",
      "2025-07-10 20:43:47,953 [INFO] signals_in_the_noise.utilities.tenx_genomics: Reading C:\\Users\\silly\\GitHub\\signals-in-the-noise\\data\\GSE161529_adata_cache\\GSM4909313_ER-MH0064-T.h5ad as AnnData object.\n",
      "2025-07-10 20:43:48,143 [INFO] signals_in_the_noise.utilities.tenx_genomics: Reading C:\\Users\\silly\\GitHub\\signals-in-the-noise\\data\\GSE161529_adata_cache\\GSM4909314_ER-MH0064-LN.h5ad as AnnData object.\n",
      "2025-07-10 20:43:48,297 [INFO] signals_in_the_noise.utilities.tenx_genomics: Reading C:\\Users\\silly\\GitHub\\signals-in-the-noise\\data\\GSE161529_adata_cache\\GSM4909315_ER-MH0167-T.h5ad as AnnData object.\n",
      "2025-07-10 20:43:48,622 [INFO] signals_in_the_noise.utilities.tenx_genomics: Reading C:\\Users\\silly\\GitHub\\signals-in-the-noise\\data\\GSE161529_adata_cache\\GSM4909316_ER-MH0167-LN.h5ad as AnnData object.\n",
      "2025-07-10 20:43:48,852 [INFO] signals_in_the_noise.utilities.tenx_genomics: Reading C:\\Users\\silly\\GitHub\\signals-in-the-noise\\data\\GSE161529_adata_cache\\GSM4909317_ER-MH0173-T.h5ad as AnnData object.\n",
      "2025-07-10 20:43:49,175 [INFO] signals_in_the_noise.utilities.tenx_genomics: Reading C:\\Users\\silly\\GitHub\\signals-in-the-noise\\data\\GSE161529_adata_cache\\GSM4909318_ER-MH0173-LN.h5ad as AnnData object.\n",
      "2025-07-10 20:43:49,416 [INFO] signals_in_the_noise.utilities.tenx_genomics: Reading C:\\Users\\silly\\GitHub\\signals-in-the-noise\\data\\GSE161529_adata_cache\\GSM4909319_mER-PM0178.h5ad as AnnData object.\n",
      "2025-07-10 20:43:49,598 [INFO] signals_in_the_noise.utilities.tenx_genomics: Reading C:\\Users\\silly\\GitHub\\signals-in-the-noise\\data\\GSE161529_adata_cache\\GSM4909320_mER-MH0068-T.h5ad as AnnData object.\n",
      "2025-07-10 20:43:49,732 [INFO] signals_in_the_noise.utilities.tenx_genomics: Reading C:\\Users\\silly\\GitHub\\signals-in-the-noise\\data\\GSE161529_adata_cache\\GSM4909321_mER-MH0068-LN.h5ad as AnnData object.\n"
     ]
    }
   ],
   "source": [
    "from signals_in_the_noise.preprocessing.data_gse161529 import GSE161529\n",
    "\n",
    "gse = GSE161529()"
   ]
  },
  {
   "cell_type": "code",
   "execution_count": 2,
   "id": "53abd7bd-1bee-4086-b4b1-9d576e33f53c",
   "metadata": {},
   "outputs": [],
   "source": [
    "filenames = [\n",
    "    \"GSM4909260_N-N1105-Epi.h5ad\",\n",
    "    \"GSM4909255_N-N280-Epi.h5ad\",\n",
    "    \"GSM4909264_N-N1B-Epi.h5ad\",\n",
    "    \"GSM4909259_N-NE-Epi.h5ad\",\n",
    "    \"GSM4909258_N-NF-Epi.h5ad\",\n",
    "    \"GSM4909267_N-MH0023-Epi.h5ad\",\n",
    "    \"GSM4909313_N-MH0064-Epi.h5ad\",\n",
    "    \"GSM4909256_N-PM0095-Epi.h5ad\",\n",
    "    \"GSM4909269_N-PM0342-Epi.h5ad\",\n",
    "    \"GSM4909275_N-PM0372-Epi.h5ad\",\n",
    "    \"GSM4909273_N-MH275-Epi.h5ad\",\n",
    "]   "
   ]
  },
  {
   "cell_type": "code",
   "execution_count": null,
   "id": "f0e658ca-f8ac-4114-b610-d05eac9f12bb",
   "metadata": {},
   "outputs": [],
   "source": [
    "adata = gse.objects[fil"
   ]
  }
 ],
 "metadata": {
  "kernelspec": {
   "display_name": "Python 3 (ipykernel)",
   "language": "python",
   "name": "python3"
  },
  "language_info": {
   "codemirror_mode": {
    "name": "ipython",
    "version": 3
   },
   "file_extension": ".py",
   "mimetype": "text/x-python",
   "name": "python",
   "nbconvert_exporter": "python",
   "pygments_lexer": "ipython3",
   "version": "3.12.3"
  }
 },
 "nbformat": 4,
 "nbformat_minor": 5
}
