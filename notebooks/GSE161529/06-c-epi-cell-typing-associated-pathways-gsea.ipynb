{
 "cells": [
  {
   "metadata": {},
   "cell_type": "markdown",
   "source": [
    "# Pathway associated gene expression heatmap\n",
    "\n",
    "This notebook will use heatmaps to visualize the gene expression for selected genes that correspond to selected pathways. These pathways have been selected for their roles in tumor proliferation and chemotherapy resistance.\n",
    "\n",
    "1. Tumor Proliferation\n",
    "    1. G2/M Cell Cycle Checkpoint\n",
    "    2. E2F Regulation\n",
    "2. Chemotherapy Resistance\n",
    "    1. DNA Damage Response (DDR)\n",
    "    2. Unfolded Protein Response (UPR)\n",
    "\n",
    "For these heatmaps, the combined epethilial dataset does **not** filter out the following:\n",
    "\n",
    "* Stromal cells\n",
    "   * This cell type is located in connective tissues. [9]\n",
    "   * \"Source of cancer-associated fibroblasts\" [9, 10]\n",
    "* Genes with low variance across cells\n",
    "   * The two types of cells being analyzed have different descriptive statistics which contributes to the likelihood that filtering out highly variable genes for each of these groups will be more difficult to compare.\n",
    "   * The interest in this notebook is biolical signifcance and/or relevance. Keeping these genes ensures that key insights aren't missed just because they don't drive variance across all the cells.\n",
    "\n",
    "## Gene Set Enrichment Analysis\n",
    "\n",
    "Using `gseapy`, hallmark gene sets are used to determine whether the given pathways are upregulated or downlregulated in the \"noise\" cells."
   ],
   "id": "f9a1e76adc1e9176"
  },
  {
   "metadata": {},
   "cell_type": "markdown",
   "source": "## 0. Initializations",
   "id": "ace4040a5c8430e7"
  },
  {
   "metadata": {
    "ExecuteTime": {
     "end_time": "2025-08-02T23:00:35.309957Z",
     "start_time": "2025-08-02T23:00:34.392152Z"
    }
   },
   "cell_type": "code",
   "source": [
    "# -- imports --\n",
    "import anndata as ad\n",
    "import pandas as pd\n",
    "import matplotlib.pyplot as plt\n",
    "import seaborn as sns\n",
    "import scanpy as sc\n",
    "\n",
    "from signals_in_the_noise.preprocessing.gse161529 import GSE161529\n",
    "from signals_in_the_noise.utilities.storage import get_resources_path\n",
    "from signals_in_the_noise.utilities.visualization import get_figure_axes"
   ],
   "id": "762a2b0599e500c9",
   "outputs": [],
   "execution_count": 1
  },
  {
   "metadata": {
    "ExecuteTime": {
     "end_time": "2025-08-02T23:00:43.153841Z",
     "start_time": "2025-08-02T23:00:35.550950Z"
    }
   },
   "cell_type": "code",
   "source": [
    "# -- datasets --\n",
    "gse = GSE161529()"
   ],
   "id": "793cb49b633261a",
   "outputs": [
    {
     "name": "stderr",
     "output_type": "stream",
     "text": [
      "2025-08-02 19:00:35,555 [INFO] signals_in_the_noise.utilities.tenx_genomics: Reading C:\\Users\\silly\\GitHub\\signals-in-the-noise\\data\\GSE161529_adata_cache\\GSM4909253_N-PM0092-Total.h5ad as AnnData object.\n",
      "2025-08-02 19:00:35,659 [INFO] signals_in_the_noise.utilities.tenx_genomics: Reading C:\\Users\\silly\\GitHub\\signals-in-the-noise\\data\\GSE161529_adata_cache\\GSM4909254_N-PM0019-Total.h5ad as AnnData object.\n",
      "2025-08-02 19:00:35,833 [INFO] signals_in_the_noise.utilities.tenx_genomics: Reading C:\\Users\\silly\\GitHub\\signals-in-the-noise\\data\\GSE161529_adata_cache\\GSM4909255_N-N280-Epi.h5ad as AnnData object.\n",
      "2025-08-02 19:00:35,896 [INFO] signals_in_the_noise.utilities.tenx_genomics: Reading C:\\Users\\silly\\GitHub\\signals-in-the-noise\\data\\GSE161529_adata_cache\\GSM4909256_N-PM0095-Epi.h5ad as AnnData object.\n",
      "2025-08-02 19:00:36,054 [INFO] signals_in_the_noise.utilities.tenx_genomics: Reading C:\\Users\\silly\\GitHub\\signals-in-the-noise\\data\\GSE161529_adata_cache\\GSM4909257_N-PM0095-Total.h5ad as AnnData object.\n",
      "2025-08-02 19:00:36,202 [INFO] signals_in_the_noise.utilities.tenx_genomics: Reading C:\\Users\\silly\\GitHub\\signals-in-the-noise\\data\\GSE161529_adata_cache\\GSM4909258_N-NF-Epi.h5ad as AnnData object.\n",
      "2025-08-02 19:00:36,280 [INFO] signals_in_the_noise.utilities.tenx_genomics: Reading C:\\Users\\silly\\GitHub\\signals-in-the-noise\\data\\GSE161529_adata_cache\\GSM4909259_N-NE-Epi.h5ad as AnnData object.\n",
      "2025-08-02 19:00:36,371 [INFO] signals_in_the_noise.utilities.tenx_genomics: Reading C:\\Users\\silly\\GitHub\\signals-in-the-noise\\data\\GSE161529_adata_cache\\GSM4909260_N-N1105-Epi.h5ad as AnnData object.\n",
      "2025-08-02 19:00:36,500 [INFO] signals_in_the_noise.utilities.tenx_genomics: Reading C:\\Users\\silly\\GitHub\\signals-in-the-noise\\data\\GSE161529_adata_cache\\GSM4909261_N-PM0230-Total.h5ad as AnnData object.\n",
      "2025-08-02 19:00:36,609 [INFO] signals_in_the_noise.utilities.tenx_genomics: Reading C:\\Users\\silly\\GitHub\\signals-in-the-noise\\data\\GSE161529_adata_cache\\GSM4909262_N-MH0064-Epi.h5ad as AnnData object.\n",
      "2025-08-02 19:00:36,687 [INFO] signals_in_the_noise.utilities.tenx_genomics: Reading C:\\Users\\silly\\GitHub\\signals-in-the-noise\\data\\GSE161529_adata_cache\\GSM4909263_N-MH0064-Total.h5ad as AnnData object.\n",
      "2025-08-02 19:00:36,741 [INFO] signals_in_the_noise.utilities.tenx_genomics: Reading C:\\Users\\silly\\GitHub\\signals-in-the-noise\\data\\GSE161529_adata_cache\\GSM4909264_N-N1B-Epi.h5ad as AnnData object.\n",
      "2025-08-02 19:00:36,804 [INFO] signals_in_the_noise.utilities.tenx_genomics: Reading C:\\Users\\silly\\GitHub\\signals-in-the-noise\\data\\GSE161529_adata_cache\\GSM4909265_N-PM0233-Total.h5ad as AnnData object.\n",
      "2025-08-02 19:00:36,945 [INFO] signals_in_the_noise.utilities.tenx_genomics: Reading C:\\Users\\silly\\GitHub\\signals-in-the-noise\\data\\GSE161529_adata_cache\\GSM4909266_N-MH0169-Total.h5ad as AnnData object.\n",
      "2025-08-02 19:00:37,037 [INFO] signals_in_the_noise.utilities.tenx_genomics: Reading C:\\Users\\silly\\GitHub\\signals-in-the-noise\\data\\GSE161529_adata_cache\\GSM4909267_N-MH0023-Epi.h5ad as AnnData object.\n",
      "2025-08-02 19:00:37,113 [INFO] signals_in_the_noise.utilities.tenx_genomics: Reading C:\\Users\\silly\\GitHub\\signals-in-the-noise\\data\\GSE161529_adata_cache\\GSM4909268_N-MH0023-Total.h5ad as AnnData object.\n",
      "2025-08-02 19:00:37,254 [INFO] signals_in_the_noise.utilities.tenx_genomics: Reading C:\\Users\\silly\\GitHub\\signals-in-the-noise\\data\\GSE161529_adata_cache\\GSM4909269_N-PM0342-Epi.h5ad as AnnData object.\n",
      "2025-08-02 19:00:37,421 [INFO] signals_in_the_noise.utilities.tenx_genomics: Reading C:\\Users\\silly\\GitHub\\signals-in-the-noise\\data\\GSE161529_adata_cache\\GSM4909270_N-PM0342-Total.h5ad as AnnData object.\n",
      "2025-08-02 19:00:37,583 [INFO] signals_in_the_noise.utilities.tenx_genomics: Reading C:\\Users\\silly\\GitHub\\signals-in-the-noise\\data\\GSE161529_adata_cache\\GSM4909271_N-MH288-Total.h5ad as AnnData object.\n",
      "2025-08-02 19:00:37,654 [INFO] signals_in_the_noise.utilities.tenx_genomics: Reading C:\\Users\\silly\\GitHub\\signals-in-the-noise\\data\\GSE161529_adata_cache\\GSM4909272_N-MH0021-Total.h5ad as AnnData object.\n",
      "2025-08-02 19:00:37,712 [INFO] signals_in_the_noise.utilities.tenx_genomics: Reading C:\\Users\\silly\\GitHub\\signals-in-the-noise\\data\\GSE161529_adata_cache\\GSM4909273_N-MH275-Epi.h5ad as AnnData object.\n",
      "2025-08-02 19:00:37,841 [INFO] signals_in_the_noise.utilities.tenx_genomics: Reading C:\\Users\\silly\\GitHub\\signals-in-the-noise\\data\\GSE161529_adata_cache\\GSM4909274_N-MH275-Total.h5ad as AnnData object.\n",
      "2025-08-02 19:00:37,913 [INFO] signals_in_the_noise.utilities.tenx_genomics: Reading C:\\Users\\silly\\GitHub\\signals-in-the-noise\\data\\GSE161529_adata_cache\\GSM4909275_N-PM0372-Epi.h5ad as AnnData object.\n",
      "2025-08-02 19:00:38,092 [INFO] signals_in_the_noise.utilities.tenx_genomics: Reading C:\\Users\\silly\\GitHub\\signals-in-the-noise\\data\\GSE161529_adata_cache\\GSM4909276_N-PM0372-Total.h5ad as AnnData object.\n",
      "2025-08-02 19:00:38,220 [INFO] signals_in_the_noise.utilities.tenx_genomics: Reading C:\\Users\\silly\\GitHub\\signals-in-the-noise\\data\\GSE161529_adata_cache\\GSM4909277_B1-KCF0894.h5ad as AnnData object.\n",
      "2025-08-02 19:00:38,349 [INFO] signals_in_the_noise.utilities.tenx_genomics: Reading C:\\Users\\silly\\GitHub\\signals-in-the-noise\\data\\GSE161529_adata_cache\\GSM4909278_B1-MH0033.h5ad as AnnData object.\n",
      "2025-08-02 19:00:38,483 [INFO] signals_in_the_noise.utilities.tenx_genomics: Reading C:\\Users\\silly\\GitHub\\signals-in-the-noise\\data\\GSE161529_adata_cache\\GSM4909279_B1-MH0023.h5ad as AnnData object.\n",
      "2025-08-02 19:00:38,573 [INFO] signals_in_the_noise.utilities.tenx_genomics: Reading C:\\Users\\silly\\GitHub\\signals-in-the-noise\\data\\GSE161529_adata_cache\\GSM4909280_B1-MH0090.h5ad as AnnData object.\n",
      "2025-08-02 19:00:38,666 [INFO] signals_in_the_noise.utilities.tenx_genomics: Reading C:\\Users\\silly\\GitHub\\signals-in-the-noise\\data\\GSE161529_adata_cache\\GSM4909281_TN-MH0126.h5ad as AnnData object.\n",
      "2025-08-02 19:00:38,750 [INFO] signals_in_the_noise.utilities.tenx_genomics: Reading C:\\Users\\silly\\GitHub\\signals-in-the-noise\\data\\GSE161529_adata_cache\\GSM4909282_TN-MH0135.h5ad as AnnData object.\n",
      "2025-08-02 19:00:38,999 [INFO] signals_in_the_noise.utilities.tenx_genomics: Reading C:\\Users\\silly\\GitHub\\signals-in-the-noise\\data\\GSE161529_adata_cache\\GSM4909283_TN-SH0106.h5ad as AnnData object.\n",
      "2025-08-02 19:00:39,058 [INFO] signals_in_the_noise.utilities.tenx_genomics: Reading C:\\Users\\silly\\GitHub\\signals-in-the-noise\\data\\GSE161529_adata_cache\\GSM4909284_TN-MH0114-T2.h5ad as AnnData object.\n",
      "2025-08-02 19:00:39,121 [INFO] signals_in_the_noise.utilities.tenx_genomics: Reading C:\\Users\\silly\\GitHub\\signals-in-the-noise\\data\\GSE161529_adata_cache\\GSM4909285_TN-B1-MH4031.h5ad as AnnData object.\n",
      "2025-08-02 19:00:39,270 [INFO] signals_in_the_noise.utilities.tenx_genomics: Reading C:\\Users\\silly\\GitHub\\signals-in-the-noise\\data\\GSE161529_adata_cache\\GSM4909286_TN-B1-MH0131.h5ad as AnnData object.\n",
      "2025-08-02 19:00:39,404 [INFO] signals_in_the_noise.utilities.tenx_genomics: Reading C:\\Users\\silly\\GitHub\\signals-in-the-noise\\data\\GSE161529_adata_cache\\GSM4909287_TN-B1-Tum0554.h5ad as AnnData object.\n",
      "2025-08-02 19:00:39,555 [INFO] signals_in_the_noise.utilities.tenx_genomics: Reading C:\\Users\\silly\\GitHub\\signals-in-the-noise\\data\\GSE161529_adata_cache\\GSM4909288_TN-B1-MH0177.h5ad as AnnData object.\n",
      "2025-08-02 19:00:39,724 [INFO] signals_in_the_noise.utilities.tenx_genomics: Reading C:\\Users\\silly\\GitHub\\signals-in-the-noise\\data\\GSE161529_adata_cache\\GSM4909289_HER2-AH0308.h5ad as AnnData object.\n",
      "2025-08-02 19:00:39,841 [INFO] signals_in_the_noise.utilities.tenx_genomics: Reading C:\\Users\\silly\\GitHub\\signals-in-the-noise\\data\\GSE161529_adata_cache\\GSM4909290_HER2-PM0337.h5ad as AnnData object.\n",
      "2025-08-02 19:00:39,971 [INFO] signals_in_the_noise.utilities.tenx_genomics: Reading C:\\Users\\silly\\GitHub\\signals-in-the-noise\\data\\GSE161529_adata_cache\\GSM4909291_HER2-MH0031.h5ad as AnnData object.\n",
      "2025-08-02 19:00:40,041 [INFO] signals_in_the_noise.utilities.tenx_genomics: Reading C:\\Users\\silly\\GitHub\\signals-in-the-noise\\data\\GSE161529_adata_cache\\GSM4909292_HER2-MH0069.h5ad as AnnData object.\n",
      "2025-08-02 19:00:40,089 [INFO] signals_in_the_noise.utilities.tenx_genomics: Reading C:\\Users\\silly\\GitHub\\signals-in-the-noise\\data\\GSE161529_adata_cache\\GSM4909293_HER2-MH0161.h5ad as AnnData object.\n",
      "2025-08-02 19:00:40,195 [INFO] signals_in_the_noise.utilities.tenx_genomics: Reading C:\\Users\\silly\\GitHub\\signals-in-the-noise\\data\\GSE161529_adata_cache\\GSM4909294_HER2-MH0176.h5ad as AnnData object.\n",
      "2025-08-02 19:00:40,344 [INFO] signals_in_the_noise.utilities.tenx_genomics: Reading C:\\Users\\silly\\GitHub\\signals-in-the-noise\\data\\GSE161529_adata_cache\\GSM4909295_ER-AH0319.h5ad as AnnData object.\n",
      "2025-08-02 19:00:40,542 [INFO] signals_in_the_noise.utilities.tenx_genomics: Reading C:\\Users\\silly\\GitHub\\signals-in-the-noise\\data\\GSE161529_adata_cache\\GSM4909296_ER-MH0001.h5ad as AnnData object.\n",
      "2025-08-02 19:00:40,616 [INFO] signals_in_the_noise.utilities.tenx_genomics: Reading C:\\Users\\silly\\GitHub\\signals-in-the-noise\\data\\GSE161529_adata_cache\\GSM4909297_ER-MH0125.h5ad as AnnData object.\n",
      "2025-08-02 19:00:40,691 [INFO] signals_in_the_noise.utilities.tenx_genomics: Reading C:\\Users\\silly\\GitHub\\signals-in-the-noise\\data\\GSE161529_adata_cache\\GSM4909298_ER-PM0360.h5ad as AnnData object.\n",
      "2025-08-02 19:00:40,779 [INFO] signals_in_the_noise.utilities.tenx_genomics: Reading C:\\Users\\silly\\GitHub\\signals-in-the-noise\\data\\GSE161529_adata_cache\\GSM4909299_ER-MH0114-T3.h5ad as AnnData object.\n",
      "2025-08-02 19:00:40,921 [INFO] signals_in_the_noise.utilities.tenx_genomics: Reading C:\\Users\\silly\\GitHub\\signals-in-the-noise\\data\\GSE161529_adata_cache\\GSM4909300_ER-MH0032.h5ad as AnnData object.\n",
      "2025-08-02 19:00:40,983 [INFO] signals_in_the_noise.utilities.tenx_genomics: Reading C:\\Users\\silly\\GitHub\\signals-in-the-noise\\data\\GSE161529_adata_cache\\GSM4909301_ER-MH0042.h5ad as AnnData object.\n",
      "2025-08-02 19:00:41,069 [INFO] signals_in_the_noise.utilities.tenx_genomics: Reading C:\\Users\\silly\\GitHub\\signals-in-the-noise\\data\\GSE161529_adata_cache\\GSM4909302_ER-MH0025.h5ad as AnnData object.\n",
      "2025-08-02 19:00:41,212 [INFO] signals_in_the_noise.utilities.tenx_genomics: Reading C:\\Users\\silly\\GitHub\\signals-in-the-noise\\data\\GSE161529_adata_cache\\GSM4909303_ER-MH0151.h5ad as AnnData object.\n",
      "2025-08-02 19:00:41,307 [INFO] signals_in_the_noise.utilities.tenx_genomics: Reading C:\\Users\\silly\\GitHub\\signals-in-the-noise\\data\\GSE161529_adata_cache\\GSM4909304_ER-MH0163.h5ad as AnnData object.\n",
      "2025-08-02 19:00:41,452 [INFO] signals_in_the_noise.utilities.tenx_genomics: Reading C:\\Users\\silly\\GitHub\\signals-in-the-noise\\data\\GSE161529_adata_cache\\GSM4909305_ER-MH0029-7C.h5ad as AnnData object.\n",
      "2025-08-02 19:00:41,600 [INFO] signals_in_the_noise.utilities.tenx_genomics: Reading C:\\Users\\silly\\GitHub\\signals-in-the-noise\\data\\GSE161529_adata_cache\\GSM4909306_ER-MH0029-9C.h5ad as AnnData object.\n",
      "2025-08-02 19:00:41,762 [INFO] signals_in_the_noise.utilities.tenx_genomics: Reading C:\\Users\\silly\\GitHub\\signals-in-the-noise\\data\\GSE161529_adata_cache\\GSM4909307_ER-MH0040.h5ad as AnnData object.\n",
      "2025-08-02 19:00:41,862 [INFO] signals_in_the_noise.utilities.tenx_genomics: Reading C:\\Users\\silly\\GitHub\\signals-in-the-noise\\data\\GSE161529_adata_cache\\GSM4909308_ER-MH0040-LN.h5ad as AnnData object.\n",
      "2025-08-02 19:00:42,012 [INFO] signals_in_the_noise.utilities.tenx_genomics: Reading C:\\Users\\silly\\GitHub\\signals-in-the-noise\\data\\GSE161529_adata_cache\\GSM4909309_ER-MH0043-T.h5ad as AnnData object.\n",
      "2025-08-02 19:00:42,109 [INFO] signals_in_the_noise.utilities.tenx_genomics: Reading C:\\Users\\silly\\GitHub\\signals-in-the-noise\\data\\GSE161529_adata_cache\\GSM4909310_ER-MH0043-LN.h5ad as AnnData object.\n",
      "2025-08-02 19:00:42,158 [INFO] signals_in_the_noise.utilities.tenx_genomics: Reading C:\\Users\\silly\\GitHub\\signals-in-the-noise\\data\\GSE161529_adata_cache\\GSM4909311_ER-MH0056-T.h5ad as AnnData object.\n",
      "2025-08-02 19:00:42,220 [INFO] signals_in_the_noise.utilities.tenx_genomics: Reading C:\\Users\\silly\\GitHub\\signals-in-the-noise\\data\\GSE161529_adata_cache\\GSM4909312_ER-MH0056-LN.h5ad as AnnData object.\n",
      "2025-08-02 19:00:42,323 [INFO] signals_in_the_noise.utilities.tenx_genomics: Reading C:\\Users\\silly\\GitHub\\signals-in-the-noise\\data\\GSE161529_adata_cache\\GSM4909313_ER-MH0064-T.h5ad as AnnData object.\n",
      "2025-08-02 19:00:42,408 [INFO] signals_in_the_noise.utilities.tenx_genomics: Reading C:\\Users\\silly\\GitHub\\signals-in-the-noise\\data\\GSE161529_adata_cache\\GSM4909314_ER-MH0064-LN.h5ad as AnnData object.\n",
      "2025-08-02 19:00:42,466 [INFO] signals_in_the_noise.utilities.tenx_genomics: Reading C:\\Users\\silly\\GitHub\\signals-in-the-noise\\data\\GSE161529_adata_cache\\GSM4909315_ER-MH0167-T.h5ad as AnnData object.\n",
      "2025-08-02 19:00:42,619 [INFO] signals_in_the_noise.utilities.tenx_genomics: Reading C:\\Users\\silly\\GitHub\\signals-in-the-noise\\data\\GSE161529_adata_cache\\GSM4909316_ER-MH0167-LN.h5ad as AnnData object.\n",
      "2025-08-02 19:00:42,716 [INFO] signals_in_the_noise.utilities.tenx_genomics: Reading C:\\Users\\silly\\GitHub\\signals-in-the-noise\\data\\GSE161529_adata_cache\\GSM4909317_ER-MH0173-T.h5ad as AnnData object.\n",
      "2025-08-02 19:00:42,857 [INFO] signals_in_the_noise.utilities.tenx_genomics: Reading C:\\Users\\silly\\GitHub\\signals-in-the-noise\\data\\GSE161529_adata_cache\\GSM4909318_ER-MH0173-LN.h5ad as AnnData object.\n",
      "2025-08-02 19:00:42,959 [INFO] signals_in_the_noise.utilities.tenx_genomics: Reading C:\\Users\\silly\\GitHub\\signals-in-the-noise\\data\\GSE161529_adata_cache\\GSM4909319_mER-PM0178.h5ad as AnnData object.\n",
      "2025-08-02 19:00:43,039 [INFO] signals_in_the_noise.utilities.tenx_genomics: Reading C:\\Users\\silly\\GitHub\\signals-in-the-noise\\data\\GSE161529_adata_cache\\GSM4909320_mER-MH0068-T.h5ad as AnnData object.\n",
      "2025-08-02 19:00:43,083 [INFO] signals_in_the_noise.utilities.tenx_genomics: Reading C:\\Users\\silly\\GitHub\\signals-in-the-noise\\data\\GSE161529_adata_cache\\GSM4909321_mER-MH0068-LN.h5ad as AnnData object.\n"
     ]
    }
   ],
   "execution_count": 2
  },
  {
   "metadata": {
    "ExecuteTime": {
     "end_time": "2025-08-02T23:00:53.947548Z",
     "start_time": "2025-08-02T23:00:43.180498Z"
    }
   },
   "cell_type": "code",
   "source": [
    "all_real, all_noise = gse.get_combined_epithilial_dataset(\n",
    "    real_filename=\"combined_epi_normal_pathway_real.h5ad\",\n",
    "    noise_filename=\"combined_epi_normal_pathway_noise.h5ad\",\n",
    "    remove_stromal=False,\n",
    ")"
   ],
   "id": "1cbfc5561ebc7b12",
   "outputs": [
    {
     "name": "stderr",
     "output_type": "stream",
     "text": [
      "2025-08-02 19:00:43,183 [INFO] signals_in_the_noise.preprocessing.gse161529: Loading combined datasets...\n"
     ]
    }
   ],
   "execution_count": 3
  },
  {
   "metadata": {
    "ExecuteTime": {
     "end_time": "2025-08-02T23:03:49.843153Z",
     "start_time": "2025-08-02T23:03:49.821079Z"
    }
   },
   "cell_type": "code",
   "source": [
    "# -- data set up --\n",
    "pathway_to_gmt = {\n",
    "    'ctrl 1': 'HALLMARK_APOPTOSIS.v2025.1.Hs.gmt',\n",
    "    'ctrl 2': 'HALLMARK_PROTEIN_SECRETION.v2025.1.Hs.gmt',\n",
    "    'ctrl 3': 'HALLMARK_GLYCOLYSIS.v2025.1.Hs.gmt',\n",
    "    'ddr': 'HALLMARK_DNA_REPAIR.v2025.1.Hs.gmt',\n",
    "    'e2f': 'HALLMARK_E2F_TARGETS.v2025.1.Hs.gmt',\n",
    "    'g2m': 'HALLMARK_G2M_CHECKPOINT.v2025.1.Hs.gmt',\n",
    "    'upr': 'HALLMARK_UNFOLDED_PROTEIN_RESPONSE.v2025.1.Hs.gmt',\n",
    "}\n",
    "resources_subdirectory = 'gene_set_enrichment_analysis'\n",
    "combined_pathways_filename = \"/\".join([gse.STUDY_ID, 'gene_set_enrichment_analysis', 'combined_gene_sets.gmt'])\n",
    "combined_pathway_path = get_resources_path(combined_pathways_filename)\n",
    "\n",
    "if not combined_pathway_path.exists():\n",
    "    with open(combined_pathway_path, 'w') as output_file:\n",
    "        for gmt_file in pathway_to_gmt.values():\n",
    "            gmt_path = get_resources_path(\"/\".join([gse.STUDY_ID, 'gene_set_enrichment_analysis', gmt_file]))\n",
    "            with open(gmt_path, 'r') as input_file:\n",
    "                content = input_file.read()\n",
    "                output_file.write(content)\n",
    "                output_file.write('\\n')"
   ],
   "id": "db7b3135751d61a6",
   "outputs": [],
   "execution_count": 18
  },
  {
   "metadata": {
    "ExecuteTime": {
     "end_time": "2025-08-02T23:04:09.752267Z",
     "start_time": "2025-08-02T23:04:09.747133Z"
    }
   },
   "cell_type": "code",
   "source": [
    "import gseapy as gp\n",
    "\n",
    "gene_sets = gp.parser.read_gmt(str(combined_pathway_path))"
   ],
   "id": "e186a11984cd9583",
   "outputs": [
    {
     "name": "stderr",
     "output_type": "stream",
     "text": [
      "2025-08-02 19:04:09,749 [INFO] root: User Defined gene sets is given.......continue..........\n"
     ]
    }
   ],
   "execution_count": 19
  },
  {
   "metadata": {
    "ExecuteTime": {
     "end_time": "2025-08-02T23:04:19.790896Z",
     "start_time": "2025-08-02T23:04:09.770652Z"
    }
   },
   "cell_type": "code",
   "source": [
    "# Cacluate DE\n",
    "all_data = ad.concat([all_real, all_noise], join='inner')\n",
    "all_data.obs['is_noise'] = all_data.obs['is_noise'].map({1: 'noise', 0: 'real'})"
   ],
   "id": "2290c429524f0d49",
   "outputs": [],
   "execution_count": 20
  },
  {
   "metadata": {
    "ExecuteTime": {
     "end_time": "2025-08-02T23:14:36.465174Z",
     "start_time": "2025-08-02T23:14:36.454440Z"
    }
   },
   "cell_type": "code",
   "source": "all_data.obs['is_noise']",
   "id": "dee0dbd90fd1b6dd",
   "outputs": [
    {
     "data": {
      "text/plain": [
       "GSM4909260_N-N1105-Epi.h5ad_0        real\n",
       "GSM4909260_N-N1105-Epi.h5ad_1        real\n",
       "GSM4909260_N-N1105-Epi.h5ad_2        real\n",
       "GSM4909260_N-N1105-Epi.h5ad_3        real\n",
       "GSM4909260_N-N1105-Epi.h5ad_4        real\n",
       "                                    ...  \n",
       "GSM4909273_N-MH275-Epi.h5ad_6284    noise\n",
       "GSM4909273_N-MH275-Epi.h5ad_6304    noise\n",
       "GSM4909273_N-MH275-Epi.h5ad_6309    noise\n",
       "GSM4909273_N-MH275-Epi.h5ad_6364    noise\n",
       "GSM4909273_N-MH275-Epi.h5ad_6400    noise\n",
       "Name: is_noise, Length: 58830, dtype: category\n",
       "Categories (2, object): ['noise', 'real']"
      ]
     },
     "execution_count": 41,
     "metadata": {},
     "output_type": "execute_result"
    }
   ],
   "execution_count": 41
  },
  {
   "metadata": {
    "ExecuteTime": {
     "end_time": "2025-08-02T23:05:35.276359Z",
     "start_time": "2025-08-02T23:04:19.876183Z"
    }
   },
   "cell_type": "code",
   "source": [
    "sc.tl.rank_genes_groups(\n",
    "    all_data,\n",
    "    groupby='is_noise',\n",
    "    # group 1 - is noise cell\n",
    "    groups=['noise'],\n",
    "    # group 0 - is real cell\n",
    "    reference='real',\n",
    "    method='wilcoxon',\n",
    "    # test all genes\n",
    "    n_genes=all_data.shape[1],\n",
    ")"
   ],
   "id": "1ec1ce7734bb2a94",
   "outputs": [
    {
     "name": "stderr",
     "output_type": "stream",
     "text": [
      "... storing 'is_noise' as categorical\n"
     ]
    }
   ],
   "execution_count": 22
  },
  {
   "metadata": {
    "ExecuteTime": {
     "end_time": "2025-08-02T23:05:35.353266Z",
     "start_time": "2025-08-02T23:05:35.344948Z"
    }
   },
   "cell_type": "code",
   "source": [
    "# Extract DE results: genes and scores (e.g., log fold change or scores)\n",
    "de_results = all_data.uns['rank_genes_groups']\n",
    "de_results"
   ],
   "id": "92b2e1738581ae97",
   "outputs": [
    {
     "data": {
      "text/plain": [
       "{'params': {'groupby': 'is_noise',\n",
       "  'reference': 'real',\n",
       "  'method': 'wilcoxon',\n",
       "  'use_raw': True,\n",
       "  'layer': None,\n",
       "  'corr_method': 'benjamini-hochberg'},\n",
       " 'names': rec.array([('MT-ATP8',), ('MT-ND3',), ('MT-CO2',), ..., ('PTMA',),\n",
       "            ('RPL41',), ('RPL15',)],\n",
       "           dtype=[('noise', 'O')]),\n",
       " 'scores': rec.array([(   9.612901,), (   7.449432,), (   5.87423 ,), ...,\n",
       "            (-109.2315  ,), (-109.67778 ,), (-110.0455  ,)],\n",
       "           dtype=[('noise', '<f4')]),\n",
       " 'pvals': rec.array([(7.05331102e-22,), (9.37430746e-14,), (4.24813727e-09,), ...,\n",
       "            (0.00000000e+00,), (0.00000000e+00,), (0.00000000e+00,)],\n",
       "           dtype=[('noise', '<f8')]),\n",
       " 'pvals_adj': rec.array([(5.23233676e-21,), (5.86558813e-13,), (2.31665086e-08,), ...,\n",
       "            (0.00000000e+00,), (0.00000000e+00,), (0.00000000e+00,)],\n",
       "           dtype=[('noise', '<f8')]),\n",
       " 'logfoldchanges': rec.array([( 0.4040392 ,), ( 0.19732916,), ( 0.03322844,), ...,\n",
       "            (-3.4181743 ,), (-3.6209111 ,), (-3.5701737 ,)],\n",
       "           dtype=[('noise', '<f4')])}"
      ]
     },
     "execution_count": 23,
     "metadata": {},
     "output_type": "execute_result"
    }
   ],
   "execution_count": 23
  },
  {
   "metadata": {
    "ExecuteTime": {
     "end_time": "2025-08-02T23:05:35.416633Z",
     "start_time": "2025-08-02T23:05:35.406688Z"
    }
   },
   "cell_type": "code",
   "source": [
    "genes_df = de_results['names']['noise']\n",
    "scores_df = de_results['logfoldchanges']['noise']\n",
    "de_df = pd.DataFrame({'gene': genes_df, 'score': scores_df})\n",
    "de_df.sample(20)"
   ],
   "id": "d60582cbcffbf8",
   "outputs": [
    {
     "data": {
      "text/plain": [
       "             gene      score\n",
       "29169     TRPC4AP  -2.278126\n",
       "22498      ZNF599  -2.385208\n",
       "26149     N4BP2L1  -1.926161\n",
       "18036        NFE2  -2.548610\n",
       "20155      GLTPD2  -4.537192\n",
       "10623       FRMD1  -4.585668\n",
       "3192    LINC02269   0.000000\n",
       "20244     PRTFDC1  -2.861195\n",
       "32786      PAPOLA  -2.385240\n",
       "3495        LCE4A   0.000000\n",
       "21504  AC025165.5  -2.233811\n",
       "27012       MMP14  -2.150148\n",
       "13187    WWOX-AS1 -15.607330\n",
       "20771     HMGCLL1  -3.611690\n",
       "15878      GIMAP8  -4.423374\n",
       "22746       NOXA1  -1.522048\n",
       "30425       KIF2A  -3.036336\n",
       "5773   AC015936.2   0.000000\n",
       "6537   AC139712.3   0.000000\n",
       "20119          F8  -2.070564"
      ],
      "text/html": [
       "<div>\n",
       "<style scoped>\n",
       "    .dataframe tbody tr th:only-of-type {\n",
       "        vertical-align: middle;\n",
       "    }\n",
       "\n",
       "    .dataframe tbody tr th {\n",
       "        vertical-align: top;\n",
       "    }\n",
       "\n",
       "    .dataframe thead th {\n",
       "        text-align: right;\n",
       "    }\n",
       "</style>\n",
       "<table border=\"1\" class=\"dataframe\">\n",
       "  <thead>\n",
       "    <tr style=\"text-align: right;\">\n",
       "      <th></th>\n",
       "      <th>gene</th>\n",
       "      <th>score</th>\n",
       "    </tr>\n",
       "  </thead>\n",
       "  <tbody>\n",
       "    <tr>\n",
       "      <th>29169</th>\n",
       "      <td>TRPC4AP</td>\n",
       "      <td>-2.278126</td>\n",
       "    </tr>\n",
       "    <tr>\n",
       "      <th>22498</th>\n",
       "      <td>ZNF599</td>\n",
       "      <td>-2.385208</td>\n",
       "    </tr>\n",
       "    <tr>\n",
       "      <th>26149</th>\n",
       "      <td>N4BP2L1</td>\n",
       "      <td>-1.926161</td>\n",
       "    </tr>\n",
       "    <tr>\n",
       "      <th>18036</th>\n",
       "      <td>NFE2</td>\n",
       "      <td>-2.548610</td>\n",
       "    </tr>\n",
       "    <tr>\n",
       "      <th>20155</th>\n",
       "      <td>GLTPD2</td>\n",
       "      <td>-4.537192</td>\n",
       "    </tr>\n",
       "    <tr>\n",
       "      <th>10623</th>\n",
       "      <td>FRMD1</td>\n",
       "      <td>-4.585668</td>\n",
       "    </tr>\n",
       "    <tr>\n",
       "      <th>3192</th>\n",
       "      <td>LINC02269</td>\n",
       "      <td>0.000000</td>\n",
       "    </tr>\n",
       "    <tr>\n",
       "      <th>20244</th>\n",
       "      <td>PRTFDC1</td>\n",
       "      <td>-2.861195</td>\n",
       "    </tr>\n",
       "    <tr>\n",
       "      <th>32786</th>\n",
       "      <td>PAPOLA</td>\n",
       "      <td>-2.385240</td>\n",
       "    </tr>\n",
       "    <tr>\n",
       "      <th>3495</th>\n",
       "      <td>LCE4A</td>\n",
       "      <td>0.000000</td>\n",
       "    </tr>\n",
       "    <tr>\n",
       "      <th>21504</th>\n",
       "      <td>AC025165.5</td>\n",
       "      <td>-2.233811</td>\n",
       "    </tr>\n",
       "    <tr>\n",
       "      <th>27012</th>\n",
       "      <td>MMP14</td>\n",
       "      <td>-2.150148</td>\n",
       "    </tr>\n",
       "    <tr>\n",
       "      <th>13187</th>\n",
       "      <td>WWOX-AS1</td>\n",
       "      <td>-15.607330</td>\n",
       "    </tr>\n",
       "    <tr>\n",
       "      <th>20771</th>\n",
       "      <td>HMGCLL1</td>\n",
       "      <td>-3.611690</td>\n",
       "    </tr>\n",
       "    <tr>\n",
       "      <th>15878</th>\n",
       "      <td>GIMAP8</td>\n",
       "      <td>-4.423374</td>\n",
       "    </tr>\n",
       "    <tr>\n",
       "      <th>22746</th>\n",
       "      <td>NOXA1</td>\n",
       "      <td>-1.522048</td>\n",
       "    </tr>\n",
       "    <tr>\n",
       "      <th>30425</th>\n",
       "      <td>KIF2A</td>\n",
       "      <td>-3.036336</td>\n",
       "    </tr>\n",
       "    <tr>\n",
       "      <th>5773</th>\n",
       "      <td>AC015936.2</td>\n",
       "      <td>0.000000</td>\n",
       "    </tr>\n",
       "    <tr>\n",
       "      <th>6537</th>\n",
       "      <td>AC139712.3</td>\n",
       "      <td>0.000000</td>\n",
       "    </tr>\n",
       "    <tr>\n",
       "      <th>20119</th>\n",
       "      <td>F8</td>\n",
       "      <td>-2.070564</td>\n",
       "    </tr>\n",
       "  </tbody>\n",
       "</table>\n",
       "</div>"
      ]
     },
     "execution_count": 24,
     "metadata": {},
     "output_type": "execute_result"
    }
   ],
   "execution_count": 24
  },
  {
   "metadata": {
    "ExecuteTime": {
     "end_time": "2025-08-02T23:05:35.789481Z",
     "start_time": "2025-08-02T23:05:35.776927Z"
    }
   },
   "cell_type": "code",
   "source": "de_df.describe()",
   "id": "dba11d0a0097946b",
   "outputs": [
    {
     "data": {
      "text/plain": [
       "              score\n",
       "count  33538.000000\n",
       "mean      -4.098438\n",
       "std        5.734011\n",
       "min      -21.177273\n",
       "25%       -3.093899\n",
       "50%       -2.166607\n",
       "75%       -0.582468\n",
       "max       18.596149"
      ],
      "text/html": [
       "<div>\n",
       "<style scoped>\n",
       "    .dataframe tbody tr th:only-of-type {\n",
       "        vertical-align: middle;\n",
       "    }\n",
       "\n",
       "    .dataframe tbody tr th {\n",
       "        vertical-align: top;\n",
       "    }\n",
       "\n",
       "    .dataframe thead th {\n",
       "        text-align: right;\n",
       "    }\n",
       "</style>\n",
       "<table border=\"1\" class=\"dataframe\">\n",
       "  <thead>\n",
       "    <tr style=\"text-align: right;\">\n",
       "      <th></th>\n",
       "      <th>score</th>\n",
       "    </tr>\n",
       "  </thead>\n",
       "  <tbody>\n",
       "    <tr>\n",
       "      <th>count</th>\n",
       "      <td>33538.000000</td>\n",
       "    </tr>\n",
       "    <tr>\n",
       "      <th>mean</th>\n",
       "      <td>-4.098438</td>\n",
       "    </tr>\n",
       "    <tr>\n",
       "      <th>std</th>\n",
       "      <td>5.734011</td>\n",
       "    </tr>\n",
       "    <tr>\n",
       "      <th>min</th>\n",
       "      <td>-21.177273</td>\n",
       "    </tr>\n",
       "    <tr>\n",
       "      <th>25%</th>\n",
       "      <td>-3.093899</td>\n",
       "    </tr>\n",
       "    <tr>\n",
       "      <th>50%</th>\n",
       "      <td>-2.166607</td>\n",
       "    </tr>\n",
       "    <tr>\n",
       "      <th>75%</th>\n",
       "      <td>-0.582468</td>\n",
       "    </tr>\n",
       "    <tr>\n",
       "      <th>max</th>\n",
       "      <td>18.596149</td>\n",
       "    </tr>\n",
       "  </tbody>\n",
       "</table>\n",
       "</div>"
      ]
     },
     "execution_count": 25,
     "metadata": {},
     "output_type": "execute_result"
    }
   ],
   "execution_count": 25
  },
  {
   "metadata": {
    "ExecuteTime": {
     "end_time": "2025-08-02T23:05:35.923711Z",
     "start_time": "2025-08-02T23:05:35.909367Z"
    }
   },
   "cell_type": "code",
   "source": [
    "# GSEA requires a gene list ranked by a metric (e.g., log fold change)\n",
    "# Remove NaNs and duplicates if any\n",
    "de_df = de_df.dropna().drop_duplicates(subset='gene')\n",
    "de_df = de_df.sort_values('score', ascending=False)\n",
    "de_df.describe()"
   ],
   "id": "c1c0e7b988f05aed",
   "outputs": [
    {
     "data": {
      "text/plain": [
       "              score\n",
       "count  33538.000000\n",
       "mean      -4.098438\n",
       "std        5.734011\n",
       "min      -21.177273\n",
       "25%       -3.093899\n",
       "50%       -2.166607\n",
       "75%       -0.582468\n",
       "max       18.596149"
      ],
      "text/html": [
       "<div>\n",
       "<style scoped>\n",
       "    .dataframe tbody tr th:only-of-type {\n",
       "        vertical-align: middle;\n",
       "    }\n",
       "\n",
       "    .dataframe tbody tr th {\n",
       "        vertical-align: top;\n",
       "    }\n",
       "\n",
       "    .dataframe thead th {\n",
       "        text-align: right;\n",
       "    }\n",
       "</style>\n",
       "<table border=\"1\" class=\"dataframe\">\n",
       "  <thead>\n",
       "    <tr style=\"text-align: right;\">\n",
       "      <th></th>\n",
       "      <th>score</th>\n",
       "    </tr>\n",
       "  </thead>\n",
       "  <tbody>\n",
       "    <tr>\n",
       "      <th>count</th>\n",
       "      <td>33538.000000</td>\n",
       "    </tr>\n",
       "    <tr>\n",
       "      <th>mean</th>\n",
       "      <td>-4.098438</td>\n",
       "    </tr>\n",
       "    <tr>\n",
       "      <th>std</th>\n",
       "      <td>5.734011</td>\n",
       "    </tr>\n",
       "    <tr>\n",
       "      <th>min</th>\n",
       "      <td>-21.177273</td>\n",
       "    </tr>\n",
       "    <tr>\n",
       "      <th>25%</th>\n",
       "      <td>-3.093899</td>\n",
       "    </tr>\n",
       "    <tr>\n",
       "      <th>50%</th>\n",
       "      <td>-2.166607</td>\n",
       "    </tr>\n",
       "    <tr>\n",
       "      <th>75%</th>\n",
       "      <td>-0.582468</td>\n",
       "    </tr>\n",
       "    <tr>\n",
       "      <th>max</th>\n",
       "      <td>18.596149</td>\n",
       "    </tr>\n",
       "  </tbody>\n",
       "</table>\n",
       "</div>"
      ]
     },
     "execution_count": 26,
     "metadata": {},
     "output_type": "execute_result"
    }
   ],
   "execution_count": 26
  },
  {
   "metadata": {
    "ExecuteTime": {
     "end_time": "2025-08-02T23:05:36.021608Z",
     "start_time": "2025-08-02T23:05:36.014021Z"
    }
   },
   "cell_type": "code",
   "source": [
    "ranked_genes_df = de_df.set_index('gene')['score']\n",
    "ranked_genes_df"
   ],
   "id": "8dd549954b0f5d1",
   "outputs": [
    {
     "data": {
      "text/plain": [
       "gene\n",
       "TMEM72        18.596149\n",
       "LINC01779     18.534569\n",
       "CD3D          18.510317\n",
       "AL590079.1    18.241653\n",
       "AC009652.1    18.087940\n",
       "                ...    \n",
       "PRG4         -20.685488\n",
       "CYP26B1      -20.772860\n",
       "KRT75        -20.794336\n",
       "MIR9-3HG     -20.942411\n",
       "BX322562.1   -21.177273\n",
       "Name: score, Length: 33538, dtype: float32"
      ]
     },
     "execution_count": 27,
     "metadata": {},
     "output_type": "execute_result"
    }
   ],
   "execution_count": 27
  },
  {
   "metadata": {
    "ExecuteTime": {
     "end_time": "2025-08-02T23:05:37.510158Z",
     "start_time": "2025-08-02T23:05:36.111333Z"
    }
   },
   "cell_type": "code",
   "source": [
    "# Then pass filtered_gene_sets to prerank:\n",
    "gsea_res = gp.prerank(\n",
    "    rnk=ranked_genes_df,\n",
    "    gene_sets=str(combined_pathway_path),\n",
    "    permutation_num=1000,\n",
    "    outdir=None,\n",
    "    seed=gse.random_seed,\n",
    "    verbose=True\n",
    ")"
   ],
   "id": "80e63a1756f3b220",
   "outputs": [
    {
     "name": "stderr",
     "output_type": "stream",
     "text": [
      "2025-08-02 19:05:36,119 [WARNING] Duplicated values found in preranked stats: 20.09% of genes\n",
      "The order of those genes will be arbitrary, which may produce unexpected results.\n",
      "2025-08-02 19:05:36,119 [INFO] Parsing data files for GSEA.............................\n",
      "2025-08-02 19:05:36,149 [INFO] 0000 gene_sets have been filtered out when max_size=500 and min_size=15\n",
      "2025-08-02 19:05:36,149 [INFO] 0007 gene_sets used for further statistical testing.....\n",
      "2025-08-02 19:05:36,149 [INFO] Start to run GSEA...Might take a while..................\n",
      "2025-08-02 19:05:37,505 [INFO] Congratulations. GSEApy runs successfully................\n",
      "\n"
     ]
    }
   ],
   "execution_count": 28
  },
  {
   "metadata": {
    "ExecuteTime": {
     "end_time": "2025-08-02T23:14:56.436608Z",
     "start_time": "2025-08-02T23:14:56.349554Z"
    }
   },
   "cell_type": "code",
   "source": [
    "# Get the result table\n",
    "df = gsea_res.res2d.copy()\n",
    "\n",
    "# Create a heatmap input — e.g., NES values\n",
    "heatmap_data = df.pivot_table(\n",
    "    index=\"Term\",       # gene set name\n",
    "    values=\"NES\"        # or 'es', 'pval', or any other column\n",
    ")\n",
    "heatmap_data = heatmap_data.apply(pd.to_numeric, errors='coerce')\n",
    "\n",
    "# Function to convert FDR to stars\n",
    "def fdr_to_stars(fdr):\n",
    "    if fdr < 0.01:\n",
    "        return ' ***'\n",
    "    elif fdr < 0.05:\n",
    "        return ' **'\n",
    "    elif fdr < 0.1:\n",
    "        return ' *'\n",
    "    else:\n",
    "        return ''\n",
    "\n",
    "# Create a mapping of Term -> stars\n",
    "fdr_map = df.set_index('Term')['FDR q-val'].apply(fdr_to_stars).to_dict()\n",
    "\n",
    "# Annotate y-axis labels with stars\n",
    "annotated_labels = [term + fdr_map.get(term, '') for term in heatmap_data.index]\n",
    "\n",
    "# Plot heatmap\n",
    "plt.figure(figsize=(6, len(heatmap_data) * 0.5))\n",
    "ax = sns.heatmap(heatmap_data, annot=True, cmap=\"coolwarm\", center=0)\n",
    "\n",
    "# Set new ytick labels with stars\n",
    "ax.set_yticklabels(annotated_labels, rotation=0, fontsize=10)\n",
    "\n",
    "plt.title(\"GSEA Normalized Enrichment Score (NES) with Significance\")\n",
    "plt.tight_layout()\n",
    "plt.show()"
   ],
   "id": "65044c0adf704631",
   "outputs": [
    {
     "data": {
      "text/plain": [
       "<Figure size 600x350 with 2 Axes>"
      ],
      "image/png": "[encoded data removed]"
     },
     "metadata": {},
     "output_type": "display_data"
    }
   ],
   "execution_count": 42
  }
 ],
 "metadata": {
  "kernelspec": {
   "display_name": "Python 3",
   "language": "python",
   "name": "python3"
  },
  "language_info": {
   "codemirror_mode": {
    "name": "ipython",
    "version": 2
   },
   "file_extension": ".py",
   "mimetype": "text/x-python",
   "name": "python",
   "nbconvert_exporter": "python",
   "pygments_lexer": "ipython2",
   "version": "2.7.6"
  }
 },
 "nbformat": 4,
 "nbformat_minor": 5
}
