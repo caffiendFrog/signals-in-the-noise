{
 "cells": [
  {
   "metadata": {},
   "cell_type": "markdown",
   "source": [
    "# Figure 1h\n",
    "\n",
    "This notebook recreates the visualization shown in figure 1h in the reference article.\n",
    "\n",
    "> Same t-SNE plot as (C) [t-SNE plot of the integrated scRNA-seq profiles of epithelial cells form 11 reduction mammoplasties.] colored by expression level of a selection of basal, LP, and ML marker genes. Red=high expression, gray=not-detected.\n",
    "\n",
    "<div style=\"text-align: center;\">\n",
    "    <img src=\"images/figure-1h-reference.png\" alt=\"Figure 1h from Reference Article\" width=\"70%\">\n",
    "    <p style=\"font-size:90%; color:gray; text-align: center;\"><em>Figure 1h from Reference Article</em></p>\n",
    "</div>"
   ],
   "id": "534d07a45c8eb665"
  },
  {
   "metadata": {},
   "cell_type": "markdown",
   "source": "## 0. Initializations",
   "id": "5a4015b1a6e7602"
  },
  {
   "metadata": {
    "ExecuteTime": {
     "end_time": "2025-07-21T01:30:35.215297Z",
     "start_time": "2025-07-21T01:30:33.454742Z"
    }
   },
   "cell_type": "code",
   "source": [
    "# -- imports --\n",
    "from signals_in_the_noise.preprocessing.gse161529 import GSE161529\n",
    "from signals_in_the_noise.utilities.visualization import get_figure_axes"
   ],
   "id": "7daaf0bb8a6b2c75",
   "outputs": [],
   "execution_count": 1
  },
  {
   "metadata": {
    "ExecuteTime": {
     "end_time": "2025-07-21T01:31:43.680457Z",
     "start_time": "2025-07-21T01:30:35.429449Z"
    }
   },
   "cell_type": "code",
   "source": [
    "# -- dataset --\n",
    "gse = GSE161529()\n",
    "gene_check = [\n",
    "    'EPCAM', 'CD326', 'EpCAM', 'CD49F', 'ITGA6', 'SOX10',\n",
    "    'KRT5', 'ACTA2', 'MYLK', 'SNAI2', 'NOTCH4', 'DKK3',\n",
    "    'ESR1', 'PGR', 'FOXA1', 'TNFRSF11A', 'KIT',\n",
    "]\n",
    "all_real, all_noise = gse.get_combined_epithilial_dataset(genes_to_check=gene_check)"
   ],
   "id": "116b061f41b641df",
   "outputs": [
    {
     "name": "stderr",
     "output_type": "stream",
     "text": [
      "2025-07-20 21:30:35,433 [INFO] signals_in_the_noise.utilities.tenx_genomics: Reading C:\\Users\\silly\\GitHub\\signals-in-the-noise\\data\\GSE161529_adata_cache\\GSM4909253_N-PM0092-Total.h5ad as AnnData object.\n",
      "2025-07-20 21:30:35,497 [INFO] signals_in_the_noise.utilities.tenx_genomics: Reading C:\\Users\\silly\\GitHub\\signals-in-the-noise\\data\\GSE161529_adata_cache\\GSM4909254_N-PM0019-Total.h5ad as AnnData object.\n",
      "2025-07-20 21:30:35,572 [INFO] signals_in_the_noise.utilities.tenx_genomics: Reading C:\\Users\\silly\\GitHub\\signals-in-the-noise\\data\\GSE161529_adata_cache\\GSM4909255_N-N280-Epi.h5ad as AnnData object.\n",
      "2025-07-20 21:30:35,610 [INFO] signals_in_the_noise.utilities.tenx_genomics: Reading C:\\Users\\silly\\GitHub\\signals-in-the-noise\\data\\GSE161529_adata_cache\\GSM4909256_N-PM0095-Epi.h5ad as AnnData object.\n",
      "2025-07-20 21:30:35,702 [INFO] signals_in_the_noise.utilities.tenx_genomics: Reading C:\\Users\\silly\\GitHub\\signals-in-the-noise\\data\\GSE161529_adata_cache\\GSM4909257_N-PM0095-Total.h5ad as AnnData object.\n",
      "2025-07-20 21:30:35,772 [INFO] signals_in_the_noise.utilities.tenx_genomics: Reading C:\\Users\\silly\\GitHub\\signals-in-the-noise\\data\\GSE161529_adata_cache\\GSM4909258_N-NF-Epi.h5ad as AnnData object.\n",
      "2025-07-20 21:30:35,817 [INFO] signals_in_the_noise.utilities.tenx_genomics: Reading C:\\Users\\silly\\GitHub\\signals-in-the-noise\\data\\GSE161529_adata_cache\\GSM4909259_N-NE-Epi.h5ad as AnnData object.\n",
      "2025-07-20 21:30:35,865 [INFO] signals_in_the_noise.utilities.tenx_genomics: Reading C:\\Users\\silly\\GitHub\\signals-in-the-noise\\data\\GSE161529_adata_cache\\GSM4909260_N-N1105-Epi.h5ad as AnnData object.\n",
      "2025-07-20 21:30:35,929 [INFO] signals_in_the_noise.utilities.tenx_genomics: Reading C:\\Users\\silly\\GitHub\\signals-in-the-noise\\data\\GSE161529_adata_cache\\GSM4909261_N-PM0230-Total.h5ad as AnnData object.\n",
      "2025-07-20 21:30:35,983 [INFO] signals_in_the_noise.utilities.tenx_genomics: Reading C:\\Users\\silly\\GitHub\\signals-in-the-noise\\data\\GSE161529_adata_cache\\GSM4909262_N-MH0064-Epi.h5ad as AnnData object.\n",
      "2025-07-20 21:30:36,028 [INFO] signals_in_the_noise.utilities.tenx_genomics: Reading C:\\Users\\silly\\GitHub\\signals-in-the-noise\\data\\GSE161529_adata_cache\\GSM4909263_N-MH0064-Total.h5ad as AnnData object.\n",
      "2025-07-20 21:30:36,064 [INFO] signals_in_the_noise.utilities.tenx_genomics: Reading C:\\Users\\silly\\GitHub\\signals-in-the-noise\\data\\GSE161529_adata_cache\\GSM4909264_N-N1B-Epi.h5ad as AnnData object.\n",
      "2025-07-20 21:30:36,102 [INFO] signals_in_the_noise.utilities.tenx_genomics: Reading C:\\Users\\silly\\GitHub\\signals-in-the-noise\\data\\GSE161529_adata_cache\\GSM4909265_N-PM0233-Total.h5ad as AnnData object.\n",
      "2025-07-20 21:30:36,174 [INFO] signals_in_the_noise.utilities.tenx_genomics: Reading C:\\Users\\silly\\GitHub\\signals-in-the-noise\\data\\GSE161529_adata_cache\\GSM4909266_N-MH0169-Total.h5ad as AnnData object.\n",
      "2025-07-20 21:30:36,230 [INFO] signals_in_the_noise.utilities.tenx_genomics: Reading C:\\Users\\silly\\GitHub\\signals-in-the-noise\\data\\GSE161529_adata_cache\\GSM4909267_N-MH0023-Epi.h5ad as AnnData object.\n",
      "2025-07-20 21:30:36,274 [INFO] signals_in_the_noise.utilities.tenx_genomics: Reading C:\\Users\\silly\\GitHub\\signals-in-the-noise\\data\\GSE161529_adata_cache\\GSM4909268_N-MH0023-Total.h5ad as AnnData object.\n",
      "2025-07-20 21:30:36,345 [INFO] signals_in_the_noise.utilities.tenx_genomics: Reading C:\\Users\\silly\\GitHub\\signals-in-the-noise\\data\\GSE161529_adata_cache\\GSM4909269_N-PM0342-Epi.h5ad as AnnData object.\n",
      "2025-07-20 21:30:36,424 [INFO] signals_in_the_noise.utilities.tenx_genomics: Reading C:\\Users\\silly\\GitHub\\signals-in-the-noise\\data\\GSE161529_adata_cache\\GSM4909270_N-PM0342-Total.h5ad as AnnData object.\n",
      "2025-07-20 21:30:36,504 [INFO] signals_in_the_noise.utilities.tenx_genomics: Reading C:\\Users\\silly\\GitHub\\signals-in-the-noise\\data\\GSE161529_adata_cache\\GSM4909271_N-MH288-Total.h5ad as AnnData object.\n",
      "2025-07-20 21:30:36,549 [INFO] signals_in_the_noise.utilities.tenx_genomics: Reading C:\\Users\\silly\\GitHub\\signals-in-the-noise\\data\\GSE161529_adata_cache\\GSM4909272_N-MH0021-Total.h5ad as AnnData object.\n",
      "2025-07-20 21:30:36,584 [INFO] signals_in_the_noise.utilities.tenx_genomics: Reading C:\\Users\\silly\\GitHub\\signals-in-the-noise\\data\\GSE161529_adata_cache\\GSM4909273_N-MH275-Epi.h5ad as AnnData object.\n",
      "2025-07-20 21:30:36,654 [INFO] signals_in_the_noise.utilities.tenx_genomics: Reading C:\\Users\\silly\\GitHub\\signals-in-the-noise\\data\\GSE161529_adata_cache\\GSM4909274_N-MH275-Total.h5ad as AnnData object.\n",
      "2025-07-20 21:30:36,695 [INFO] signals_in_the_noise.utilities.tenx_genomics: Reading C:\\Users\\silly\\GitHub\\signals-in-the-noise\\data\\GSE161529_adata_cache\\GSM4909275_N-PM0372-Epi.h5ad as AnnData object.\n",
      "2025-07-20 21:30:36,799 [INFO] signals_in_the_noise.utilities.tenx_genomics: Reading C:\\Users\\silly\\GitHub\\signals-in-the-noise\\data\\GSE161529_adata_cache\\GSM4909276_N-PM0372-Total.h5ad as AnnData object.\n",
      "2025-07-20 21:30:36,865 [INFO] signals_in_the_noise.utilities.tenx_genomics: Reading C:\\Users\\silly\\GitHub\\signals-in-the-noise\\data\\GSE161529_adata_cache\\GSM4909277_B1-KCF0894.h5ad as AnnData object.\n",
      "2025-07-20 21:30:36,933 [INFO] signals_in_the_noise.utilities.tenx_genomics: Reading C:\\Users\\silly\\GitHub\\signals-in-the-noise\\data\\GSE161529_adata_cache\\GSM4909278_B1-MH0033.h5ad as AnnData object.\n",
      "2025-07-20 21:30:36,987 [INFO] signals_in_the_noise.utilities.tenx_genomics: Reading C:\\Users\\silly\\GitHub\\signals-in-the-noise\\data\\GSE161529_adata_cache\\GSM4909279_B1-MH0023.h5ad as AnnData object.\n",
      "2025-07-20 21:30:37,036 [INFO] signals_in_the_noise.utilities.tenx_genomics: Reading C:\\Users\\silly\\GitHub\\signals-in-the-noise\\data\\GSE161529_adata_cache\\GSM4909280_B1-MH0090.h5ad as AnnData object.\n",
      "2025-07-20 21:30:37,092 [INFO] signals_in_the_noise.utilities.tenx_genomics: Reading C:\\Users\\silly\\GitHub\\signals-in-the-noise\\data\\GSE161529_adata_cache\\GSM4909281_TN-MH0126.h5ad as AnnData object.\n",
      "2025-07-20 21:30:37,140 [INFO] signals_in_the_noise.utilities.tenx_genomics: Reading C:\\Users\\silly\\GitHub\\signals-in-the-noise\\data\\GSE161529_adata_cache\\GSM4909282_TN-MH0135.h5ad as AnnData object.\n",
      "2025-07-20 21:30:37,267 [INFO] signals_in_the_noise.utilities.tenx_genomics: Reading C:\\Users\\silly\\GitHub\\signals-in-the-noise\\data\\GSE161529_adata_cache\\GSM4909283_TN-SH0106.h5ad as AnnData object.\n",
      "2025-07-20 21:30:37,305 [INFO] signals_in_the_noise.utilities.tenx_genomics: Reading C:\\Users\\silly\\GitHub\\signals-in-the-noise\\data\\GSE161529_adata_cache\\GSM4909284_TN-MH0114-T2.h5ad as AnnData object.\n",
      "2025-07-20 21:30:37,342 [INFO] signals_in_the_noise.utilities.tenx_genomics: Reading C:\\Users\\silly\\GitHub\\signals-in-the-noise\\data\\GSE161529_adata_cache\\GSM4909285_TN-B1-MH4031.h5ad as AnnData object.\n",
      "2025-07-20 21:30:37,419 [INFO] signals_in_the_noise.utilities.tenx_genomics: Reading C:\\Users\\silly\\GitHub\\signals-in-the-noise\\data\\GSE161529_adata_cache\\GSM4909286_TN-B1-MH0131.h5ad as AnnData object.\n",
      "2025-07-20 21:30:37,491 [INFO] signals_in_the_noise.utilities.tenx_genomics: Reading C:\\Users\\silly\\GitHub\\signals-in-the-noise\\data\\GSE161529_adata_cache\\GSM4909287_TN-B1-Tum0554.h5ad as AnnData object.\n",
      "2025-07-20 21:30:37,568 [INFO] signals_in_the_noise.utilities.tenx_genomics: Reading C:\\Users\\silly\\GitHub\\signals-in-the-noise\\data\\GSE161529_adata_cache\\GSM4909288_TN-B1-MH0177.h5ad as AnnData object.\n",
      "2025-07-20 21:30:37,674 [INFO] signals_in_the_noise.utilities.tenx_genomics: Reading C:\\Users\\silly\\GitHub\\signals-in-the-noise\\data\\GSE161529_adata_cache\\GSM4909289_HER2-AH0308.h5ad as AnnData object.\n",
      "2025-07-20 21:30:37,746 [INFO] signals_in_the_noise.utilities.tenx_genomics: Reading C:\\Users\\silly\\GitHub\\signals-in-the-noise\\data\\GSE161529_adata_cache\\GSM4909290_HER2-PM0337.h5ad as AnnData object.\n",
      "2025-07-20 21:30:37,831 [INFO] signals_in_the_noise.utilities.tenx_genomics: Reading C:\\Users\\silly\\GitHub\\signals-in-the-noise\\data\\GSE161529_adata_cache\\GSM4909291_HER2-MH0031.h5ad as AnnData object.\n",
      "2025-07-20 21:30:37,879 [INFO] signals_in_the_noise.utilities.tenx_genomics: Reading C:\\Users\\silly\\GitHub\\signals-in-the-noise\\data\\GSE161529_adata_cache\\GSM4909292_HER2-MH0069.h5ad as AnnData object.\n",
      "2025-07-20 21:30:37,910 [INFO] signals_in_the_noise.utilities.tenx_genomics: Reading C:\\Users\\silly\\GitHub\\signals-in-the-noise\\data\\GSE161529_adata_cache\\GSM4909293_HER2-MH0161.h5ad as AnnData object.\n",
      "2025-07-20 21:30:37,976 [INFO] signals_in_the_noise.utilities.tenx_genomics: Reading C:\\Users\\silly\\GitHub\\signals-in-the-noise\\data\\GSE161529_adata_cache\\GSM4909294_HER2-MH0176.h5ad as AnnData object.\n",
      "2025-07-20 21:30:38,072 [INFO] signals_in_the_noise.utilities.tenx_genomics: Reading C:\\Users\\silly\\GitHub\\signals-in-the-noise\\data\\GSE161529_adata_cache\\GSM4909295_ER-AH0319.h5ad as AnnData object.\n",
      "2025-07-20 21:30:38,122 [INFO] signals_in_the_noise.utilities.tenx_genomics: Reading C:\\Users\\silly\\GitHub\\signals-in-the-noise\\data\\GSE161529_adata_cache\\GSM4909296_ER-MH0001.h5ad as AnnData object.\n",
      "2025-07-20 21:30:38,172 [INFO] signals_in_the_noise.utilities.tenx_genomics: Reading C:\\Users\\silly\\GitHub\\signals-in-the-noise\\data\\GSE161529_adata_cache\\GSM4909297_ER-MH0125.h5ad as AnnData object.\n",
      "2025-07-20 21:30:38,226 [INFO] signals_in_the_noise.utilities.tenx_genomics: Reading C:\\Users\\silly\\GitHub\\signals-in-the-noise\\data\\GSE161529_adata_cache\\GSM4909298_ER-PM0360.h5ad as AnnData object.\n",
      "2025-07-20 21:30:38,282 [INFO] signals_in_the_noise.utilities.tenx_genomics: Reading C:\\Users\\silly\\GitHub\\signals-in-the-noise\\data\\GSE161529_adata_cache\\GSM4909299_ER-MH0114-T3.h5ad as AnnData object.\n",
      "2025-07-20 21:30:38,354 [INFO] signals_in_the_noise.utilities.tenx_genomics: Reading C:\\Users\\silly\\GitHub\\signals-in-the-noise\\data\\GSE161529_adata_cache\\GSM4909300_ER-MH0032.h5ad as AnnData object.\n",
      "2025-07-20 21:30:38,389 [INFO] signals_in_the_noise.utilities.tenx_genomics: Reading C:\\Users\\silly\\GitHub\\signals-in-the-noise\\data\\GSE161529_adata_cache\\GSM4909301_ER-MH0042.h5ad as AnnData object.\n",
      "2025-07-20 21:30:38,437 [INFO] signals_in_the_noise.utilities.tenx_genomics: Reading C:\\Users\\silly\\GitHub\\signals-in-the-noise\\data\\GSE161529_adata_cache\\GSM4909302_ER-MH0025.h5ad as AnnData object.\n",
      "2025-07-20 21:30:38,507 [INFO] signals_in_the_noise.utilities.tenx_genomics: Reading C:\\Users\\silly\\GitHub\\signals-in-the-noise\\data\\GSE161529_adata_cache\\GSM4909303_ER-MH0151.h5ad as AnnData object.\n",
      "2025-07-20 21:30:38,552 [INFO] signals_in_the_noise.utilities.tenx_genomics: Reading C:\\Users\\silly\\GitHub\\signals-in-the-noise\\data\\GSE161529_adata_cache\\GSM4909304_ER-MH0163.h5ad as AnnData object.\n",
      "2025-07-20 21:30:38,622 [INFO] signals_in_the_noise.utilities.tenx_genomics: Reading C:\\Users\\silly\\GitHub\\signals-in-the-noise\\data\\GSE161529_adata_cache\\GSM4909305_ER-MH0029-7C.h5ad as AnnData object.\n",
      "2025-07-20 21:30:38,671 [INFO] signals_in_the_noise.utilities.tenx_genomics: Reading C:\\Users\\silly\\GitHub\\signals-in-the-noise\\data\\GSE161529_adata_cache\\GSM4909306_ER-MH0029-9C.h5ad as AnnData object.\n",
      "2025-07-20 21:30:38,742 [INFO] signals_in_the_noise.utilities.tenx_genomics: Reading C:\\Users\\silly\\GitHub\\signals-in-the-noise\\data\\GSE161529_adata_cache\\GSM4909307_ER-MH0040.h5ad as AnnData object.\n",
      "2025-07-20 21:30:38,799 [INFO] signals_in_the_noise.utilities.tenx_genomics: Reading C:\\Users\\silly\\GitHub\\signals-in-the-noise\\data\\GSE161529_adata_cache\\GSM4909308_ER-MH0040-LN.h5ad as AnnData object.\n",
      "2025-07-20 21:30:38,865 [INFO] signals_in_the_noise.utilities.tenx_genomics: Reading C:\\Users\\silly\\GitHub\\signals-in-the-noise\\data\\GSE161529_adata_cache\\GSM4909309_ER-MH0043-T.h5ad as AnnData object.\n",
      "2025-07-20 21:30:38,917 [INFO] signals_in_the_noise.utilities.tenx_genomics: Reading C:\\Users\\silly\\GitHub\\signals-in-the-noise\\data\\GSE161529_adata_cache\\GSM4909310_ER-MH0043-LN.h5ad as AnnData object.\n",
      "2025-07-20 21:30:38,950 [INFO] signals_in_the_noise.utilities.tenx_genomics: Reading C:\\Users\\silly\\GitHub\\signals-in-the-noise\\data\\GSE161529_adata_cache\\GSM4909311_ER-MH0056-T.h5ad as AnnData object.\n",
      "2025-07-20 21:30:38,985 [INFO] signals_in_the_noise.utilities.tenx_genomics: Reading C:\\Users\\silly\\GitHub\\signals-in-the-noise\\data\\GSE161529_adata_cache\\GSM4909312_ER-MH0056-LN.h5ad as AnnData object.\n",
      "2025-07-20 21:30:39,036 [INFO] signals_in_the_noise.utilities.tenx_genomics: Reading C:\\Users\\silly\\GitHub\\signals-in-the-noise\\data\\GSE161529_adata_cache\\GSM4909313_ER-MH0064-T.h5ad as AnnData object.\n",
      "2025-07-20 21:30:39,081 [INFO] signals_in_the_noise.utilities.tenx_genomics: Reading C:\\Users\\silly\\GitHub\\signals-in-the-noise\\data\\GSE161529_adata_cache\\GSM4909314_ER-MH0064-LN.h5ad as AnnData object.\n",
      "2025-07-20 21:30:39,116 [INFO] signals_in_the_noise.utilities.tenx_genomics: Reading C:\\Users\\silly\\GitHub\\signals-in-the-noise\\data\\GSE161529_adata_cache\\GSM4909315_ER-MH0167-T.h5ad as AnnData object.\n",
      "2025-07-20 21:30:39,213 [INFO] signals_in_the_noise.utilities.tenx_genomics: Reading C:\\Users\\silly\\GitHub\\signals-in-the-noise\\data\\GSE161529_adata_cache\\GSM4909316_ER-MH0167-LN.h5ad as AnnData object.\n",
      "2025-07-20 21:30:39,272 [INFO] signals_in_the_noise.utilities.tenx_genomics: Reading C:\\Users\\silly\\GitHub\\signals-in-the-noise\\data\\GSE161529_adata_cache\\GSM4909317_ER-MH0173-T.h5ad as AnnData object.\n",
      "2025-07-20 21:30:39,355 [INFO] signals_in_the_noise.utilities.tenx_genomics: Reading C:\\Users\\silly\\GitHub\\signals-in-the-noise\\data\\GSE161529_adata_cache\\GSM4909318_ER-MH0173-LN.h5ad as AnnData object.\n",
      "2025-07-20 21:30:39,419 [INFO] signals_in_the_noise.utilities.tenx_genomics: Reading C:\\Users\\silly\\GitHub\\signals-in-the-noise\\data\\GSE161529_adata_cache\\GSM4909319_mER-PM0178.h5ad as AnnData object.\n",
      "2025-07-20 21:30:39,470 [INFO] signals_in_the_noise.utilities.tenx_genomics: Reading C:\\Users\\silly\\GitHub\\signals-in-the-noise\\data\\GSE161529_adata_cache\\GSM4909320_mER-MH0068-T.h5ad as AnnData object.\n",
      "2025-07-20 21:30:39,502 [INFO] signals_in_the_noise.utilities.tenx_genomics: Reading C:\\Users\\silly\\GitHub\\signals-in-the-noise\\data\\GSE161529_adata_cache\\GSM4909321_mER-MH0068-LN.h5ad as AnnData object.\n",
      "2025-07-20 21:30:39,546 [INFO] signals_in_the_noise.preprocessing.gse161529: Combining datasets...\n",
      "2025-07-20 21:30:39,614 [INFO] signals_in_the_noise.preprocessing.gse161529: [before annotation] Sanity check genes missing (3) CD326, EpCAM, CD49F\n"
     ]
    },
    {
     "name": "stdout",
     "output_type": "stream",
     "text": [
      "Log normalizing dataset...\n",
      "Filtering dataset to highly variable genes...\n"
     ]
    },
    {
     "name": "stderr",
     "output_type": "stream",
     "text": [
      "2025-07-20 21:30:40,468 [INFO] signals_in_the_noise.preprocessing.gse161529: [after stromal filter], sanity check genes missing (7) EPCAM, CD326, EpCAM, CD49F, SOX10, ESR1, KIT\n",
      "2025-07-20 21:30:40,492 [INFO] signals_in_the_noise.preprocessing.gse161529: [before annotation] Sanity check genes missing (3) CD326, EpCAM, CD49F\n",
      "2025-07-20 21:30:40,654 [INFO] signals_in_the_noise.preprocessing.gse161529: [after stromal filter], sanity check genes missing (10) CD326, EpCAM, CD49F, ITGA6, SOX10, SNAI2, PGR, FOXA1, TNFRSF11A, KIT\n",
      "2025-07-20 21:30:40,675 [INFO] signals_in_the_noise.preprocessing.gse161529: [before annotation] Sanity check genes missing (3) CD326, EpCAM, CD49F\n"
     ]
    },
    {
     "name": "stdout",
     "output_type": "stream",
     "text": [
      "Log normalizing dataset...\n",
      "Filtering dataset to highly variable genes...\n",
      "Log normalizing dataset...\n",
      "Filtering dataset to highly variable genes...\n"
     ]
    },
    {
     "name": "stderr",
     "output_type": "stream",
     "text": [
      "2025-07-20 21:30:40,939 [INFO] signals_in_the_noise.preprocessing.gse161529: [after stromal filter], sanity check genes missing (12) EPCAM, CD326, EpCAM, CD49F, ITGA6, SOX10, NOTCH4, ESR1, PGR, FOXA1, TNFRSF11A, KIT\n",
      "2025-07-20 21:30:40,948 [INFO] signals_in_the_noise.preprocessing.gse161529: [before annotation] Sanity check genes missing (3) CD326, EpCAM, CD49F\n",
      "2025-07-20 21:30:41,097 [INFO] signals_in_the_noise.preprocessing.gse161529: [after stromal filter], sanity check genes missing (9) EPCAM, CD326, EpCAM, CD49F, SOX10, NOTCH4, ESR1, PGR, TNFRSF11A\n",
      "2025-07-20 21:30:41,120 [INFO] signals_in_the_noise.preprocessing.gse161529: [before annotation] Sanity check genes missing (3) CD326, EpCAM, CD49F\n"
     ]
    },
    {
     "name": "stdout",
     "output_type": "stream",
     "text": [
      "Log normalizing dataset...\n",
      "Filtering dataset to highly variable genes...\n",
      "Log normalizing dataset...\n",
      "Filtering dataset to highly variable genes...\n"
     ]
    },
    {
     "name": "stderr",
     "output_type": "stream",
     "text": [
      "2025-07-20 21:30:41,464 [INFO] signals_in_the_noise.preprocessing.gse161529: [after stromal filter], sanity check genes missing (12) EPCAM, CD326, EpCAM, CD49F, ITGA6, SOX10, NOTCH4, ESR1, PGR, FOXA1, TNFRSF11A, KIT\n",
      "2025-07-20 21:30:41,475 [INFO] signals_in_the_noise.preprocessing.gse161529: [before annotation] Sanity check genes missing (3) CD326, EpCAM, CD49F\n",
      "2025-07-20 21:30:41,627 [INFO] signals_in_the_noise.preprocessing.gse161529: [after stromal filter], sanity check genes missing (12) EPCAM, CD326, EpCAM, CD49F, ITGA6, SOX10, NOTCH4, ESR1, PGR, FOXA1, TNFRSF11A, KIT\n"
     ]
    },
    {
     "name": "stdout",
     "output_type": "stream",
     "text": [
      "Log normalizing dataset...\n",
      "Filtering dataset to highly variable genes...\n"
     ]
    },
    {
     "name": "stderr",
     "output_type": "stream",
     "text": [
      "2025-07-20 21:30:41,672 [INFO] signals_in_the_noise.preprocessing.gse161529: [before annotation] Sanity check genes missing (3) CD326, EpCAM, CD49F\n"
     ]
    },
    {
     "name": "stdout",
     "output_type": "stream",
     "text": [
      "Log normalizing dataset...\n",
      "Filtering dataset to highly variable genes...\n"
     ]
    },
    {
     "name": "stderr",
     "output_type": "stream",
     "text": [
      "2025-07-20 21:30:42,090 [INFO] signals_in_the_noise.preprocessing.gse161529: [after stromal filter], sanity check genes missing (10) EPCAM, CD326, EpCAM, CD49F, SOX10, ESR1, PGR, FOXA1, TNFRSF11A, KIT\n",
      "2025-07-20 21:30:42,105 [INFO] signals_in_the_noise.preprocessing.gse161529: [before annotation] Sanity check genes missing (3) CD326, EpCAM, CD49F\n",
      "2025-07-20 21:30:42,265 [INFO] signals_in_the_noise.preprocessing.gse161529: [after stromal filter], sanity check genes missing (13) EPCAM, CD326, EpCAM, CD49F, SOX10, MYLK, SNAI2, DKK3, ESR1, PGR, FOXA1, TNFRSF11A, KIT\n",
      "2025-07-20 21:30:42,300 [INFO] signals_in_the_noise.preprocessing.gse161529: [before annotation] Sanity check genes missing (3) CD326, EpCAM, CD49F\n"
     ]
    },
    {
     "name": "stdout",
     "output_type": "stream",
     "text": [
      "Log normalizing dataset...\n",
      "Filtering dataset to highly variable genes...\n",
      "Log normalizing dataset...\n",
      "Filtering dataset to highly variable genes...\n"
     ]
    },
    {
     "name": "stderr",
     "output_type": "stream",
     "text": [
      "2025-07-20 21:30:42,660 [INFO] signals_in_the_noise.preprocessing.gse161529: [after stromal filter], sanity check genes missing (11) EPCAM, CD326, EpCAM, CD49F, ITGA6, SOX10, ESR1, PGR, FOXA1, TNFRSF11A, KIT\n",
      "2025-07-20 21:30:42,672 [INFO] signals_in_the_noise.preprocessing.gse161529: [before annotation] Sanity check genes missing (3) CD326, EpCAM, CD49F\n",
      "2025-07-20 21:30:42,825 [INFO] signals_in_the_noise.preprocessing.gse161529: [after stromal filter], sanity check genes missing (11) CD326, EpCAM, CD49F, SOX10, MYLK, SNAI2, NOTCH4, ESR1, PGR, FOXA1, TNFRSF11A\n",
      "2025-07-20 21:30:42,858 [INFO] signals_in_the_noise.preprocessing.gse161529: [before annotation] Sanity check genes missing (3) CD326, EpCAM, CD49F\n"
     ]
    },
    {
     "name": "stdout",
     "output_type": "stream",
     "text": [
      "Log normalizing dataset...\n",
      "Filtering dataset to highly variable genes...\n",
      "Log normalizing dataset...\n",
      "Filtering dataset to highly variable genes...\n"
     ]
    },
    {
     "name": "stderr",
     "output_type": "stream",
     "text": [
      "2025-07-20 21:30:43,200 [INFO] signals_in_the_noise.preprocessing.gse161529: [after stromal filter], sanity check genes missing (9) EPCAM, CD326, EpCAM, CD49F, SOX10, NOTCH4, ESR1, TNFRSF11A, KIT\n",
      "2025-07-20 21:30:43,213 [INFO] signals_in_the_noise.preprocessing.gse161529: [before annotation] Sanity check genes missing (3) CD326, EpCAM, CD49F\n",
      "2025-07-20 21:30:43,366 [INFO] signals_in_the_noise.preprocessing.gse161529: [after stromal filter], sanity check genes missing (10) CD326, EpCAM, CD49F, SOX10, NOTCH4, ESR1, PGR, FOXA1, TNFRSF11A, KIT\n",
      "2025-07-20 21:30:43,401 [INFO] signals_in_the_noise.preprocessing.gse161529: [before annotation] Sanity check genes missing (3) CD326, EpCAM, CD49F\n"
     ]
    },
    {
     "name": "stdout",
     "output_type": "stream",
     "text": [
      "Log normalizing dataset...\n",
      "Filtering dataset to highly variable genes...\n",
      "Log normalizing dataset...\n",
      "Filtering dataset to highly variable genes...\n"
     ]
    },
    {
     "name": "stderr",
     "output_type": "stream",
     "text": [
      "2025-07-20 21:30:43,820 [INFO] signals_in_the_noise.preprocessing.gse161529: [after stromal filter], sanity check genes missing (13) EPCAM, CD326, EpCAM, CD49F, SOX10, MYLK, SNAI2, NOTCH4, DKK3, ESR1, PGR, TNFRSF11A, KIT\n",
      "2025-07-20 21:30:43,834 [INFO] signals_in_the_noise.preprocessing.gse161529: [before annotation] Sanity check genes missing (3) CD326, EpCAM, CD49F\n",
      "2025-07-20 21:30:43,999 [INFO] signals_in_the_noise.preprocessing.gse161529: [after stromal filter], sanity check genes missing (13) EPCAM, CD326, EpCAM, CD49F, ITGA6, SOX10, SNAI2, NOTCH4, DKK3, ESR1, PGR, TNFRSF11A, KIT\n"
     ]
    },
    {
     "name": "stdout",
     "output_type": "stream",
     "text": [
      "Log normalizing dataset...\n",
      "Filtering dataset to highly variable genes...\n"
     ]
    },
    {
     "name": "stderr",
     "output_type": "stream",
     "text": [
      "2025-07-20 21:30:44,134 [INFO] signals_in_the_noise.preprocessing.gse161529: [before annotation] Sanity check genes missing (3) CD326, EpCAM, CD49F\n"
     ]
    },
    {
     "name": "stdout",
     "output_type": "stream",
     "text": [
      "Log normalizing dataset...\n",
      "Filtering dataset to highly variable genes...\n"
     ]
    },
    {
     "name": "stderr",
     "output_type": "stream",
     "text": [
      "2025-07-20 21:30:45,115 [INFO] signals_in_the_noise.preprocessing.gse161529: [after stromal filter], sanity check genes missing (8) EPCAM, CD326, EpCAM, CD49F, SOX10, ESR1, TNFRSF11A, KIT\n",
      "2025-07-20 21:30:45,165 [INFO] signals_in_the_noise.preprocessing.gse161529: [before annotation] Sanity check genes missing (3) CD326, EpCAM, CD49F\n"
     ]
    },
    {
     "name": "stdout",
     "output_type": "stream",
     "text": [
      "Log normalizing dataset...\n",
      "Filtering dataset to highly variable genes...\n"
     ]
    },
    {
     "name": "stderr",
     "output_type": "stream",
     "text": [
      "2025-07-20 21:30:45,403 [INFO] signals_in_the_noise.preprocessing.gse161529: [after stromal filter], sanity check genes missing (9) CD326, EpCAM, CD49F, SOX10, SNAI2, ESR1, PGR, TNFRSF11A, KIT\n",
      "2025-07-20 21:30:45,516 [INFO] signals_in_the_noise.preprocessing.gse161529: [before annotation] Sanity check genes missing (3) CD326, EpCAM, CD49F\n"
     ]
    },
    {
     "name": "stdout",
     "output_type": "stream",
     "text": [
      "Log normalizing dataset...\n",
      "Filtering dataset to highly variable genes...\n"
     ]
    },
    {
     "name": "stderr",
     "output_type": "stream",
     "text": [
      "2025-07-20 21:30:46,412 [INFO] signals_in_the_noise.preprocessing.gse161529: [after stromal filter], sanity check genes missing (7) EPCAM, CD326, EpCAM, CD49F, SOX10, TNFRSF11A, KIT\n",
      "2025-07-20 21:30:46,447 [INFO] signals_in_the_noise.preprocessing.gse161529: [before annotation] Sanity check genes missing (3) CD326, EpCAM, CD49F\n",
      "2025-07-20 21:30:46,641 [INFO] signals_in_the_noise.preprocessing.gse161529: [after stromal filter], sanity check genes missing (12) EPCAM, CD326, EpCAM, CD49F, SOX10, KRT5, NOTCH4, ESR1, PGR, FOXA1, TNFRSF11A, KIT\n"
     ]
    },
    {
     "name": "stdout",
     "output_type": "stream",
     "text": [
      "Log normalizing dataset...\n",
      "Filtering dataset to highly variable genes...\n"
     ]
    },
    {
     "name": "stderr",
     "output_type": "stream",
     "text": [
      "2025-07-20 21:30:46,820 [INFO] signals_in_the_noise.preprocessing.gse161529: [before annotation] Sanity check genes missing (3) CD326, EpCAM, CD49F\n"
     ]
    },
    {
     "name": "stdout",
     "output_type": "stream",
     "text": [
      "Log normalizing dataset...\n",
      "Filtering dataset to highly variable genes...\n"
     ]
    },
    {
     "name": "stderr",
     "output_type": "stream",
     "text": [
      "2025-07-20 21:30:48,296 [INFO] signals_in_the_noise.preprocessing.gse161529: [after stromal filter], sanity check genes missing (9) EPCAM, CD326, EpCAM, CD49F, SOX10, NOTCH4, ESR1, TNFRSF11A, KIT\n",
      "2025-07-20 21:30:48,358 [INFO] signals_in_the_noise.preprocessing.gse161529: [before annotation] Sanity check genes missing (3) CD326, EpCAM, CD49F\n"
     ]
    },
    {
     "name": "stdout",
     "output_type": "stream",
     "text": [
      "Log normalizing dataset...\n",
      "Filtering dataset to highly variable genes...\n"
     ]
    },
    {
     "name": "stderr",
     "output_type": "stream",
     "text": [
      "2025-07-20 21:30:48,591 [INFO] signals_in_the_noise.preprocessing.gse161529: [after stromal filter], sanity check genes missing (13) EPCAM, CD326, EpCAM, CD49F, ITGA6, SOX10, SNAI2, NOTCH4, DKK3, ESR1, PGR, TNFRSF11A, KIT\n",
      "2025-07-20 21:30:48,680 [INFO] signals_in_the_noise.preprocessing.gse161529: [before annotation] Sanity check genes missing (3) CD326, EpCAM, CD49F\n"
     ]
    },
    {
     "name": "stdout",
     "output_type": "stream",
     "text": [
      "Log normalizing dataset...\n",
      "Filtering dataset to highly variable genes...\n"
     ]
    },
    {
     "name": "stderr",
     "output_type": "stream",
     "text": [
      "2025-07-20 21:30:49,492 [INFO] signals_in_the_noise.preprocessing.gse161529: [after stromal filter], sanity check genes missing (9) EPCAM, CD326, EpCAM, CD49F, SOX10, NOTCH4, FOXA1, TNFRSF11A, KIT\n",
      "2025-07-20 21:30:49,521 [INFO] signals_in_the_noise.preprocessing.gse161529: [before annotation] Sanity check genes missing (3) CD326, EpCAM, CD49F\n"
     ]
    },
    {
     "name": "stdout",
     "output_type": "stream",
     "text": [
      "Log normalizing dataset...\n",
      "Filtering dataset to highly variable genes...\n"
     ]
    },
    {
     "name": "stderr",
     "output_type": "stream",
     "text": [
      "2025-07-20 21:30:49,817 [INFO] signals_in_the_noise.preprocessing.gse161529: [after stromal filter], sanity check genes missing (13) EPCAM, CD326, EpCAM, CD49F, SOX10, SNAI2, NOTCH4, DKK3, ESR1, PGR, FOXA1, TNFRSF11A, KIT\n",
      "C:\\Users\\silly\\GitHub\\signals-in-the-noise\\src\\signals_in_the_noise\\preprocessing\\gse161529.py:361: FutureWarning: In the future, the default backend for leiden will be igraph instead of leidenalg.\n",
      "\n",
      " To achieve the future defaults please pass: flavor=\"igraph\" and n_iterations=2.  directed must also be False to work with igraph's implementation.\n",
      "  sc.tl.leiden(adata, resolution=resolution, random_state=self.random_seed)\n",
      "2025-07-20 21:31:34,621 [INFO] openTSNE.tsne: Precomputed initialization provided. Ignoring initalization-related parameters.\n",
      "2025-07-20 21:31:34,635 [INFO] openTSNE.tsne: Automatically determined negative gradient method `fft`\n"
     ]
    },
    {
     "ename": "KeyboardInterrupt",
     "evalue": "",
     "output_type": "error",
     "traceback": [
      "\u001B[31m---------------------------------------------------------------------------\u001B[39m",
      "\u001B[31mKeyboardInterrupt\u001B[39m                         Traceback (most recent call last)",
      "\u001B[36mCell\u001B[39m\u001B[36m \u001B[39m\u001B[32mIn[2]\u001B[39m\u001B[32m, line 8\u001B[39m\n\u001B[32m      2\u001B[39m gse = GSE161529()\n\u001B[32m      3\u001B[39m gene_check = [\n\u001B[32m      4\u001B[39m     \u001B[33m'\u001B[39m\u001B[33mEPCAM\u001B[39m\u001B[33m'\u001B[39m, \u001B[33m'\u001B[39m\u001B[33mCD326\u001B[39m\u001B[33m'\u001B[39m, \u001B[33m'\u001B[39m\u001B[33mEpCAM\u001B[39m\u001B[33m'\u001B[39m, \u001B[33m'\u001B[39m\u001B[33mCD49F\u001B[39m\u001B[33m'\u001B[39m, \u001B[33m'\u001B[39m\u001B[33mITGA6\u001B[39m\u001B[33m'\u001B[39m, \u001B[33m'\u001B[39m\u001B[33mSOX10\u001B[39m\u001B[33m'\u001B[39m,\n\u001B[32m      5\u001B[39m     \u001B[33m'\u001B[39m\u001B[33mKRT5\u001B[39m\u001B[33m'\u001B[39m, \u001B[33m'\u001B[39m\u001B[33mACTA2\u001B[39m\u001B[33m'\u001B[39m, \u001B[33m'\u001B[39m\u001B[33mMYLK\u001B[39m\u001B[33m'\u001B[39m, \u001B[33m'\u001B[39m\u001B[33mSNAI2\u001B[39m\u001B[33m'\u001B[39m, \u001B[33m'\u001B[39m\u001B[33mNOTCH4\u001B[39m\u001B[33m'\u001B[39m, \u001B[33m'\u001B[39m\u001B[33mDKK3\u001B[39m\u001B[33m'\u001B[39m,\n\u001B[32m      6\u001B[39m     \u001B[33m'\u001B[39m\u001B[33mESR1\u001B[39m\u001B[33m'\u001B[39m, \u001B[33m'\u001B[39m\u001B[33mPGR\u001B[39m\u001B[33m'\u001B[39m, \u001B[33m'\u001B[39m\u001B[33mFOXA1\u001B[39m\u001B[33m'\u001B[39m, \u001B[33m'\u001B[39m\u001B[33mTNFRSF11A\u001B[39m\u001B[33m'\u001B[39m, \u001B[33m'\u001B[39m\u001B[33mKIT\u001B[39m\u001B[33m'\u001B[39m,\n\u001B[32m      7\u001B[39m ]\n\u001B[32m----> \u001B[39m\u001B[32m8\u001B[39m all_real, all_noise = \u001B[43mgse\u001B[49m\u001B[43m.\u001B[49m\u001B[43mget_combined_epithilial_dataset\u001B[49m\u001B[43m(\u001B[49m\u001B[43mgenes_to_check\u001B[49m\u001B[43m=\u001B[49m\u001B[43mgene_check\u001B[49m\u001B[43m)\u001B[49m\n",
      "\u001B[36mFile \u001B[39m\u001B[32m~\\GitHub\\signals-in-the-noise\\src\\signals_in_the_noise\\preprocessing\\gse161529.py:345\u001B[39m, in \u001B[36mGSE161529.get_combined_epithilial_dataset\u001B[39m\u001B[34m(self, hvg_only, apply_tsne, genes_to_check)\u001B[39m\n\u001B[32m    341\u001B[39m adatas_all_noise = ad.concat(adatas_noise, join=\u001B[33m'\u001B[39m\u001B[33minner\u001B[39m\u001B[33m'\u001B[39m)\n\u001B[32m    343\u001B[39m \u001B[38;5;28;01mif\u001B[39;00m apply_tsne:\n\u001B[32m    344\u001B[39m     \u001B[38;5;66;03m# reduce dimensions\u001B[39;00m\n\u001B[32m--> \u001B[39m\u001B[32m345\u001B[39m     \u001B[38;5;28;43mself\u001B[39;49m\u001B[43m.\u001B[49m\u001B[43mapply_tsne\u001B[49m\u001B[43m(\u001B[49m\u001B[43madatas_all_real\u001B[49m\u001B[43m)\u001B[49m\n\u001B[32m    346\u001B[39m     \u001B[38;5;28mself\u001B[39m.apply_tsne(adatas_all_noise)\n\u001B[32m    348\u001B[39m \u001B[38;5;66;03m# write out the combined datasets\u001B[39;00m\n",
      "\u001B[36mFile \u001B[39m\u001B[32m~\\GitHub\\signals-in-the-noise\\src\\signals_in_the_noise\\preprocessing\\gse161529.py:374\u001B[39m, in \u001B[36mGSE161529.apply_tsne\u001B[39m\u001B[34m(self, adata, use_leiden, resolution)\u001B[39m\n\u001B[32m    372\u001B[39m \u001B[38;5;66;03m# -- for determinism, round the value to guard against floating point noise\u001B[39;00m\n\u001B[32m    373\u001B[39m X_pca = adata.obsm[\u001B[33m'\u001B[39m\u001B[33mX_pca\u001B[39m\u001B[33m'\u001B[39m]\n\u001B[32m--> \u001B[39m\u001B[32m374\u001B[39m X_embedding = \u001B[43mtsne\u001B[49m\u001B[43m.\u001B[49m\u001B[43mfit\u001B[49m\u001B[43m(\u001B[49m\u001B[43mnp\u001B[49m\u001B[43m.\u001B[49m\u001B[43mround\u001B[49m\u001B[43m(\u001B[49m\u001B[43mX_pca\u001B[49m\u001B[43m,\u001B[49m\u001B[43m \u001B[49m\u001B[43mdecimals\u001B[49m\u001B[43m=\u001B[49m\u001B[32;43m10\u001B[39;49m\u001B[43m)\u001B[49m\u001B[43m)\u001B[49m\n\u001B[32m    375\u001B[39m adata.obsm[\u001B[33m'\u001B[39m\u001B[33mX_tsne\u001B[39m\u001B[33m'\u001B[39m] = np.asarray(X_embedding)\n",
      "\u001B[36mFile \u001B[39m\u001B[32m~\\GitHub\\signals-in-the-noise\\.venv\\Lib\\site-packages\\openTSNE\\tsne.py:1252\u001B[39m, in \u001B[36mTSNE.fit\u001B[39m\u001B[34m(self, X, affinities, initialization)\u001B[39m\n\u001B[32m   1247\u001B[39m embedding = \u001B[38;5;28mself\u001B[39m.prepare_initial(X, affinities, initialization)\n\u001B[32m   1249\u001B[39m \u001B[38;5;28;01mtry\u001B[39;00m:\n\u001B[32m   1250\u001B[39m     \u001B[38;5;66;03m# Early exaggeration with lower momentum to allow points to find more\u001B[39;00m\n\u001B[32m   1251\u001B[39m     \u001B[38;5;66;03m# easily move around and find their neighbors\u001B[39;00m\n\u001B[32m-> \u001B[39m\u001B[32m1252\u001B[39m     \u001B[43membedding\u001B[49m\u001B[43m.\u001B[49m\u001B[43moptimize\u001B[49m\u001B[43m(\u001B[49m\n\u001B[32m   1253\u001B[39m \u001B[43m        \u001B[49m\u001B[43mn_iter\u001B[49m\u001B[43m=\u001B[49m\u001B[38;5;28;43mself\u001B[39;49m\u001B[43m.\u001B[49m\u001B[43mearly_exaggeration_iter\u001B[49m\u001B[43m,\u001B[49m\n\u001B[32m   1254\u001B[39m \u001B[43m        \u001B[49m\u001B[43mexaggeration\u001B[49m\u001B[43m=\u001B[49m\u001B[38;5;28;43mself\u001B[39;49m\u001B[43m.\u001B[49m\u001B[43mearly_exaggeration\u001B[49m\u001B[43m,\u001B[49m\n\u001B[32m   1255\u001B[39m \u001B[43m        \u001B[49m\u001B[43mmomentum\u001B[49m\u001B[43m=\u001B[49m\u001B[38;5;28;43mself\u001B[39;49m\u001B[43m.\u001B[49m\u001B[43minitial_momentum\u001B[49m\u001B[43m,\u001B[49m\n\u001B[32m   1256\u001B[39m \u001B[43m        \u001B[49m\u001B[43minplace\u001B[49m\u001B[43m=\u001B[49m\u001B[38;5;28;43;01mTrue\u001B[39;49;00m\u001B[43m,\u001B[49m\n\u001B[32m   1257\u001B[39m \u001B[43m        \u001B[49m\u001B[43mpropagate_exception\u001B[49m\u001B[43m=\u001B[49m\u001B[38;5;28;43;01mTrue\u001B[39;49;00m\u001B[43m,\u001B[49m\n\u001B[32m   1258\u001B[39m \u001B[43m    \u001B[49m\u001B[43m)\u001B[49m\n\u001B[32m   1260\u001B[39m     \u001B[38;5;66;03m# Restore actual affinity probabilities and increase momentum to get\u001B[39;00m\n\u001B[32m   1261\u001B[39m     \u001B[38;5;66;03m# final, optimized embedding\u001B[39;00m\n\u001B[32m   1262\u001B[39m     embedding.optimize(\n\u001B[32m   1263\u001B[39m         n_iter=\u001B[38;5;28mself\u001B[39m.n_iter,\n\u001B[32m   1264\u001B[39m         exaggeration=\u001B[38;5;28mself\u001B[39m.exaggeration,\n\u001B[32m   (...)\u001B[39m\u001B[32m   1267\u001B[39m         propagate_exception=\u001B[38;5;28;01mTrue\u001B[39;00m,\n\u001B[32m   1268\u001B[39m     )\n",
      "\u001B[36mFile \u001B[39m\u001B[32m~\\GitHub\\signals-in-the-noise\\.venv\\Lib\\site-packages\\openTSNE\\tsne.py:679\u001B[39m, in \u001B[36mTSNEEmbedding.optimize\u001B[39m\u001B[34m(self, n_iter, inplace, propagate_exception, **gradient_descent_params)\u001B[39m\n\u001B[32m    674\u001B[39m _handle_nice_params(embedding, optim_params)\n\u001B[32m    676\u001B[39m \u001B[38;5;28;01mtry\u001B[39;00m:\n\u001B[32m    677\u001B[39m     \u001B[38;5;66;03m# Run gradient descent with the embedding optimizer so gains are\u001B[39;00m\n\u001B[32m    678\u001B[39m     \u001B[38;5;66;03m# properly updated and kept\u001B[39;00m\n\u001B[32m--> \u001B[39m\u001B[32m679\u001B[39m     error, embedding = \u001B[43membedding\u001B[49m\u001B[43m.\u001B[49m\u001B[43moptimizer\u001B[49m\u001B[43m(\u001B[49m\n\u001B[32m    680\u001B[39m \u001B[43m        \u001B[49m\u001B[43membedding\u001B[49m\u001B[43m=\u001B[49m\u001B[43membedding\u001B[49m\u001B[43m,\u001B[49m\u001B[43m \u001B[49m\u001B[43mP\u001B[49m\u001B[43m=\u001B[49m\u001B[38;5;28;43mself\u001B[39;49m\u001B[43m.\u001B[49m\u001B[43maffinities\u001B[49m\u001B[43m.\u001B[49m\u001B[43mP\u001B[49m\u001B[43m,\u001B[49m\u001B[43m \u001B[49m\u001B[43m*\u001B[49m\u001B[43m*\u001B[49m\u001B[43moptim_params\u001B[49m\n\u001B[32m    681\u001B[39m \u001B[43m    \u001B[49m\u001B[43m)\u001B[49m\n\u001B[32m    683\u001B[39m \u001B[38;5;28;01mexcept\u001B[39;00m OptimizationInterrupt \u001B[38;5;28;01mas\u001B[39;00m ex:\n\u001B[32m    684\u001B[39m     log.info(\u001B[33m\"\u001B[39m\u001B[33mOptimization was interrupted with callback.\u001B[39m\u001B[33m\"\u001B[39m)\n",
      "\u001B[36mFile \u001B[39m\u001B[32m~\\GitHub\\signals-in-the-noise\\.venv\\Lib\\site-packages\\openTSNE\\tsne.py:1790\u001B[39m, in \u001B[36mgradient_descent.__call__\u001B[39m\u001B[34m(self, embedding, P, n_iter, objective_function, learning_rate, momentum, exaggeration, dof, min_gain, max_grad_norm, max_step_norm, theta, n_interpolation_points, min_num_intervals, ints_in_interval, reference_embedding, n_jobs, use_callbacks, callbacks, callbacks_every_iters, verbose)\u001B[39m\n\u001B[32m   1786\u001B[39m \u001B[38;5;66;03m# Evaluate error on 50 iterations for logging, or when callbacks\u001B[39;00m\n\u001B[32m   1787\u001B[39m should_eval_error = should_call_callback \u001B[38;5;129;01mor\u001B[39;00m \\\n\u001B[32m   1788\u001B[39m     (verbose \u001B[38;5;129;01mand\u001B[39;00m (iteration + \u001B[32m1\u001B[39m) % \u001B[32m50\u001B[39m == \u001B[32m0\u001B[39m)\n\u001B[32m-> \u001B[39m\u001B[32m1790\u001B[39m error, gradient = \u001B[43mobjective_function\u001B[49m\u001B[43m(\u001B[49m\n\u001B[32m   1791\u001B[39m \u001B[43m    \u001B[49m\u001B[43membedding\u001B[49m\u001B[43m,\u001B[49m\n\u001B[32m   1792\u001B[39m \u001B[43m    \u001B[49m\u001B[43mP\u001B[49m\u001B[43m,\u001B[49m\n\u001B[32m   1793\u001B[39m \u001B[43m    \u001B[49m\u001B[43mdof\u001B[49m\u001B[43m=\u001B[49m\u001B[43mdof\u001B[49m\u001B[43m,\u001B[49m\n\u001B[32m   1794\u001B[39m \u001B[43m    \u001B[49m\u001B[43mbh_params\u001B[49m\u001B[43m=\u001B[49m\u001B[43mbh_params\u001B[49m\u001B[43m,\u001B[49m\n\u001B[32m   1795\u001B[39m \u001B[43m    \u001B[49m\u001B[43mfft_params\u001B[49m\u001B[43m=\u001B[49m\u001B[43mfft_params\u001B[49m\u001B[43m,\u001B[49m\n\u001B[32m   1796\u001B[39m \u001B[43m    \u001B[49m\u001B[43mreference_embedding\u001B[49m\u001B[43m=\u001B[49m\u001B[43mreference_embedding\u001B[49m\u001B[43m,\u001B[49m\n\u001B[32m   1797\u001B[39m \u001B[43m    \u001B[49m\u001B[43mn_jobs\u001B[49m\u001B[43m=\u001B[49m\u001B[43mn_jobs\u001B[49m\u001B[43m,\u001B[49m\n\u001B[32m   1798\u001B[39m \u001B[43m    \u001B[49m\u001B[43mshould_eval_error\u001B[49m\u001B[43m=\u001B[49m\u001B[43mshould_eval_error\u001B[49m\u001B[43m,\u001B[49m\n\u001B[32m   1799\u001B[39m \u001B[43m\u001B[49m\u001B[43m)\u001B[49m\n\u001B[32m   1801\u001B[39m \u001B[38;5;66;03m# Clip gradients to avoid points shooting off. This can be an issue\u001B[39;00m\n\u001B[32m   1802\u001B[39m \u001B[38;5;66;03m# when applying transform and points are initialized so that the new\u001B[39;00m\n\u001B[32m   1803\u001B[39m \u001B[38;5;66;03m# points overlap with the reference points, leading to large\u001B[39;00m\n\u001B[32m   1804\u001B[39m \u001B[38;5;66;03m# gradients\u001B[39;00m\n\u001B[32m   1805\u001B[39m \u001B[38;5;28;01mif\u001B[39;00m max_grad_norm \u001B[38;5;129;01mis\u001B[39;00m \u001B[38;5;129;01mnot\u001B[39;00m \u001B[38;5;28;01mNone\u001B[39;00m:\n",
      "\u001B[36mFile \u001B[39m\u001B[32m~\\GitHub\\signals-in-the-noise\\.venv\\Lib\\site-packages\\openTSNE\\tsne.py:1555\u001B[39m, in \u001B[36mkl_divergence_fft\u001B[39m\u001B[34m(embedding, P, dof, fft_params, reference_embedding, should_eval_error, n_jobs, **_)\u001B[39m\n\u001B[32m   1552\u001B[39m     reference_embedding = embedding\n\u001B[32m   1554\u001B[39m \u001B[38;5;66;03m# Compute positive gradient\u001B[39;00m\n\u001B[32m-> \u001B[39m\u001B[32m1555\u001B[39m sum_P, kl_divergence_ = \u001B[43m_tsne\u001B[49m\u001B[43m.\u001B[49m\u001B[43mestimate_positive_gradient_nn\u001B[49m\u001B[43m(\u001B[49m\n\u001B[32m   1556\u001B[39m \u001B[43m    \u001B[49m\u001B[43mP\u001B[49m\u001B[43m.\u001B[49m\u001B[43mindices\u001B[49m\u001B[43m,\u001B[49m\n\u001B[32m   1557\u001B[39m \u001B[43m    \u001B[49m\u001B[43mP\u001B[49m\u001B[43m.\u001B[49m\u001B[43mindptr\u001B[49m\u001B[43m,\u001B[49m\n\u001B[32m   1558\u001B[39m \u001B[43m    \u001B[49m\u001B[43mP\u001B[49m\u001B[43m.\u001B[49m\u001B[43mdata\u001B[49m\u001B[43m,\u001B[49m\n\u001B[32m   1559\u001B[39m \u001B[43m    \u001B[49m\u001B[43membedding\u001B[49m\u001B[43m,\u001B[49m\n\u001B[32m   1560\u001B[39m \u001B[43m    \u001B[49m\u001B[43mreference_embedding\u001B[49m\u001B[43m,\u001B[49m\n\u001B[32m   1561\u001B[39m \u001B[43m    \u001B[49m\u001B[43mgradient\u001B[49m\u001B[43m,\u001B[49m\n\u001B[32m   1562\u001B[39m \u001B[43m    \u001B[49m\u001B[43mdof\u001B[49m\u001B[43m,\u001B[49m\n\u001B[32m   1563\u001B[39m \u001B[43m    \u001B[49m\u001B[43mnum_threads\u001B[49m\u001B[43m=\u001B[49m\u001B[43mn_jobs\u001B[49m\u001B[43m,\u001B[49m\n\u001B[32m   1564\u001B[39m \u001B[43m    \u001B[49m\u001B[43mshould_eval_error\u001B[49m\u001B[43m=\u001B[49m\u001B[43mshould_eval_error\u001B[49m\u001B[43m,\u001B[49m\n\u001B[32m   1565\u001B[39m \u001B[43m\u001B[49m\u001B[43m)\u001B[49m\n\u001B[32m   1567\u001B[39m \u001B[38;5;28;01mif\u001B[39;00m should_eval_error:\n\u001B[32m   1568\u001B[39m     kl_divergence_ += sum_P * np.log(sum_Q + EPSILON)\n",
      "\u001B[31mKeyboardInterrupt\u001B[39m: "
     ]
    }
   ],
   "execution_count": 2
  },
  {
   "metadata": {
    "ExecuteTime": {
     "end_time": "2025-07-21T01:32:08.501572Z",
     "start_time": "2025-07-21T01:32:01.860555Z"
    }
   },
   "cell_type": "code",
   "source": "all_real, all_noise = gse.get_combined_epithilial_dataset(genes_to_check=gene_check, hvg_only=False)",
   "id": "23c30801abea77e1",
   "outputs": [
    {
     "name": "stderr",
     "output_type": "stream",
     "text": [
      "2025-07-20 21:32:01,863 [INFO] signals_in_the_noise.preprocessing.gse161529: Combining datasets...\n",
      "2025-07-20 21:32:01,932 [INFO] signals_in_the_noise.preprocessing.gse161529: [before annotation] Sanity check genes missing (3) CD326, EpCAM, CD49F\n"
     ]
    },
    {
     "name": "stdout",
     "output_type": "stream",
     "text": [
      "Log normalizing dataset...\n"
     ]
    },
    {
     "name": "stderr",
     "output_type": "stream",
     "text": [
      "2025-07-20 21:32:02,450 [INFO] signals_in_the_noise.preprocessing.gse161529: [after stromal filter], sanity check genes missing (3) CD326, EpCAM, CD49F\n",
      "2025-07-20 21:32:02,535 [INFO] signals_in_the_noise.preprocessing.gse161529: [before annotation] Sanity check genes missing (3) CD326, EpCAM, CD49F\n",
      "2025-07-20 21:32:02,663 [INFO] signals_in_the_noise.preprocessing.gse161529: [after stromal filter], sanity check genes missing (3) CD326, EpCAM, CD49F\n",
      "2025-07-20 21:32:02,691 [INFO] signals_in_the_noise.preprocessing.gse161529: [before annotation] Sanity check genes missing (3) CD326, EpCAM, CD49F\n"
     ]
    },
    {
     "name": "stdout",
     "output_type": "stream",
     "text": [
      "Log normalizing dataset...\n",
      "Log normalizing dataset...\n"
     ]
    },
    {
     "name": "stderr",
     "output_type": "stream",
     "text": [
      "2025-07-20 21:32:02,900 [INFO] signals_in_the_noise.preprocessing.gse161529: [after stromal filter], sanity check genes missing (3) CD326, EpCAM, CD49F\n",
      "2025-07-20 21:32:02,927 [INFO] signals_in_the_noise.preprocessing.gse161529: [before annotation] Sanity check genes missing (3) CD326, EpCAM, CD49F\n",
      "2025-07-20 21:32:03,050 [INFO] signals_in_the_noise.preprocessing.gse161529: [after stromal filter], sanity check genes missing (3) CD326, EpCAM, CD49F\n",
      "2025-07-20 21:32:03,075 [INFO] signals_in_the_noise.preprocessing.gse161529: [before annotation] Sanity check genes missing (3) CD326, EpCAM, CD49F\n"
     ]
    },
    {
     "name": "stdout",
     "output_type": "stream",
     "text": [
      "Log normalizing dataset...\n",
      "Log normalizing dataset...\n"
     ]
    },
    {
     "name": "stderr",
     "output_type": "stream",
     "text": [
      "2025-07-20 21:32:03,320 [INFO] signals_in_the_noise.preprocessing.gse161529: [after stromal filter], sanity check genes missing (3) CD326, EpCAM, CD49F\n",
      "2025-07-20 21:32:03,362 [INFO] signals_in_the_noise.preprocessing.gse161529: [before annotation] Sanity check genes missing (3) CD326, EpCAM, CD49F\n",
      "2025-07-20 21:32:03,476 [INFO] signals_in_the_noise.preprocessing.gse161529: [after stromal filter], sanity check genes missing (3) CD326, EpCAM, CD49F\n",
      "2025-07-20 21:32:03,524 [INFO] signals_in_the_noise.preprocessing.gse161529: [before annotation] Sanity check genes missing (3) CD326, EpCAM, CD49F\n"
     ]
    },
    {
     "name": "stdout",
     "output_type": "stream",
     "text": [
      "Log normalizing dataset...\n",
      "Log normalizing dataset...\n"
     ]
    },
    {
     "name": "stderr",
     "output_type": "stream",
     "text": [
      "2025-07-20 21:32:03,874 [INFO] signals_in_the_noise.preprocessing.gse161529: [after stromal filter], sanity check genes missing (3) CD326, EpCAM, CD49F\n",
      "2025-07-20 21:32:03,933 [INFO] signals_in_the_noise.preprocessing.gse161529: [before annotation] Sanity check genes missing (3) CD326, EpCAM, CD49F\n",
      "2025-07-20 21:32:04,050 [INFO] signals_in_the_noise.preprocessing.gse161529: [after stromal filter], sanity check genes missing (3) CD326, EpCAM, CD49F\n",
      "2025-07-20 21:32:04,088 [INFO] signals_in_the_noise.preprocessing.gse161529: [before annotation] Sanity check genes missing (3) CD326, EpCAM, CD49F\n"
     ]
    },
    {
     "name": "stdout",
     "output_type": "stream",
     "text": [
      "Log normalizing dataset...\n",
      "Log normalizing dataset...\n"
     ]
    },
    {
     "name": "stderr",
     "output_type": "stream",
     "text": [
      "2025-07-20 21:32:04,389 [INFO] signals_in_the_noise.preprocessing.gse161529: [after stromal filter], sanity check genes missing (3) CD326, EpCAM, CD49F\n",
      "2025-07-20 21:32:04,441 [INFO] signals_in_the_noise.preprocessing.gse161529: [before annotation] Sanity check genes missing (3) CD326, EpCAM, CD49F\n",
      "2025-07-20 21:32:04,552 [INFO] signals_in_the_noise.preprocessing.gse161529: [after stromal filter], sanity check genes missing (3) CD326, EpCAM, CD49F\n",
      "2025-07-20 21:32:04,589 [INFO] signals_in_the_noise.preprocessing.gse161529: [before annotation] Sanity check genes missing (3) CD326, EpCAM, CD49F\n"
     ]
    },
    {
     "name": "stdout",
     "output_type": "stream",
     "text": [
      "Log normalizing dataset...\n",
      "Log normalizing dataset...\n"
     ]
    },
    {
     "name": "stderr",
     "output_type": "stream",
     "text": [
      "2025-07-20 21:32:04,871 [INFO] signals_in_the_noise.preprocessing.gse161529: [after stromal filter], sanity check genes missing (3) CD326, EpCAM, CD49F\n",
      "2025-07-20 21:32:04,925 [INFO] signals_in_the_noise.preprocessing.gse161529: [before annotation] Sanity check genes missing (3) CD326, EpCAM, CD49F\n",
      "2025-07-20 21:32:05,042 [INFO] signals_in_the_noise.preprocessing.gse161529: [after stromal filter], sanity check genes missing (3) CD326, EpCAM, CD49F\n",
      "2025-07-20 21:32:05,080 [INFO] signals_in_the_noise.preprocessing.gse161529: [before annotation] Sanity check genes missing (3) CD326, EpCAM, CD49F\n"
     ]
    },
    {
     "name": "stdout",
     "output_type": "stream",
     "text": [
      "Log normalizing dataset...\n",
      "Log normalizing dataset...\n"
     ]
    },
    {
     "name": "stderr",
     "output_type": "stream",
     "text": [
      "2025-07-20 21:32:05,352 [INFO] signals_in_the_noise.preprocessing.gse161529: [after stromal filter], sanity check genes missing (3) CD326, EpCAM, CD49F\n",
      "2025-07-20 21:32:05,430 [INFO] signals_in_the_noise.preprocessing.gse161529: [before annotation] Sanity check genes missing (3) CD326, EpCAM, CD49F\n",
      "2025-07-20 21:32:05,560 [INFO] signals_in_the_noise.preprocessing.gse161529: [after stromal filter], sanity check genes missing (3) CD326, EpCAM, CD49F\n"
     ]
    },
    {
     "name": "stdout",
     "output_type": "stream",
     "text": [
      "Log normalizing dataset...\n"
     ]
    },
    {
     "name": "stderr",
     "output_type": "stream",
     "text": [
      "2025-07-20 21:32:05,752 [INFO] signals_in_the_noise.preprocessing.gse161529: [before annotation] Sanity check genes missing (3) CD326, EpCAM, CD49F\n"
     ]
    },
    {
     "name": "stdout",
     "output_type": "stream",
     "text": [
      "Log normalizing dataset...\n"
     ]
    },
    {
     "name": "stderr",
     "output_type": "stream",
     "text": [
      "2025-07-20 21:32:06,882 [INFO] signals_in_the_noise.preprocessing.gse161529: [after stromal filter], sanity check genes missing (3) CD326, EpCAM, CD49F\n",
      "2025-07-20 21:32:07,070 [INFO] signals_in_the_noise.preprocessing.gse161529: [before annotation] Sanity check genes missing (3) CD326, EpCAM, CD49F\n",
      "2025-07-20 21:32:07,258 [INFO] signals_in_the_noise.preprocessing.gse161529: [after stromal filter], sanity check genes missing (3) CD326, EpCAM, CD49F\n"
     ]
    },
    {
     "name": "stdout",
     "output_type": "stream",
     "text": [
      "Log normalizing dataset...\n"
     ]
    },
    {
     "name": "stderr",
     "output_type": "stream",
     "text": [
      "2025-07-20 21:32:07,436 [INFO] signals_in_the_noise.preprocessing.gse161529: [before annotation] Sanity check genes missing (3) CD326, EpCAM, CD49F\n"
     ]
    },
    {
     "name": "stdout",
     "output_type": "stream",
     "text": [
      "Log normalizing dataset...\n"
     ]
    },
    {
     "name": "stderr",
     "output_type": "stream",
     "text": [
      "2025-07-20 21:32:08,356 [INFO] signals_in_the_noise.preprocessing.gse161529: [after stromal filter], sanity check genes missing (3) CD326, EpCAM, CD49F\n"
     ]
    },
    {
     "ename": "MemoryError",
     "evalue": "Unable to allocate 800. MiB for an array with shape (6256, 33538) and data type float32",
     "output_type": "error",
     "traceback": [
      "\u001B[31m---------------------------------------------------------------------------\u001B[39m",
      "\u001B[31mMemoryError\u001B[39m                               Traceback (most recent call last)",
      "\u001B[36mCell\u001B[39m\u001B[36m \u001B[39m\u001B[32mIn[3]\u001B[39m\u001B[32m, line 1\u001B[39m\n\u001B[32m----> \u001B[39m\u001B[32m1\u001B[39m all_real, all_noise = \u001B[43mgse\u001B[49m\u001B[43m.\u001B[49m\u001B[43mget_combined_epithilial_dataset\u001B[49m\u001B[43m(\u001B[49m\u001B[43mgenes_to_check\u001B[49m\u001B[43m=\u001B[49m\u001B[43mgene_check\u001B[49m\u001B[43m,\u001B[49m\u001B[43m \u001B[49m\u001B[43mhvg_only\u001B[49m\u001B[43m=\u001B[49m\u001B[38;5;28;43;01mFalse\u001B[39;49;00m\u001B[43m)\u001B[49m\n",
      "\u001B[36mFile \u001B[39m\u001B[32m~\\GitHub\\signals-in-the-noise\\src\\signals_in_the_noise\\preprocessing\\gse161529.py:333\u001B[39m, in \u001B[36mGSE161529.get_combined_epithilial_dataset\u001B[39m\u001B[34m(self, hvg_only, apply_tsne, genes_to_check)\u001B[39m\n\u001B[32m    331\u001B[39m \u001B[38;5;66;03m# just in case\u001B[39;00m\n\u001B[32m    332\u001B[39m \u001B[38;5;28;01mif\u001B[39;00m sparse.issparse(adata_subset.X):\n\u001B[32m--> \u001B[39m\u001B[32m333\u001B[39m     adata_subset.X = \u001B[43madata_subset\u001B[49m\u001B[43m.\u001B[49m\u001B[43mX\u001B[49m\u001B[43m.\u001B[49m\u001B[43mtoarray\u001B[49m\u001B[43m(\u001B[49m\u001B[43m)\u001B[49m\n\u001B[32m    335\u001B[39m \u001B[38;5;28;01mif\u001B[39;00m \u001B[38;5;129;01mnot\u001B[39;00m is_noise:\n\u001B[32m    336\u001B[39m     adatas_real.append(adata_subset)\n",
      "\u001B[36mFile \u001B[39m\u001B[32m~\\GitHub\\signals-in-the-noise\\.venv\\Lib\\site-packages\\scipy\\sparse\\_compressed.py:1167\u001B[39m, in \u001B[36m_cs_matrix.toarray\u001B[39m\u001B[34m(self, order, out)\u001B[39m\n\u001B[32m   1165\u001B[39m \u001B[38;5;28;01mif\u001B[39;00m out \u001B[38;5;129;01mis\u001B[39;00m \u001B[38;5;28;01mNone\u001B[39;00m \u001B[38;5;129;01mand\u001B[39;00m order \u001B[38;5;129;01mis\u001B[39;00m \u001B[38;5;28;01mNone\u001B[39;00m:\n\u001B[32m   1166\u001B[39m     order = \u001B[38;5;28mself\u001B[39m._swap(\u001B[33m'\u001B[39m\u001B[33mcf\u001B[39m\u001B[33m'\u001B[39m)[\u001B[32m0\u001B[39m]\n\u001B[32m-> \u001B[39m\u001B[32m1167\u001B[39m out = \u001B[38;5;28;43mself\u001B[39;49m\u001B[43m.\u001B[49m\u001B[43m_process_toarray_args\u001B[49m\u001B[43m(\u001B[49m\u001B[43morder\u001B[49m\u001B[43m,\u001B[49m\u001B[43m \u001B[49m\u001B[43mout\u001B[49m\u001B[43m)\u001B[49m\n\u001B[32m   1168\u001B[39m \u001B[38;5;28;01mif\u001B[39;00m \u001B[38;5;129;01mnot\u001B[39;00m (out.flags.c_contiguous \u001B[38;5;129;01mor\u001B[39;00m out.flags.f_contiguous):\n\u001B[32m   1169\u001B[39m     \u001B[38;5;28;01mraise\u001B[39;00m \u001B[38;5;167;01mValueError\u001B[39;00m(\u001B[33m'\u001B[39m\u001B[33mOutput array must be C or F contiguous\u001B[39m\u001B[33m'\u001B[39m)\n",
      "\u001B[36mFile \u001B[39m\u001B[32m~\\GitHub\\signals-in-the-noise\\.venv\\Lib\\site-packages\\scipy\\sparse\\_base.py:1354\u001B[39m, in \u001B[36m_spbase._process_toarray_args\u001B[39m\u001B[34m(self, order, out)\u001B[39m\n\u001B[32m   1352\u001B[39m     \u001B[38;5;28;01mreturn\u001B[39;00m out\n\u001B[32m   1353\u001B[39m \u001B[38;5;28;01melse\u001B[39;00m:\n\u001B[32m-> \u001B[39m\u001B[32m1354\u001B[39m     \u001B[38;5;28;01mreturn\u001B[39;00m \u001B[43mnp\u001B[49m\u001B[43m.\u001B[49m\u001B[43mzeros\u001B[49m\u001B[43m(\u001B[49m\u001B[38;5;28;43mself\u001B[39;49m\u001B[43m.\u001B[49m\u001B[43mshape\u001B[49m\u001B[43m,\u001B[49m\u001B[43m \u001B[49m\u001B[43mdtype\u001B[49m\u001B[43m=\u001B[49m\u001B[38;5;28;43mself\u001B[39;49m\u001B[43m.\u001B[49m\u001B[43mdtype\u001B[49m\u001B[43m,\u001B[49m\u001B[43m \u001B[49m\u001B[43morder\u001B[49m\u001B[43m=\u001B[49m\u001B[43morder\u001B[49m\u001B[43m)\u001B[49m\n",
      "\u001B[31mMemoryError\u001B[39m: Unable to allocate 800. MiB for an array with shape (6256, 33538) and data type float32"
     ]
    }
   ],
   "execution_count": 3
  }
 ],
 "metadata": {
  "kernelspec": {
   "display_name": "Python 3",
   "language": "python",
   "name": "python3"
  },
  "language_info": {
   "codemirror_mode": {
    "name": "ipython",
    "version": 2
   },
   "file_extension": ".py",
   "mimetype": "text/x-python",
   "name": "python",
   "nbconvert_exporter": "python",
   "pygments_lexer": "ipython2",
   "version": "2.7.6"
  }
 },
 "nbformat": 4,
 "nbformat_minor": 5
}
