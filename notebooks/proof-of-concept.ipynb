{
 "cells": [
  {
   "cell_type": "markdown",
   "id": "213a9a06-2893-44b9-90ea-cfd2b6632ba1",
   "metadata": {},
   "source": [
    "# 0. Initialization\n",
    "## 0.1. Imports"
   ]
  },
  {
   "cell_type": "code",
   "execution_count": 1,
   "id": "8fe61768-8673-4304-b5eb-2736eb2ff887",
   "metadata": {},
   "outputs": [],
   "source": [
    "import scanpy as sc\n",
    "import scrublet as scr\n",
    "import pandas as pd\n",
    "import numpy as np\n",
    "from sklearn.preprocessing import OneHotEncoder\n",
    "import gseapy as gp\n",
    "from scipy.sparse import csc_matrix\n",
    "import anndata"
   ]
  },
  {
   "cell_type": "markdown",
   "id": "79689c0f-962a-4466-bd5d-95fc5a45258a",
   "metadata": {},
   "source": [
    "## 0.2. Load file"
   ]
  },
  {
   "cell_type": "code",
   "execution_count": 2,
   "id": "4fddb464-681e-4444-886a-ff43f0da98f6",
   "metadata": {},
   "outputs": [],
   "source": [
    "# adata = anndata.read_h5ad(\"../assets/BRCA_GSE161529_expression_skc.h5ad\")\n",
    "adata = anndata.read_h5ad(\"../assets/BRCA_GSE161529_expression_skc_doublet.h5ad\")"
   ]
  },
  {
   "cell_type": "code",
   "execution_count": 3,
   "id": "fdcd4f51-8a6d-4056-9ec7-028c16e78809",
   "metadata": {},
   "outputs": [
    {
     "data": {
      "text/plain": [
       "AnnData object with n_obs × n_vars = 332168 × 27188\n",
       "    obs: 'doublet_score', 'doublet_ghost_15'\n",
       "    var: 'gene_ids', 'gene_symbols', 'feature_types', 'genome'"
      ]
     },
     "execution_count": 3,
     "metadata": {},
     "output_type": "execute_result"
    }
   ],
   "source": [
    "adata"
   ]
  },
  {
   "cell_type": "markdown",
   "id": "c0f439df-80d8-42c7-b81e-dccd79d5d6a1",
   "metadata": {},
   "source": [
    "# 1. Process file"
   ]
  },
  {
   "cell_type": "code",
   "execution_count": 4,
   "id": "c2571499-1e74-42d8-be11-26b33c07816b",
   "metadata": {},
   "outputs": [],
   "source": [
    "## -- convert sparse array to dense\n",
    "#X_dense = adata.X.toarray()"
   ]
  },
  {
   "cell_type": "code",
   "execution_count": 5,
   "id": "32517955-084c-4211-a842-bdb3ab34b090",
   "metadata": {},
   "outputs": [],
   "source": [
    "num_cells = adata.shape[0]"
   ]
  },
  {
   "cell_type": "markdown",
   "id": "7a0254a8-5921-47c4-9dd7-36e0752bd204",
   "metadata": {},
   "source": [
    "## 1.0. Check for missing values"
   ]
  },
  {
   "cell_type": "code",
   "execution_count": 6,
   "id": "b526664d-c566-4941-bd04-0c43350b5120",
   "metadata": {},
   "outputs": [],
   "source": [
    "# missing_percentage = np.sum(np.isnan(X_dense), axis=0) / num_cells * 100"
   ]
  },
  {
   "cell_type": "markdown",
   "id": "4179c719-269c-45c7-ae09-990765f29196",
   "metadata": {},
   "source": [
    "## 1.1. Check for zero counts"
   ]
  },
  {
   "cell_type": "code",
   "execution_count": 7,
   "id": "4d76bebb-ffc2-45c6-a20c-93cc0b614146",
   "metadata": {},
   "outputs": [],
   "source": [
    "# zero_percentage = np.sum(X_dense == 0, axis=0) / num_cells * 100"
   ]
  },
  {
   "cell_type": "markdown",
   "id": "120bd5bf-e8af-4e40-8d9d-330579cecc8d",
   "metadata": {},
   "source": [
    "## 1.2. Check for negative values"
   ]
  },
  {
   "cell_type": "code",
   "execution_count": 8,
   "id": "555494c3-6299-4975-a844-eb791b6f1f3a",
   "metadata": {},
   "outputs": [],
   "source": [
    "# negative_percentage = np.sum(X_dense < 0, axis=0) / num_cells * 100"
   ]
  },
  {
   "cell_type": "markdown",
   "id": "088a0e09-607a-4ecf-94ae-3c4f8e7396eb",
   "metadata": {},
   "source": [
    "## 1.3. Write checks to disk"
   ]
  },
  {
   "cell_type": "code",
   "execution_count": 9,
   "id": "35028f0c-00b3-4eba-95a7-577a8128f803",
   "metadata": {},
   "outputs": [],
   "source": [
    "# np.save('../assets/missing_percentage.npy', missing_percentage)"
   ]
  },
  {
   "cell_type": "code",
   "execution_count": 10,
   "id": "8566a0b2-05b8-40d4-b1f5-1908be0b15e7",
   "metadata": {},
   "outputs": [],
   "source": [
    "# np.save('../assets/zero_percentage.npy', zero_percentage)"
   ]
  },
  {
   "cell_type": "code",
   "execution_count": 11,
   "id": "e9e680aa-f731-4353-a274-dfa5b040540b",
   "metadata": {},
   "outputs": [],
   "source": [
    "# np.save('../assets/negative_percentage.npy',negative_percentage)"
   ]
  },
  {
   "cell_type": "markdown",
   "id": "a671fa51-2139-4e20-8582-bca08610fa72",
   "metadata": {},
   "source": [
    "## 1.4. Read from disk and analyze"
   ]
  },
  {
   "cell_type": "code",
   "execution_count": 12,
   "id": "80fa3fe7-ed52-481b-8cc2-068de4771cb2",
   "metadata": {},
   "outputs": [],
   "source": [
    "missing_percentage = np.load('../assets/missing_percentage.npy')"
   ]
  },
  {
   "cell_type": "code",
   "execution_count": 13,
   "id": "2104004c-97b9-44ff-b271-e675fb93e9de",
   "metadata": {},
   "outputs": [],
   "source": [
    "zero_percentage = np.load('../assets/zero_percentage.npy')"
   ]
  },
  {
   "cell_type": "code",
   "execution_count": 14,
   "id": "20c4d3d9-ce33-4bd3-a622-5e2be7f44181",
   "metadata": {},
   "outputs": [],
   "source": [
    "negative_percentage = np.load('../assets/negative_percentage.npy')"
   ]
  },
  {
   "cell_type": "code",
   "execution_count": 15,
   "id": "c5905537-1558-4e0f-afc6-d793ad9b1fd4",
   "metadata": {},
   "outputs": [
    {
     "data": {
      "text/plain": [
       "(np.float64(0.0), np.float64(2544075.847161677), np.float64(0.0))"
      ]
     },
     "execution_count": 15,
     "metadata": {},
     "output_type": "execute_result"
    }
   ],
   "source": [
    "np.sum(missing_percentage), np.sum(zero_percentage), np.sum(negative_percentage)"
   ]
  },
  {
   "cell_type": "code",
   "execution_count": 16,
   "id": "5ceb1867-545e-4969-a317-6280b2d9d50a",
   "metadata": {},
   "outputs": [
    {
     "data": {
      "text/plain": [
       "(np.int64(27188), np.int64(0))"
      ]
     },
     "execution_count": 16,
     "metadata": {},
     "output_type": "execute_result"
    }
   ],
   "source": [
    "np.sum(zero_percentage > 0), np.sum(zero_percentage<=0)"
   ]
  },
  {
   "cell_type": "markdown",
   "id": "febb8f17-0c9d-4d93-9c14-338808a5d0e2",
   "metadata": {},
   "source": [
    "## 1.4. Log normalize gene expression"
   ]
  },
  {
   "cell_type": "code",
   "execution_count": 17,
   "id": "7cda34f1-2cfd-45f4-9439-f921732366ce",
   "metadata": {},
   "outputs": [],
   "source": [
    "# type(X_dense)"
   ]
  },
  {
   "cell_type": "code",
   "execution_count": 18,
   "id": "1c57ef78-e362-4d4b-b68c-0b83a1a56b7b",
   "metadata": {},
   "outputs": [],
   "source": [
    "# sc.pp.normalize_total(adata, target_sum=1e4)\n",
    "# sc.pp.log1p(adata)"
   ]
  },
  {
   "cell_type": "code",
   "execution_count": 19,
   "id": "ce6f3f79-6216-4f22-84d3-05054a7db2ca",
   "metadata": {},
   "outputs": [],
   "source": [
    "# # STEP 2: Calculate mitochondrial content\n",
    "# adata.var['mt'] = adata.var_names.str.startswith('MT-')\n",
    "# sc.pp.calculate_qc_metrics(adata, qc_vars=['mt'], percent_top=None, log1p=False, inplace=True)\n",
    "# # Store mitochondrial percentage\n",
    "# adata.obs['pct_mito'] = adata.obs['pct_counts_mt']"
   ]
  },
  {
   "cell_type": "markdown",
   "id": "24a7b352-9f1d-4afb-9df9-a708fdb10870",
   "metadata": {},
   "source": [
    "# 2. Feature Engineering - Independent Variables\n",
    "Note that we do *not* normalize the counts for engineering our independent variables.\n",
    "\n",
    "Doublet score is calculated using a separate python script because of memory limitations with jupyter.\n",
    "\n",
    "## 2.0. Mitochondrial score "
   ]
  },
  {
   "cell_type": "code",
   "execution_count": 20,
   "id": "c26614f2-df8d-46ed-9af7-baf8eee03ce2",
   "metadata": {},
   "outputs": [],
   "source": [
    "# Calcualte the mitochondrial content\n",
    "adata.var['mt'] = adata.var_names.str.startswith('MT-')\n",
    "sc.pp.calculate_qc_metrics(adata, qc_vars=['mt'], percent_top=None, log1p=False, inplace=True)"
   ]
  },
  {
   "cell_type": "code",
   "execution_count": 25,
   "id": "54acf6e1-4d51-47ee-92ed-e0f55b5a7e29",
   "metadata": {},
   "outputs": [],
   "source": [
    "adata.obs['mito_ghost_15'] = (adata.obs['pct_counts_mt'] > 15.0).astype(int)"
   ]
  },
  {
   "cell_type": "markdown",
   "id": "1b659610-8b74-4af9-b7d4-8dee695c570d",
   "metadata": {},
   "source": [
    "## 2.1. Ambient score"
   ]
  },
  {
   "cell_type": "code",
   "execution_count": 26,
   "id": "7c6a9ff3-8dda-448f-b7c7-7a98b4f3c747",
   "metadata": {},
   "outputs": [],
   "source": [
    "adata.obs['ambient_ghost'] = (adata.obs['doublet_ghost_15'] + adata.obs['mito_ghost_15']) / 2"
   ]
  },
  {
   "cell_type": "code",
   "execution_count": 22,
   "id": "a629b2fd-af58-42ce-a9c2-58b500e55cc5",
   "metadata": {},
   "outputs": [],
   "source": [
    "# adata.obs['doublet_score'] = doublet_scores\n",
    "# adata.obs['doublet_ghost'] = predicted_doublets.astype(int)"
   ]
  },
  {
   "cell_type": "markdown",
   "id": "d44d577c-8324-4be8-91e5-e928db31dbcc",
   "metadata": {},
   "source": [
    "# 3. Feature Engineering - Dependent Variables\n",
    "## 3.0. Normalize gene expression data"
   ]
  },
  {
   "cell_type": "code",
   "execution_count": 44,
   "id": "bfb44694-6bc8-4bc5-af33-127bc47e5aa9",
   "metadata": {},
   "outputs": [],
   "source": [
    "sc.pp.normalize_total(adata, target_sum=1e4)\n",
    "sc.pp.log1p(adata)"
   ]
  },
  {
   "cell_type": "markdown",
   "id": "103fa14e-2bdd-42e6-a767-68ba9b03bf9b",
   "metadata": {},
   "source": [
    "## 3.1. Get hallmark genesets"
   ]
  },
  {
   "cell_type": "code",
   "execution_count": 49,
   "id": "cb5e8524-0e24-4dea-b940-8c3786a0cba6",
   "metadata": {},
   "outputs": [],
   "source": [
    "genesets_of_interest = {\n",
    "    'HALLMARK_G2M_CHECKPOINT':'G2-M Checkpoint',\n",
    "    'HALLMARK_E2F_TARGETS': 'E2F Targets',\n",
    "    'HALLMARK_DNA_REPAIR': 'DNA Repair',\n",
    "    'HALLMARK_UNFOLDED_PROTEIN_RESPONSE': 'Unfolded Protein Response',\n",
    "}\n"
   ]
  },
  {
   "cell_type": "code",
   "execution_count": 50,
   "id": "51ec362e-eaa6-4572-8fa5-28af33bbf292",
   "metadata": {},
   "outputs": [],
   "source": [
    "hallmark_gene_sets = gp.get_library(name=\"MSigDB_Hallmark_2020\", organism=\"Human\")"
   ]
  },
  {
   "cell_type": "markdown",
   "id": "6a8be50d-55c2-49de-b96d-8833575342dd",
   "metadata": {},
   "source": [
    "## 3.2. cd274_expr"
   ]
  },
  {
   "cell_type": "code",
   "execution_count": 45,
   "id": "772d901a-cbc3-4e3d-9115-01d23ea10f49",
   "metadata": {},
   "outputs": [
    {
     "data": {
      "text/plain": [
       "True"
      ]
     },
     "execution_count": 45,
     "metadata": {},
     "output_type": "execute_result"
    }
   ],
   "source": [
    "'CD274' in adata.var_names"
   ]
  },
  {
   "cell_type": "code",
   "execution_count": 46,
   "id": "3e2014eb-f5c4-470b-a4cd-60327aef4bc2",
   "metadata": {},
   "outputs": [],
   "source": [
    "adata.obs['cd274_expr'] = adata[:, 'CD274'].X.toarray().flatten()"
   ]
  },
  {
   "cell_type": "markdown",
   "id": "d3a6ee8d-0ca3-4d05-a9ed-ece23b2a4885",
   "metadata": {},
   "source": [
    "## 3.3. hprt_expr"
   ]
  },
  {
   "cell_type": "code",
   "execution_count": 48,
   "id": "237d4914-e4c3-48cd-bc43-9d8ebcef458e",
   "metadata": {},
   "outputs": [
    {
     "data": {
      "text/plain": [
       "False"
      ]
     },
     "execution_count": 48,
     "metadata": {},
     "output_type": "execute_result"
    }
   ],
   "source": [
    "'HPRT' in adata.var_names"
   ]
  },
  {
   "cell_type": "markdown",
   "id": "6cb79d25-4a69-47f1-bcc6-edeedd2b49fc",
   "metadata": {},
   "source": [
    "## 3.4. g2m_score"
   ]
  },
  {
   "cell_type": "code",
   "execution_count": 51,
   "id": "87eb0f3b-e455-4f13-aa69-48dd1c076e39",
   "metadata": {},
   "outputs": [],
   "source": [
    "g2m_gene_list = hallmark_gene_sets.get(genesets_of_interest['HALLMARK_G2M_CHECKPOINT'])"
   ]
  },
  {
   "cell_type": "code",
   "execution_count": 53,
   "id": "99739e38-ccd8-4d81-8d71-48daf3411735",
   "metadata": {},
   "outputs": [
    {
     "name": "stdout",
     "output_type": "stream",
     "text": [
      "WARNING: genes are not in var_names and ignored: Index(['H2AZ2', 'H2AZ1', 'H2AX', 'PTTG3P', 'H2BC12'], dtype='object')\n"
     ]
    }
   ],
   "source": [
    "sc.tl.score_genes(adata, gene_list=g2m_gene_list, score_name='g2m_score')"
   ]
  },
  {
   "cell_type": "markdown",
   "id": "4ade8b62-afa9-4b09-8a83-d00ed63a9ba5",
   "metadata": {},
   "source": [
    "## 3.5. e2f_score"
   ]
  },
  {
   "cell_type": "code",
   "execution_count": 54,
   "id": "2b402729-780c-492a-b48c-083c23c414f0",
   "metadata": {},
   "outputs": [
    {
     "name": "stdout",
     "output_type": "stream",
     "text": [
      "WARNING: genes are not in var_names and ignored: Index(['H2AZ1', 'H2AX'], dtype='object')\n"
     ]
    }
   ],
   "source": [
    "e2f_gene_list = hallmark_gene_sets.get(genesets_of_interest['HALLMARK_E2F_TARGETS'])\n",
    "sc.tl.score_genes(adata, gene_list=e2f_gene_list, score_name='e2f_score')"
   ]
  },
  {
   "cell_type": "markdown",
   "id": "70e7a2f2-f74c-4efa-b9da-e26b6f334d32",
   "metadata": {},
   "source": [
    "## 3.6. dr_score"
   ]
  },
  {
   "cell_type": "code",
   "execution_count": 55,
   "id": "d22c0e92-a978-4be7-a3e1-bf035d9074ef",
   "metadata": {},
   "outputs": [],
   "source": [
    "dr_gene_list = hallmark_gene_sets.get(genesets_of_interest['HALLMARK_DNA_REPAIR'])\n",
    "sc.tl.score_genes(adata, gene_list=dr_gene_list, score_name='dr_score')"
   ]
  },
  {
   "cell_type": "markdown",
   "id": "edf50333-b3a1-4606-a28b-608dd7345679",
   "metadata": {},
   "source": [
    "## 3.7. upr_score"
   ]
  },
  {
   "cell_type": "code",
   "execution_count": 56,
   "id": "393b4187-3276-4211-90c9-e2aeb35ea2a2",
   "metadata": {},
   "outputs": [
    {
     "name": "stdout",
     "output_type": "stream",
     "text": [
      "WARNING: genes are not in var_names and ignored: Index(['TARS1', 'IARS1', 'H2AX'], dtype='object')\n"
     ]
    }
   ],
   "source": [
    "upr_gene_list = hallmark_gene_sets.get(genesets_of_interest['HALLMARK_UNFOLDED_PROTEIN_RESPONSE'])\n",
    "sc.tl.score_genes(adata, gene_list=upr_gene_list, score_name='upr_score')"
   ]
  },
  {
   "cell_type": "markdown",
   "id": "a4abc0ae-70a0-4b35-9314-579919849cfb",
   "metadata": {},
   "source": [
    "## 3.8. rpl13a_expr"
   ]
  },
  {
   "cell_type": "code",
   "execution_count": 58,
   "id": "ace3c914-7809-4ec1-8e12-8ce130bdf299",
   "metadata": {},
   "outputs": [
    {
     "data": {
      "text/plain": [
       "True"
      ]
     },
     "execution_count": 58,
     "metadata": {},
     "output_type": "execute_result"
    }
   ],
   "source": [
    "'RPL13A' in adata.var_names"
   ]
  },
  {
   "cell_type": "code",
   "execution_count": 59,
   "id": "6ff81c43-5ccc-42cb-8c8e-c53df95742e5",
   "metadata": {},
   "outputs": [],
   "source": [
    "adata.obs['RPL13A'] = adata[:, 'RPL13A'].X.toarray().flatten()"
   ]
  },
  {
   "cell_type": "markdown",
   "id": "19e57448-5716-4f0e-ab0b-17562c7e83c1",
   "metadata": {},
   "source": [
    "## 3.9. tbp_expr"
   ]
  },
  {
   "cell_type": "code",
   "execution_count": 60,
   "id": "d866c15d-74f3-4252-8f11-3021ae25938c",
   "metadata": {},
   "outputs": [
    {
     "data": {
      "text/plain": [
       "True"
      ]
     },
     "execution_count": 60,
     "metadata": {},
     "output_type": "execute_result"
    }
   ],
   "source": [
    "'TBP' in adata.var_names"
   ]
  },
  {
   "cell_type": "code",
   "execution_count": 61,
   "id": "fb55dbab-e3f8-452d-9574-e754b7a95fde",
   "metadata": {},
   "outputs": [],
   "source": [
    "adata.obs['TBP'] = adata[:, 'TBP'].X.toarray().flatten()"
   ]
  },
  {
   "cell_type": "markdown",
   "id": "710065e5-8a36-409f-9e8d-bc08442fec73",
   "metadata": {},
   "source": [
    "# 4. Write out with features"
   ]
  },
  {
   "cell_type": "code",
   "execution_count": 62,
   "id": "b5381fea-5cbf-47c7-8a12-f0f4bc2a61ea",
   "metadata": {},
   "outputs": [],
   "source": [
    "adata.write(\"../assets/BRCA_GSE161529_expression_skc_engineered.h5ad\")"
   ]
  }
 ],
 "metadata": {
  "kernelspec": {
   "display_name": "Python 3 (ipykernel)",
   "language": "python",
   "name": "python3"
  },
  "language_info": {
   "codemirror_mode": {
    "name": "ipython",
    "version": 3
   },
   "file_extension": ".py",
   "mimetype": "text/x-python",
   "name": "python",
   "nbconvert_exporter": "python",
   "pygments_lexer": "ipython3",
   "version": "3.12.3"
  }
 },
 "nbformat": 4,
 "nbformat_minor": 5
}
