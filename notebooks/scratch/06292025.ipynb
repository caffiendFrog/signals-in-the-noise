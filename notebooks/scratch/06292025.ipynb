{
 "cells": [
  {
   "metadata": {
    "ExecuteTime": {
     "end_time": "2025-06-30T02:53:20.193425Z",
     "start_time": "2025-06-30T02:52:51.283820Z"
    }
   },
   "cell_type": "code",
   "source": [
    "from signals_in_the_noise.preprocessing.data_gse161529 import GSE161529\n",
    "\n",
    "gse = GSE161529()"
   ],
   "id": "654d4291add8ce97",
   "outputs": [
    {
     "name": "stderr",
     "output_type": "stream",
     "text": [
      "2025-06-29 22:52:55,803 [INFO] signals_in_the_noise.utilities.tenx_genomics: Reading C:\\Users\\silly\\GitHub\\signals-in-the-noise\\data\\GSE161529_adata_cache\\GSM4909253_N-PM0092-Total.h5ad as AnnData object.\n",
      "2025-06-29 22:52:55,896 [INFO] signals_in_the_noise.utilities.tenx_genomics: Reading C:\\Users\\silly\\GitHub\\signals-in-the-noise\\data\\GSE161529_adata_cache\\GSM4909254_N-PM0019-Total.h5ad as AnnData object.\n",
      "2025-06-29 22:52:56,025 [INFO] signals_in_the_noise.utilities.tenx_genomics: Reading C:\\Users\\silly\\GitHub\\signals-in-the-noise\\data\\GSE161529_adata_cache\\GSM4909255_N-N280-Epi.h5ad as AnnData object.\n",
      "2025-06-29 22:52:56,075 [INFO] signals_in_the_noise.utilities.tenx_genomics: Reading C:\\Users\\silly\\GitHub\\signals-in-the-noise\\data\\GSE161529_adata_cache\\GSM4909256_N-PM0095-Epi.h5ad as AnnData object.\n",
      "2025-06-29 22:52:56,196 [INFO] signals_in_the_noise.utilities.tenx_genomics: Reading C:\\Users\\silly\\GitHub\\signals-in-the-noise\\data\\GSE161529_adata_cache\\GSM4909257_N-PM0095-Total.h5ad as AnnData object.\n",
      "2025-06-29 22:52:56,313 [INFO] signals_in_the_noise.utilities.tenx_genomics: Reading C:\\Users\\silly\\GitHub\\signals-in-the-noise\\data\\GSE161529_adata_cache\\GSM4909258_N-NF-Epi.h5ad as AnnData object.\n",
      "2025-06-29 22:52:56,376 [INFO] signals_in_the_noise.utilities.tenx_genomics: Reading C:\\Users\\silly\\GitHub\\signals-in-the-noise\\data\\GSE161529_adata_cache\\GSM4909259_N-NE-Epi.h5ad as AnnData object.\n",
      "2025-06-29 22:52:56,444 [INFO] signals_in_the_noise.utilities.tenx_genomics: Reading C:\\Users\\silly\\GitHub\\signals-in-the-noise\\data\\GSE161529_adata_cache\\GSM4909260_N-N1105-Epi.h5ad as AnnData object.\n",
      "2025-06-29 22:52:56,544 [INFO] signals_in_the_noise.utilities.tenx_genomics: Reading C:\\Users\\silly\\GitHub\\signals-in-the-noise\\data\\GSE161529_adata_cache\\GSM4909261_N-PM0230-Total.h5ad as AnnData object.\n",
      "2025-06-29 22:52:56,623 [INFO] signals_in_the_noise.utilities.tenx_genomics: Reading C:\\Users\\silly\\GitHub\\signals-in-the-noise\\data\\GSE161529_adata_cache\\GSM4909262_N-MH0064-Epi.h5ad as AnnData object.\n",
      "2025-06-29 22:52:56,677 [INFO] signals_in_the_noise.utilities.tenx_genomics: Reading C:\\Users\\silly\\GitHub\\signals-in-the-noise\\data\\GSE161529_adata_cache\\GSM4909263_N-MH0064-Total.h5ad as AnnData object.\n",
      "2025-06-29 22:52:56,717 [INFO] signals_in_the_noise.utilities.tenx_genomics: Reading C:\\Users\\silly\\GitHub\\signals-in-the-noise\\data\\GSE161529_adata_cache\\GSM4909264_N-N1B-Epi.h5ad as AnnData object.\n",
      "2025-06-29 22:52:56,760 [INFO] signals_in_the_noise.utilities.tenx_genomics: Reading C:\\Users\\silly\\GitHub\\signals-in-the-noise\\data\\GSE161529_adata_cache\\GSM4909265_N-PM0233-Total.h5ad as AnnData object.\n",
      "2025-06-29 22:52:56,872 [INFO] signals_in_the_noise.utilities.tenx_genomics: Reading C:\\Users\\silly\\GitHub\\signals-in-the-noise\\data\\GSE161529_adata_cache\\GSM4909266_N-MH0169-Total.h5ad as AnnData object.\n",
      "2025-06-29 22:52:56,940 [INFO] signals_in_the_noise.utilities.tenx_genomics: Reading C:\\Users\\silly\\GitHub\\signals-in-the-noise\\data\\GSE161529_adata_cache\\GSM4909267_N-MH0023-Epi.h5ad as AnnData object.\n",
      "2025-06-29 22:52:56,998 [INFO] signals_in_the_noise.utilities.tenx_genomics: Reading C:\\Users\\silly\\GitHub\\signals-in-the-noise\\data\\GSE161529_adata_cache\\GSM4909268_N-MH0023-Total.h5ad as AnnData object.\n",
      "2025-06-29 22:52:57,121 [INFO] signals_in_the_noise.utilities.tenx_genomics: Reading C:\\Users\\silly\\GitHub\\signals-in-the-noise\\data\\GSE161529_adata_cache\\GSM4909269_N-PM0342-Epi.h5ad as AnnData object.\n",
      "2025-06-29 22:52:57,258 [INFO] signals_in_the_noise.utilities.tenx_genomics: Reading C:\\Users\\silly\\GitHub\\signals-in-the-noise\\data\\GSE161529_adata_cache\\GSM4909270_N-PM0342-Total.h5ad as AnnData object.\n",
      "2025-06-29 22:52:57,369 [INFO] signals_in_the_noise.utilities.tenx_genomics: Reading C:\\Users\\silly\\GitHub\\signals-in-the-noise\\data\\GSE161529_adata_cache\\GSM4909271_N-MH288-Total.h5ad as AnnData object.\n",
      "2025-06-29 22:52:57,418 [INFO] signals_in_the_noise.utilities.tenx_genomics: Reading C:\\Users\\silly\\GitHub\\signals-in-the-noise\\data\\GSE161529_adata_cache\\GSM4909272_N-MH0021-Total.h5ad as AnnData object.\n",
      "2025-06-29 22:52:57,450 [INFO] signals_in_the_noise.utilities.tenx_genomics: Reading C:\\Users\\silly\\GitHub\\signals-in-the-noise\\data\\GSE161529_adata_cache\\GSM4909273_N-MH275-Epi.h5ad as AnnData object.\n",
      "2025-06-29 22:52:57,521 [INFO] signals_in_the_noise.utilities.tenx_genomics: Reading C:\\Users\\silly\\GitHub\\signals-in-the-noise\\data\\GSE161529_adata_cache\\GSM4909274_N-MH275-Total.h5ad as AnnData object.\n",
      "2025-06-29 22:52:57,558 [INFO] signals_in_the_noise.utilities.tenx_genomics: Reading C:\\Users\\silly\\GitHub\\signals-in-the-noise\\data\\GSE161529_adata_cache\\GSM4909275_N-PM0372-Epi.h5ad as AnnData object.\n",
      "2025-06-29 22:52:57,668 [INFO] signals_in_the_noise.utilities.tenx_genomics: Reading C:\\Users\\silly\\GitHub\\signals-in-the-noise\\data\\GSE161529_adata_cache\\GSM4909276_N-PM0372-Total.h5ad as AnnData object.\n",
      "2025-06-29 22:52:57,729 [INFO] signals_in_the_noise.utilities.tenx_genomics: Reading C:\\Users\\silly\\GitHub\\signals-in-the-noise\\data\\GSE161529_adata_cache\\GSM4909277_B1-KCF0894.h5ad as AnnData object.\n",
      "2025-06-29 22:52:57,792 [INFO] signals_in_the_noise.utilities.tenx_genomics: Reading C:\\Users\\silly\\GitHub\\signals-in-the-noise\\data\\GSE161529_adata_cache\\GSM4909278_B1-MH0033.h5ad as AnnData object.\n",
      "2025-06-29 22:52:57,841 [INFO] signals_in_the_noise.utilities.tenx_genomics: Reading C:\\Users\\silly\\GitHub\\signals-in-the-noise\\data\\GSE161529_adata_cache\\GSM4909279_B1-MH0023.h5ad as AnnData object.\n",
      "2025-06-29 22:52:57,898 [INFO] signals_in_the_noise.utilities.tenx_genomics: Reading C:\\Users\\silly\\GitHub\\signals-in-the-noise\\data\\GSE161529_adata_cache\\GSM4909280_B1-MH0090.h5ad as AnnData object.\n",
      "2025-06-29 22:52:57,944 [INFO] signals_in_the_noise.utilities.tenx_genomics: Reading C:\\Users\\silly\\GitHub\\signals-in-the-noise\\data\\GSE161529_adata_cache\\GSM4909281_TN-MH0126.h5ad as AnnData object.\n",
      "2025-06-29 22:52:57,993 [INFO] signals_in_the_noise.utilities.tenx_genomics: Reading C:\\Users\\silly\\GitHub\\signals-in-the-noise\\data\\GSE161529_adata_cache\\GSM4909282_TN-MH0135.h5ad as AnnData object.\n",
      "2025-06-29 22:52:58,120 [INFO] signals_in_the_noise.utilities.tenx_genomics: Reading C:\\Users\\silly\\GitHub\\signals-in-the-noise\\data\\GSE161529_adata_cache\\GSM4909283_TN-SH0106.h5ad as AnnData object.\n",
      "2025-06-29 22:52:58,149 [INFO] signals_in_the_noise.utilities.tenx_genomics: Reading C:\\Users\\silly\\GitHub\\signals-in-the-noise\\data\\GSE161529_adata_cache\\GSM4909284_TN-MH0114-T2.h5ad as AnnData object.\n",
      "2025-06-29 22:52:58,184 [INFO] signals_in_the_noise.utilities.tenx_genomics: Reading C:\\Users\\silly\\GitHub\\signals-in-the-noise\\data\\GSE161529_adata_cache\\GSM4909285_TN-B1-MH4031.h5ad as AnnData object.\n",
      "2025-06-29 22:52:58,254 [INFO] signals_in_the_noise.utilities.tenx_genomics: Reading C:\\Users\\silly\\GitHub\\signals-in-the-noise\\data\\GSE161529_adata_cache\\GSM4909286_TN-B1-MH0131.h5ad as AnnData object.\n",
      "2025-06-29 22:52:58,323 [INFO] signals_in_the_noise.utilities.tenx_genomics: Reading C:\\Users\\silly\\GitHub\\signals-in-the-noise\\data\\GSE161529_adata_cache\\GSM4909287_TN-B1-Tum0554.h5ad as AnnData object.\n",
      "2025-06-29 22:52:58,395 [INFO] signals_in_the_noise.utilities.tenx_genomics: Reading C:\\Users\\silly\\GitHub\\signals-in-the-noise\\data\\GSE161529_adata_cache\\GSM4909288_TN-B1-MH0177.h5ad as AnnData object.\n",
      "2025-06-29 22:52:58,494 [INFO] signals_in_the_noise.utilities.tenx_genomics: Reading C:\\Users\\silly\\GitHub\\signals-in-the-noise\\data\\GSE161529_adata_cache\\GSM4909289_HER2-AH0308.h5ad as AnnData object.\n",
      "2025-06-29 22:52:58,559 [INFO] signals_in_the_noise.utilities.tenx_genomics: Reading C:\\Users\\silly\\GitHub\\signals-in-the-noise\\data\\GSE161529_adata_cache\\GSM4909290_HER2-PM0337.h5ad as AnnData object.\n",
      "2025-06-29 22:52:58,635 [INFO] signals_in_the_noise.utilities.tenx_genomics: Reading C:\\Users\\silly\\GitHub\\signals-in-the-noise\\data\\GSE161529_adata_cache\\GSM4909291_HER2-MH0031.h5ad as AnnData object.\n",
      "2025-06-29 22:52:58,676 [INFO] signals_in_the_noise.utilities.tenx_genomics: Reading C:\\Users\\silly\\GitHub\\signals-in-the-noise\\data\\GSE161529_adata_cache\\GSM4909292_HER2-MH0069.h5ad as AnnData object.\n",
      "2025-06-29 22:52:58,703 [INFO] signals_in_the_noise.utilities.tenx_genomics: Reading C:\\Users\\silly\\GitHub\\signals-in-the-noise\\data\\GSE161529_adata_cache\\GSM4909293_HER2-MH0161.h5ad as AnnData object.\n",
      "2025-06-29 22:52:58,763 [INFO] signals_in_the_noise.utilities.tenx_genomics: Reading C:\\Users\\silly\\GitHub\\signals-in-the-noise\\data\\GSE161529_adata_cache\\GSM4909294_HER2-MH0176.h5ad as AnnData object.\n",
      "2025-06-29 22:52:58,848 [INFO] signals_in_the_noise.utilities.tenx_genomics: Reading C:\\Users\\silly\\GitHub\\signals-in-the-noise\\data\\GSE161529_adata_cache\\GSM4909295_ER-AH0319.h5ad as AnnData object.\n",
      "2025-06-29 22:52:58,888 [INFO] signals_in_the_noise.utilities.tenx_genomics: Reading C:\\Users\\silly\\GitHub\\signals-in-the-noise\\data\\GSE161529_adata_cache\\GSM4909296_ER-MH0001.h5ad as AnnData object.\n",
      "2025-06-29 22:52:58,928 [INFO] signals_in_the_noise.utilities.tenx_genomics: Reading C:\\Users\\silly\\GitHub\\signals-in-the-noise\\data\\GSE161529_adata_cache\\GSM4909297_ER-MH0125.h5ad as AnnData object.\n",
      "2025-06-29 22:52:58,971 [INFO] signals_in_the_noise.utilities.tenx_genomics: Reading C:\\Users\\silly\\GitHub\\signals-in-the-noise\\data\\GSE161529_adata_cache\\GSM4909298_ER-PM0360.h5ad as AnnData object.\n",
      "2025-06-29 22:52:59,017 [INFO] signals_in_the_noise.utilities.tenx_genomics: Reading C:\\Users\\silly\\GitHub\\signals-in-the-noise\\data\\GSE161529_adata_cache\\GSM4909299_ER-MH0114-T3.h5ad as AnnData object.\n",
      "2025-06-29 22:52:59,082 [INFO] signals_in_the_noise.utilities.tenx_genomics: Reading C:\\Users\\silly\\GitHub\\signals-in-the-noise\\data\\GSE161529_adata_cache\\GSM4909300_ER-MH0032.h5ad as AnnData object.\n",
      "2025-06-29 22:52:59,111 [INFO] signals_in_the_noise.utilities.tenx_genomics: Reading C:\\Users\\silly\\GitHub\\signals-in-the-noise\\data\\GSE161529_adata_cache\\GSM4909301_ER-MH0042.h5ad as AnnData object.\n",
      "2025-06-29 22:52:59,154 [INFO] signals_in_the_noise.utilities.tenx_genomics: Reading C:\\Users\\silly\\GitHub\\signals-in-the-noise\\data\\GSE161529_adata_cache\\GSM4909302_ER-MH0025.h5ad as AnnData object.\n",
      "2025-06-29 22:52:59,219 [INFO] signals_in_the_noise.utilities.tenx_genomics: Reading C:\\Users\\silly\\GitHub\\signals-in-the-noise\\data\\GSE161529_adata_cache\\GSM4909303_ER-MH0151.h5ad as AnnData object.\n",
      "2025-06-29 22:52:59,262 [INFO] signals_in_the_noise.utilities.tenx_genomics: Reading C:\\Users\\silly\\GitHub\\signals-in-the-noise\\data\\GSE161529_adata_cache\\GSM4909304_ER-MH0163.h5ad as AnnData object.\n",
      "2025-06-29 22:52:59,324 [INFO] signals_in_the_noise.utilities.tenx_genomics: Reading C:\\Users\\silly\\GitHub\\signals-in-the-noise\\data\\GSE161529_adata_cache\\GSM4909305_ER-MH0029-7C.h5ad as AnnData object.\n",
      "2025-06-29 22:52:59,369 [INFO] signals_in_the_noise.utilities.tenx_genomics: Reading C:\\Users\\silly\\GitHub\\signals-in-the-noise\\data\\GSE161529_adata_cache\\GSM4909306_ER-MH0029-9C.h5ad as AnnData object.\n",
      "2025-06-29 22:52:59,436 [INFO] signals_in_the_noise.utilities.tenx_genomics: Reading C:\\Users\\silly\\GitHub\\signals-in-the-noise\\data\\GSE161529_adata_cache\\GSM4909307_ER-MH0040.h5ad as AnnData object.\n",
      "2025-06-29 22:52:59,491 [INFO] signals_in_the_noise.utilities.tenx_genomics: Reading C:\\Users\\silly\\GitHub\\signals-in-the-noise\\data\\GSE161529_adata_cache\\GSM4909308_ER-MH0040-LN.h5ad as AnnData object.\n",
      "2025-06-29 22:52:59,551 [INFO] signals_in_the_noise.utilities.tenx_genomics: Reading C:\\Users\\silly\\GitHub\\signals-in-the-noise\\data\\GSE161529_adata_cache\\GSM4909309_ER-MH0043-T.h5ad as AnnData object.\n",
      "2025-06-29 22:52:59,595 [INFO] signals_in_the_noise.utilities.tenx_genomics: Reading C:\\Users\\silly\\GitHub\\signals-in-the-noise\\data\\GSE161529_adata_cache\\GSM4909310_ER-MH0043-LN.h5ad as AnnData object.\n",
      "2025-06-29 22:52:59,622 [INFO] signals_in_the_noise.utilities.tenx_genomics: Reading C:\\Users\\silly\\GitHub\\signals-in-the-noise\\data\\GSE161529_adata_cache\\GSM4909311_ER-MH0056-T.h5ad as AnnData object.\n",
      "2025-06-29 22:52:59,651 [INFO] signals_in_the_noise.utilities.tenx_genomics: Reading C:\\Users\\silly\\GitHub\\signals-in-the-noise\\data\\GSE161529_adata_cache\\GSM4909312_ER-MH0056-LN.h5ad as AnnData object.\n",
      "2025-06-29 22:52:59,694 [INFO] signals_in_the_noise.utilities.tenx_genomics: Reading C:\\Users\\silly\\GitHub\\signals-in-the-noise\\data\\GSE161529_adata_cache\\GSM4909313_ER-MH0064-T.h5ad as AnnData object.\n",
      "2025-06-29 22:52:59,729 [INFO] signals_in_the_noise.utilities.tenx_genomics: Reading C:\\Users\\silly\\GitHub\\signals-in-the-noise\\data\\GSE161529_adata_cache\\GSM4909314_ER-MH0064-LN.h5ad as AnnData object.\n",
      "2025-06-29 22:52:59,759 [INFO] signals_in_the_noise.utilities.tenx_genomics: Reading C:\\Users\\silly\\GitHub\\signals-in-the-noise\\data\\GSE161529_adata_cache\\GSM4909315_ER-MH0167-T.h5ad as AnnData object.\n",
      "2025-06-29 22:52:59,837 [INFO] signals_in_the_noise.utilities.tenx_genomics: Reading C:\\Users\\silly\\GitHub\\signals-in-the-noise\\data\\GSE161529_adata_cache\\GSM4909316_ER-MH0167-LN.h5ad as AnnData object.\n",
      "2025-06-29 22:52:59,886 [INFO] signals_in_the_noise.utilities.tenx_genomics: Reading C:\\Users\\silly\\GitHub\\signals-in-the-noise\\data\\GSE161529_adata_cache\\GSM4909317_ER-MH0173-T.h5ad as AnnData object.\n",
      "2025-06-29 22:52:59,956 [INFO] signals_in_the_noise.utilities.tenx_genomics: Reading C:\\Users\\silly\\GitHub\\signals-in-the-noise\\data\\GSE161529_adata_cache\\GSM4909318_ER-MH0173-LN.h5ad as AnnData object.\n",
      "2025-06-29 22:53:00,012 [INFO] signals_in_the_noise.utilities.tenx_genomics: Reading C:\\Users\\silly\\GitHub\\signals-in-the-noise\\data\\GSE161529_adata_cache\\GSM4909319_mER-PM0178.h5ad as AnnData object.\n",
      "2025-06-29 22:53:00,057 [INFO] signals_in_the_noise.utilities.tenx_genomics: Reading C:\\Users\\silly\\GitHub\\signals-in-the-noise\\data\\GSE161529_adata_cache\\GSM4909320_mER-MH0068-T.h5ad as AnnData object.\n",
      "2025-06-29 22:53:00,081 [INFO] signals_in_the_noise.utilities.tenx_genomics: Reading C:\\Users\\silly\\GitHub\\signals-in-the-noise\\data\\GSE161529_adata_cache\\GSM4909321_mER-MH0068-LN.h5ad as AnnData object.\n",
      "2025-06-29 22:53:00,120 [INFO] signals_in_the_noise.preprocessing.data_gse161529: Reading metadata from GSE161529/table_supplementary_1.xlsx...\n",
      "2025-06-29 22:53:00,240 [INFO] signals_in_the_noise.preprocessing.data_gse161529: Reading phenotype from GSE161529/table_ev_4.xlsx...\n",
      "2025-06-29 22:53:00,250 [INFO] signals_in_the_noise.preprocessing.data_gse161529: Reading qc from GSE161529/table_supplementary_2.xlsx...\n"
     ]
    }
   ],
   "execution_count": 1
  },
  {
   "metadata": {},
   "cell_type": "code",
   "source": [
    "# adata = gse.raw_data.multiple_adata[0]\n",
    "adata = next(iter(gse.objects.values()))"
   ],
   "id": "55309f07b90744a1",
   "outputs": [],
   "execution_count": null
  },
  {
   "metadata": {},
   "cell_type": "code",
   "source": [
    "import scanpy as sc\n",
    "adata.var['mt'] = adata.var_names.str.upper().str.startswith('MT-')\n",
    "sc.pp.calculate_qc_metrics(adata, qc_vars=['mt'], inplace=True)\n"
   ],
   "id": "1146478acc44bbc8",
   "outputs": [],
   "execution_count": null
  },
  {
   "metadata": {},
   "cell_type": "code",
   "source": "gse.add_annotations()",
   "id": "d5bbf3c9c8f5ced8",
   "outputs": [],
   "execution_count": null
  },
  {
   "metadata": {},
   "cell_type": "code",
   "source": "adata",
   "id": "c508bdb7cb189416",
   "outputs": [],
   "execution_count": null
  }
 ],
 "metadata": {},
 "nbformat": 4,
 "nbformat_minor": 5
}
