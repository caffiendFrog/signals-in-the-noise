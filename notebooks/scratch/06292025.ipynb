{
 "cells": [
  {
   "metadata": {},
   "cell_type": "code",
   "source": [
    "from signals_in_the_noise.preprocessing.gse161529 import GSE161529\n",
    "\n",
    "gse = GSE161529()\n",
    "# adata = next(iter(gse.objects.values()))\n",
    "# adata"
   ],
   "id": "654d4291add8ce97",
   "outputs": [],
   "execution_count": null
  },
  {
   "metadata": {},
   "cell_type": "code",
   "source": "adata = list(gse.objects.items())[66][1]",
   "id": "d6b66455e49f76b7",
   "outputs": [],
   "execution_count": null
  },
  {
   "metadata": {},
   "cell_type": "code",
   "source": [
    "import scanpy as sc\n",
    "# objs = list(gse.objects.values())\n",
    "# adata = objs[2]\n",
    "adata.var['mt'] = adata.var_names.str.upper().str.startswith('MT-')\n",
    "sc.pp.calculate_qc_metrics(adata, qc_vars=['mt'], inplace=True)\n"
   ],
   "id": "1146478acc44bbc8",
   "outputs": [],
   "execution_count": null
  },
  {
   "metadata": {},
   "cell_type": "code",
   "source": [
    "adata = list(gse.objects.items())[66][1]\n",
    "\n",
    "adata.var['mt'] = adata.var_names.str.upper().str.startswith('MT-')\n",
    "sc.pp.calculate_qc_metrics(adata, qc_vars=['mt'], inplace=True)\n",
    "\n",
    "num_genes_lower_bound = adata.uns['qc_genes_lower']\n",
    "num_genes_upper_bound = adata.uns['qc_genes_upper']\n",
    "mito_upper_bound = adata.uns['qc_mito_upper']\n",
    "total_count_upper_bound = adata.uns['qc_total_upper']\n",
    "\n",
    "adata.obs['is_low_num_genes'] = (adata.obs['n_genes_by_counts'] <= num_genes_lower_bound).astype(int)\n",
    "adata.obs['is_high_num_genes'] = (adata.obs['n_genes_by_counts'] > num_genes_upper_bound).astype(int)\n",
    "adata.obs['is_high_mito'] = (adata.obs['pct_counts_mt']/100 > 0.173143).astype(int)\n",
    "adata.obs['is_high_total_count'] = (adata.obs['total_counts'] >= total_count_upper_bound).astype(int)\n",
    "\n",
    "adata.obs['is_noise'] = (\n",
    "    adata.obs['is_low_num_genes'] |\n",
    "    adata.obs['is_high_num_genes'] |\n",
    "    adata.obs['is_high_mito'] |\n",
    "    adata.obs['is_high_total_count']\n",
    ").astype(int)\n",
    "\n",
    "print(bool(adata[adata.obs['is_noise'] == 0, :].shape[0] == adata.uns['num_cells_after']), int(adata.uns['num_cells_after']), adata[adata.obs['is_noise'] == 0, :].shape[0])\n",
    "print(adata[adata.obs['is_low_num_genes']==1, :].shape[0], adata[adata.obs['is_high_num_genes']==1, :].shape[0], adata[adata.obs['is_high_mito']==1, :].shape[0], adata[adata.obs['is_high_total_count']==1, :].shape[0])\n",
    "print(num_genes_lower_bound, num_genes_upper_bound, mito_upper_bound, total_count_upper_bound)"
   ],
   "id": "c508bdb7cb189416",
   "outputs": [],
   "execution_count": null
  },
  {
   "metadata": {},
   "cell_type": "code",
   "source": [
    "# num_genes_lower_bound, num_genes_upper_bound, mito_upper_bound, total_count_upper_bound\n",
    "# adata.obs[['is_noise', 'is_low_num_genes', 'is_high_num_genes', 'is_high_mito', 'is_high_total_count']]\n",
    "adata = list(gse.objects.items())[60][1]\n",
    "num_genes_lower_bound = adata.uns['qc_genes_lower']\n",
    "num_genes_upper_bound = adata.uns['qc_genes_upper']\n",
    "mito_upper_bound = adata.uns['qc_mito_upper']\n",
    "total_count_upper_bound = adata.uns['qc_total_upper']\n",
    "print(num_genes_lower_bound, num_genes_upper_bound, mito_upper_bound, total_count_upper_bound)\n",
    "adata.obs['n_genes_by_counts'].describe()"
   ],
   "id": "8d8b94832c7aca4b",
   "outputs": [],
   "execution_count": null
  },
  {
   "metadata": {},
   "cell_type": "code",
   "source": [
    "# num_genes_lower_bound, num_genes_upper_bound, mito_upper_bound, total_count_upper_bound\n",
    "# adata.obs[['is_noise', 'is_low_num_genes', 'is_high_num_genes', 'is_high_mito', 'is_high_total_count']]\n",
    "adata = list(gse.objects.items())[60][1]\n",
    "num_genes_lower_bound = adata.uns['qc_genes_lower']\n",
    "num_genes_upper_bound = adata.uns['qc_genes_upper']\n",
    "mito_upper_bound = adata.uns['qc_mito_upper']\n",
    "total_count_upper_bound = adata.uns['qc_total_upper']\n",
    "print(num_genes_lower_bound, num_genes_upper_bound, mito_upper_bound, total_count_upper_bound)\n",
    "adata.obs['total_counts'].describe()"
   ],
   "id": "12689261882cad46",
   "outputs": [],
   "execution_count": null
  },
  {
   "metadata": {},
   "cell_type": "code",
   "source": [
    "adata = list(gse.objects.items())[42][1]\n",
    "num_genes_lower_bound = adata.uns['qc_genes_lower']\n",
    "num_genes_upper_bound = adata.uns['qc_genes_upper']\n",
    "mito_upper_bound = adata.uns['qc_mito_upper']\n",
    "total_count_upper_bound = adata.uns['qc_total_upper']\n",
    "print(num_genes_lower_bound, num_genes_upper_bound, mito_upper_bound, total_count_upper_bound)\n",
    "adata.obs['total_counts'].describe()"
   ],
   "id": "c674502ad478b8b8",
   "outputs": [],
   "execution_count": null
  }
 ],
 "metadata": {},
 "nbformat": 4,
 "nbformat_minor": 5
}
