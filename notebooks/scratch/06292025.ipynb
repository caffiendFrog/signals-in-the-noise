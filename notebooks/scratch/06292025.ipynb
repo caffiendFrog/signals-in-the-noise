{
 "cells": [
  {
   "metadata": {
    "ExecuteTime": {
     "end_time": "2025-07-06T02:17:19.446928Z",
     "start_time": "2025-07-06T02:17:11.943561Z"
    }
   },
   "cell_type": "code",
   "source": [
    "from signals_in_the_noise.preprocessing.data_gse161529 import GSE161529\n",
    "\n",
    "gse = GSE161529()\n",
    "# adata = next(iter(gse.objects.values()))\n",
    "# adata"
   ],
   "id": "654d4291add8ce97",
   "outputs": [
    {
     "name": "stderr",
     "output_type": "stream",
     "text": [
      "2025-07-05 22:17:11,951 [INFO] signals_in_the_noise.utilities.tenx_genomics: Reading C:\\Users\\silly\\GitHub\\signals-in-the-noise\\data\\GSE161529_adata_cache\\GSM4909253_N-PM0092-Total.h5ad as AnnData object.\n",
      "2025-07-05 22:17:12,074 [INFO] signals_in_the_noise.utilities.tenx_genomics: Reading C:\\Users\\silly\\GitHub\\signals-in-the-noise\\data\\GSE161529_adata_cache\\GSM4909254_N-PM0019-Total.h5ad as AnnData object.\n",
      "2025-07-05 22:17:12,248 [INFO] signals_in_the_noise.utilities.tenx_genomics: Reading C:\\Users\\silly\\GitHub\\signals-in-the-noise\\data\\GSE161529_adata_cache\\GSM4909255_N-N280-Epi.h5ad as AnnData object.\n",
      "2025-07-05 22:17:12,302 [INFO] signals_in_the_noise.utilities.tenx_genomics: Reading C:\\Users\\silly\\GitHub\\signals-in-the-noise\\data\\GSE161529_adata_cache\\GSM4909256_N-PM0095-Epi.h5ad as AnnData object.\n",
      "2025-07-05 22:17:12,479 [INFO] signals_in_the_noise.utilities.tenx_genomics: Reading C:\\Users\\silly\\GitHub\\signals-in-the-noise\\data\\GSE161529_adata_cache\\GSM4909257_N-PM0095-Total.h5ad as AnnData object.\n",
      "2025-07-05 22:17:12,612 [INFO] signals_in_the_noise.utilities.tenx_genomics: Reading C:\\Users\\silly\\GitHub\\signals-in-the-noise\\data\\GSE161529_adata_cache\\GSM4909258_N-NF-Epi.h5ad as AnnData object.\n",
      "2025-07-05 22:17:12,691 [INFO] signals_in_the_noise.utilities.tenx_genomics: Reading C:\\Users\\silly\\GitHub\\signals-in-the-noise\\data\\GSE161529_adata_cache\\GSM4909259_N-NE-Epi.h5ad as AnnData object.\n",
      "2025-07-05 22:17:12,773 [INFO] signals_in_the_noise.utilities.tenx_genomics: Reading C:\\Users\\silly\\GitHub\\signals-in-the-noise\\data\\GSE161529_adata_cache\\GSM4909260_N-N1105-Epi.h5ad as AnnData object.\n",
      "2025-07-05 22:17:12,889 [INFO] signals_in_the_noise.utilities.tenx_genomics: Reading C:\\Users\\silly\\GitHub\\signals-in-the-noise\\data\\GSE161529_adata_cache\\GSM4909261_N-PM0230-Total.h5ad as AnnData object.\n",
      "2025-07-05 22:17:12,985 [INFO] signals_in_the_noise.utilities.tenx_genomics: Reading C:\\Users\\silly\\GitHub\\signals-in-the-noise\\data\\GSE161529_adata_cache\\GSM4909262_N-MH0064-Epi.h5ad as AnnData object.\n",
      "2025-07-05 22:17:13,056 [INFO] signals_in_the_noise.utilities.tenx_genomics: Reading C:\\Users\\silly\\GitHub\\signals-in-the-noise\\data\\GSE161529_adata_cache\\GSM4909263_N-MH0064-Total.h5ad as AnnData object.\n",
      "2025-07-05 22:17:13,107 [INFO] signals_in_the_noise.utilities.tenx_genomics: Reading C:\\Users\\silly\\GitHub\\signals-in-the-noise\\data\\GSE161529_adata_cache\\GSM4909264_N-N1B-Epi.h5ad as AnnData object.\n",
      "2025-07-05 22:17:13,162 [INFO] signals_in_the_noise.utilities.tenx_genomics: Reading C:\\Users\\silly\\GitHub\\signals-in-the-noise\\data\\GSE161529_adata_cache\\GSM4909265_N-PM0233-Total.h5ad as AnnData object.\n",
      "2025-07-05 22:17:13,291 [INFO] signals_in_the_noise.utilities.tenx_genomics: Reading C:\\Users\\silly\\GitHub\\signals-in-the-noise\\data\\GSE161529_adata_cache\\GSM4909266_N-MH0169-Total.h5ad as AnnData object.\n",
      "2025-07-05 22:17:13,382 [INFO] signals_in_the_noise.utilities.tenx_genomics: Reading C:\\Users\\silly\\GitHub\\signals-in-the-noise\\data\\GSE161529_adata_cache\\GSM4909267_N-MH0023-Epi.h5ad as AnnData object.\n",
      "2025-07-05 22:17:13,448 [INFO] signals_in_the_noise.utilities.tenx_genomics: Reading C:\\Users\\silly\\GitHub\\signals-in-the-noise\\data\\GSE161529_adata_cache\\GSM4909268_N-MH0023-Total.h5ad as AnnData object.\n",
      "2025-07-05 22:17:13,619 [INFO] signals_in_the_noise.utilities.tenx_genomics: Reading C:\\Users\\silly\\GitHub\\signals-in-the-noise\\data\\GSE161529_adata_cache\\GSM4909269_N-PM0342-Epi.h5ad as AnnData object.\n",
      "2025-07-05 22:17:13,807 [INFO] signals_in_the_noise.utilities.tenx_genomics: Reading C:\\Users\\silly\\GitHub\\signals-in-the-noise\\data\\GSE161529_adata_cache\\GSM4909270_N-PM0342-Total.h5ad as AnnData object.\n",
      "2025-07-05 22:17:13,987 [INFO] signals_in_the_noise.utilities.tenx_genomics: Reading C:\\Users\\silly\\GitHub\\signals-in-the-noise\\data\\GSE161529_adata_cache\\GSM4909271_N-MH288-Total.h5ad as AnnData object.\n",
      "2025-07-05 22:17:14,062 [INFO] signals_in_the_noise.utilities.tenx_genomics: Reading C:\\Users\\silly\\GitHub\\signals-in-the-noise\\data\\GSE161529_adata_cache\\GSM4909272_N-MH0021-Total.h5ad as AnnData object.\n",
      "2025-07-05 22:17:14,117 [INFO] signals_in_the_noise.utilities.tenx_genomics: Reading C:\\Users\\silly\\GitHub\\signals-in-the-noise\\data\\GSE161529_adata_cache\\GSM4909273_N-MH275-Epi.h5ad as AnnData object.\n",
      "2025-07-05 22:17:14,268 [INFO] signals_in_the_noise.utilities.tenx_genomics: Reading C:\\Users\\silly\\GitHub\\signals-in-the-noise\\data\\GSE161529_adata_cache\\GSM4909274_N-MH275-Total.h5ad as AnnData object.\n",
      "2025-07-05 22:17:14,342 [INFO] signals_in_the_noise.utilities.tenx_genomics: Reading C:\\Users\\silly\\GitHub\\signals-in-the-noise\\data\\GSE161529_adata_cache\\GSM4909275_N-PM0372-Epi.h5ad as AnnData object.\n",
      "2025-07-05 22:17:14,526 [INFO] signals_in_the_noise.utilities.tenx_genomics: Reading C:\\Users\\silly\\GitHub\\signals-in-the-noise\\data\\GSE161529_adata_cache\\GSM4909276_N-PM0372-Total.h5ad as AnnData object.\n",
      "2025-07-05 22:17:14,646 [INFO] signals_in_the_noise.utilities.tenx_genomics: Reading C:\\Users\\silly\\GitHub\\signals-in-the-noise\\data\\GSE161529_adata_cache\\GSM4909277_B1-KCF0894.h5ad as AnnData object.\n",
      "2025-07-05 22:17:14,763 [INFO] signals_in_the_noise.utilities.tenx_genomics: Reading C:\\Users\\silly\\GitHub\\signals-in-the-noise\\data\\GSE161529_adata_cache\\GSM4909278_B1-MH0033.h5ad as AnnData object.\n",
      "2025-07-05 22:17:14,855 [INFO] signals_in_the_noise.utilities.tenx_genomics: Reading C:\\Users\\silly\\GitHub\\signals-in-the-noise\\data\\GSE161529_adata_cache\\GSM4909279_B1-MH0023.h5ad as AnnData object.\n",
      "2025-07-05 22:17:14,937 [INFO] signals_in_the_noise.utilities.tenx_genomics: Reading C:\\Users\\silly\\GitHub\\signals-in-the-noise\\data\\GSE161529_adata_cache\\GSM4909280_B1-MH0090.h5ad as AnnData object.\n",
      "2025-07-05 22:17:15,023 [INFO] signals_in_the_noise.utilities.tenx_genomics: Reading C:\\Users\\silly\\GitHub\\signals-in-the-noise\\data\\GSE161529_adata_cache\\GSM4909281_TN-MH0126.h5ad as AnnData object.\n",
      "2025-07-05 22:17:15,099 [INFO] signals_in_the_noise.utilities.tenx_genomics: Reading C:\\Users\\silly\\GitHub\\signals-in-the-noise\\data\\GSE161529_adata_cache\\GSM4909282_TN-MH0135.h5ad as AnnData object.\n",
      "2025-07-05 22:17:15,336 [INFO] signals_in_the_noise.utilities.tenx_genomics: Reading C:\\Users\\silly\\GitHub\\signals-in-the-noise\\data\\GSE161529_adata_cache\\GSM4909283_TN-SH0106.h5ad as AnnData object.\n",
      "2025-07-05 22:17:15,384 [INFO] signals_in_the_noise.utilities.tenx_genomics: Reading C:\\Users\\silly\\GitHub\\signals-in-the-noise\\data\\GSE161529_adata_cache\\GSM4909284_TN-MH0114-T2.h5ad as AnnData object.\n",
      "2025-07-05 22:17:15,442 [INFO] signals_in_the_noise.utilities.tenx_genomics: Reading C:\\Users\\silly\\GitHub\\signals-in-the-noise\\data\\GSE161529_adata_cache\\GSM4909285_TN-B1-MH4031.h5ad as AnnData object.\n",
      "2025-07-05 22:17:15,582 [INFO] signals_in_the_noise.utilities.tenx_genomics: Reading C:\\Users\\silly\\GitHub\\signals-in-the-noise\\data\\GSE161529_adata_cache\\GSM4909286_TN-B1-MH0131.h5ad as AnnData object.\n",
      "2025-07-05 22:17:15,714 [INFO] signals_in_the_noise.utilities.tenx_genomics: Reading C:\\Users\\silly\\GitHub\\signals-in-the-noise\\data\\GSE161529_adata_cache\\GSM4909287_TN-B1-Tum0554.h5ad as AnnData object.\n",
      "2025-07-05 22:17:15,862 [INFO] signals_in_the_noise.utilities.tenx_genomics: Reading C:\\Users\\silly\\GitHub\\signals-in-the-noise\\data\\GSE161529_adata_cache\\GSM4909288_TN-B1-MH0177.h5ad as AnnData object.\n",
      "2025-07-05 22:17:16,042 [INFO] signals_in_the_noise.utilities.tenx_genomics: Reading C:\\Users\\silly\\GitHub\\signals-in-the-noise\\data\\GSE161529_adata_cache\\GSM4909289_HER2-AH0308.h5ad as AnnData object.\n",
      "2025-07-05 22:17:16,183 [INFO] signals_in_the_noise.utilities.tenx_genomics: Reading C:\\Users\\silly\\GitHub\\signals-in-the-noise\\data\\GSE161529_adata_cache\\GSM4909290_HER2-PM0337.h5ad as AnnData object.\n",
      "2025-07-05 22:17:16,345 [INFO] signals_in_the_noise.utilities.tenx_genomics: Reading C:\\Users\\silly\\GitHub\\signals-in-the-noise\\data\\GSE161529_adata_cache\\GSM4909291_HER2-MH0031.h5ad as AnnData object.\n",
      "2025-07-05 22:17:16,434 [INFO] signals_in_the_noise.utilities.tenx_genomics: Reading C:\\Users\\silly\\GitHub\\signals-in-the-noise\\data\\GSE161529_adata_cache\\GSM4909292_HER2-MH0069.h5ad as AnnData object.\n",
      "2025-07-05 22:17:16,474 [INFO] signals_in_the_noise.utilities.tenx_genomics: Reading C:\\Users\\silly\\GitHub\\signals-in-the-noise\\data\\GSE161529_adata_cache\\GSM4909293_HER2-MH0161.h5ad as AnnData object.\n",
      "2025-07-05 22:17:16,619 [INFO] signals_in_the_noise.utilities.tenx_genomics: Reading C:\\Users\\silly\\GitHub\\signals-in-the-noise\\data\\GSE161529_adata_cache\\GSM4909294_HER2-MH0176.h5ad as AnnData object.\n",
      "2025-07-05 22:17:16,790 [INFO] signals_in_the_noise.utilities.tenx_genomics: Reading C:\\Users\\silly\\GitHub\\signals-in-the-noise\\data\\GSE161529_adata_cache\\GSM4909295_ER-AH0319.h5ad as AnnData object.\n",
      "2025-07-05 22:17:16,871 [INFO] signals_in_the_noise.utilities.tenx_genomics: Reading C:\\Users\\silly\\GitHub\\signals-in-the-noise\\data\\GSE161529_adata_cache\\GSM4909296_ER-MH0001.h5ad as AnnData object.\n",
      "2025-07-05 22:17:16,953 [INFO] signals_in_the_noise.utilities.tenx_genomics: Reading C:\\Users\\silly\\GitHub\\signals-in-the-noise\\data\\GSE161529_adata_cache\\GSM4909297_ER-MH0125.h5ad as AnnData object.\n",
      "2025-07-05 22:17:17,042 [INFO] signals_in_the_noise.utilities.tenx_genomics: Reading C:\\Users\\silly\\GitHub\\signals-in-the-noise\\data\\GSE161529_adata_cache\\GSM4909298_ER-PM0360.h5ad as AnnData object.\n",
      "2025-07-05 22:17:17,147 [INFO] signals_in_the_noise.utilities.tenx_genomics: Reading C:\\Users\\silly\\GitHub\\signals-in-the-noise\\data\\GSE161529_adata_cache\\GSM4909299_ER-MH0114-T3.h5ad as AnnData object.\n",
      "2025-07-05 22:17:17,291 [INFO] signals_in_the_noise.utilities.tenx_genomics: Reading C:\\Users\\silly\\GitHub\\signals-in-the-noise\\data\\GSE161529_adata_cache\\GSM4909300_ER-MH0032.h5ad as AnnData object.\n",
      "2025-07-05 22:17:17,343 [INFO] signals_in_the_noise.utilities.tenx_genomics: Reading C:\\Users\\silly\\GitHub\\signals-in-the-noise\\data\\GSE161529_adata_cache\\GSM4909301_ER-MH0042.h5ad as AnnData object.\n",
      "2025-07-05 22:17:17,425 [INFO] signals_in_the_noise.utilities.tenx_genomics: Reading C:\\Users\\silly\\GitHub\\signals-in-the-noise\\data\\GSE161529_adata_cache\\GSM4909302_ER-MH0025.h5ad as AnnData object.\n",
      "2025-07-05 22:17:17,556 [INFO] signals_in_the_noise.utilities.tenx_genomics: Reading C:\\Users\\silly\\GitHub\\signals-in-the-noise\\data\\GSE161529_adata_cache\\GSM4909303_ER-MH0151.h5ad as AnnData object.\n",
      "2025-07-05 22:17:17,635 [INFO] signals_in_the_noise.utilities.tenx_genomics: Reading C:\\Users\\silly\\GitHub\\signals-in-the-noise\\data\\GSE161529_adata_cache\\GSM4909304_ER-MH0163.h5ad as AnnData object.\n",
      "2025-07-05 22:17:17,754 [INFO] signals_in_the_noise.utilities.tenx_genomics: Reading C:\\Users\\silly\\GitHub\\signals-in-the-noise\\data\\GSE161529_adata_cache\\GSM4909305_ER-MH0029-7C.h5ad as AnnData object.\n",
      "2025-07-05 22:17:17,847 [INFO] signals_in_the_noise.utilities.tenx_genomics: Reading C:\\Users\\silly\\GitHub\\signals-in-the-noise\\data\\GSE161529_adata_cache\\GSM4909306_ER-MH0029-9C.h5ad as AnnData object.\n",
      "2025-07-05 22:17:17,973 [INFO] signals_in_the_noise.utilities.tenx_genomics: Reading C:\\Users\\silly\\GitHub\\signals-in-the-noise\\data\\GSE161529_adata_cache\\GSM4909307_ER-MH0040.h5ad as AnnData object.\n",
      "2025-07-05 22:17:18,063 [INFO] signals_in_the_noise.utilities.tenx_genomics: Reading C:\\Users\\silly\\GitHub\\signals-in-the-noise\\data\\GSE161529_adata_cache\\GSM4909308_ER-MH0040-LN.h5ad as AnnData object.\n",
      "2025-07-05 22:17:18,175 [INFO] signals_in_the_noise.utilities.tenx_genomics: Reading C:\\Users\\silly\\GitHub\\signals-in-the-noise\\data\\GSE161529_adata_cache\\GSM4909309_ER-MH0043-T.h5ad as AnnData object.\n",
      "2025-07-05 22:17:18,257 [INFO] signals_in_the_noise.utilities.tenx_genomics: Reading C:\\Users\\silly\\GitHub\\signals-in-the-noise\\data\\GSE161529_adata_cache\\GSM4909310_ER-MH0043-LN.h5ad as AnnData object.\n",
      "2025-07-05 22:17:18,305 [INFO] signals_in_the_noise.utilities.tenx_genomics: Reading C:\\Users\\silly\\GitHub\\signals-in-the-noise\\data\\GSE161529_adata_cache\\GSM4909311_ER-MH0056-T.h5ad as AnnData object.\n",
      "2025-07-05 22:17:18,359 [INFO] signals_in_the_noise.utilities.tenx_genomics: Reading C:\\Users\\silly\\GitHub\\signals-in-the-noise\\data\\GSE161529_adata_cache\\GSM4909312_ER-MH0056-LN.h5ad as AnnData object.\n",
      "2025-07-05 22:17:18,441 [INFO] signals_in_the_noise.utilities.tenx_genomics: Reading C:\\Users\\silly\\GitHub\\signals-in-the-noise\\data\\GSE161529_adata_cache\\GSM4909313_ER-MH0064-T.h5ad as AnnData object.\n",
      "2025-07-05 22:17:18,506 [INFO] signals_in_the_noise.utilities.tenx_genomics: Reading C:\\Users\\silly\\GitHub\\signals-in-the-noise\\data\\GSE161529_adata_cache\\GSM4909314_ER-MH0064-LN.h5ad as AnnData object.\n",
      "2025-07-05 22:17:18,557 [INFO] signals_in_the_noise.utilities.tenx_genomics: Reading C:\\Users\\silly\\GitHub\\signals-in-the-noise\\data\\GSE161529_adata_cache\\GSM4909315_ER-MH0167-T.h5ad as AnnData object.\n",
      "2025-07-05 22:17:18,702 [INFO] signals_in_the_noise.utilities.tenx_genomics: Reading C:\\Users\\silly\\GitHub\\signals-in-the-noise\\data\\GSE161529_adata_cache\\GSM4909316_ER-MH0167-LN.h5ad as AnnData object.\n",
      "2025-07-05 22:17:18,790 [INFO] signals_in_the_noise.utilities.tenx_genomics: Reading C:\\Users\\silly\\GitHub\\signals-in-the-noise\\data\\GSE161529_adata_cache\\GSM4909317_ER-MH0173-T.h5ad as AnnData object.\n",
      "2025-07-05 22:17:18,922 [INFO] signals_in_the_noise.utilities.tenx_genomics: Reading C:\\Users\\silly\\GitHub\\signals-in-the-noise\\data\\GSE161529_adata_cache\\GSM4909318_ER-MH0173-LN.h5ad as AnnData object.\n",
      "2025-07-05 22:17:19,024 [INFO] signals_in_the_noise.utilities.tenx_genomics: Reading C:\\Users\\silly\\GitHub\\signals-in-the-noise\\data\\GSE161529_adata_cache\\GSM4909319_mER-PM0178.h5ad as AnnData object.\n",
      "2025-07-05 22:17:19,105 [INFO] signals_in_the_noise.utilities.tenx_genomics: Reading C:\\Users\\silly\\GitHub\\signals-in-the-noise\\data\\GSE161529_adata_cache\\GSM4909320_mER-MH0068-T.h5ad as AnnData object.\n",
      "2025-07-05 22:17:19,146 [INFO] signals_in_the_noise.utilities.tenx_genomics: Reading C:\\Users\\silly\\GitHub\\signals-in-the-noise\\data\\GSE161529_adata_cache\\GSM4909321_mER-MH0068-LN.h5ad as AnnData object.\n"
     ]
    }
   ],
   "execution_count": 322
  },
  {
   "metadata": {
    "ExecuteTime": {
     "end_time": "2025-07-06T01:35:11.408203Z",
     "start_time": "2025-07-06T01:35:11.403376Z"
    }
   },
   "cell_type": "code",
   "source": "adata = list(gse.objects.items())[66][1]",
   "id": "d6b66455e49f76b7",
   "outputs": [],
   "execution_count": 33
  },
  {
   "metadata": {
    "ExecuteTime": {
     "end_time": "2025-07-06T01:35:24.291256Z",
     "start_time": "2025-07-06T01:35:24.158680Z"
    }
   },
   "cell_type": "code",
   "source": [
    "import scanpy as sc\n",
    "# objs = list(gse.objects.values())\n",
    "# adata = objs[2]\n",
    "adata.var['mt'] = adata.var_names.str.upper().str.startswith('MT-')\n",
    "sc.pp.calculate_qc_metrics(adata, qc_vars=['mt'], inplace=True)\n"
   ],
   "id": "1146478acc44bbc8",
   "outputs": [],
   "execution_count": 36
  },
  {
   "metadata": {
    "ExecuteTime": {
     "end_time": "2025-07-06T02:15:36.202474Z",
     "start_time": "2025-07-06T02:15:36.064801Z"
    }
   },
   "cell_type": "code",
   "source": [
    "adata = list(gse.objects.items())[66][1]\n",
    "\n",
    "adata.var['mt'] = adata.var_names.str.upper().str.startswith('MT-')\n",
    "sc.pp.calculate_qc_metrics(adata, qc_vars=['mt'], inplace=True)\n",
    "\n",
    "num_genes_lower_bound = adata.uns['qc_genes_lower']\n",
    "num_genes_upper_bound = adata.uns['qc_genes_upper']\n",
    "mito_upper_bound = adata.uns['qc_mito_upper']\n",
    "total_count_upper_bound = adata.uns['qc_total_upper']\n",
    "\n",
    "adata.obs['is_low_num_genes'] = (adata.obs['n_genes_by_counts'] <= num_genes_lower_bound).astype(int)\n",
    "adata.obs['is_high_num_genes'] = (adata.obs['n_genes_by_counts'] > num_genes_upper_bound).astype(int)\n",
    "adata.obs['is_high_mito'] = (adata.obs['pct_counts_mt']/100 > 0.173143).astype(int)\n",
    "adata.obs['is_high_total_count'] = (adata.obs['total_counts'] >= total_count_upper_bound).astype(int)\n",
    "\n",
    "adata.obs['is_noise'] = (\n",
    "    adata.obs['is_low_num_genes'] |\n",
    "    adata.obs['is_high_num_genes'] |\n",
    "    adata.obs['is_high_mito'] |\n",
    "    adata.obs['is_high_total_count']\n",
    ").astype(int)\n",
    "\n",
    "print(bool(adata[adata.obs['is_noise'] == 0, :].shape[0] == adata.uns['num_cells_after']), int(adata.uns['num_cells_after']), adata[adata.obs['is_noise'] == 0, :].shape[0])\n",
    "print(adata[adata.obs['is_low_num_genes']==1, :].shape[0], adata[adata.obs['is_high_num_genes']==1, :].shape[0], adata[adata.obs['is_high_mito']==1, :].shape[0], adata[adata.obs['is_high_total_count']==1, :].shape[0])\n",
    "print(num_genes_lower_bound, num_genes_upper_bound, mito_upper_bound, total_count_upper_bound)"
   ],
   "id": "c508bdb7cb189416",
   "outputs": [
    {
     "name": "stdout",
     "output_type": "stream",
     "text": [
      "False 7274 7273\n",
      "5900 7 1052 5\n",
      "300 1300 0.3 3500\n"
     ]
    }
   ],
   "execution_count": 321
  },
  {
   "metadata": {
    "ExecuteTime": {
     "end_time": "2025-07-06T02:10:47.048658Z",
     "start_time": "2025-07-06T02:10:47.040456Z"
    }
   },
   "cell_type": "code",
   "source": [
    "# num_genes_lower_bound, num_genes_upper_bound, mito_upper_bound, total_count_upper_bound\n",
    "# adata.obs[['is_noise', 'is_low_num_genes', 'is_high_num_genes', 'is_high_mito', 'is_high_total_count']]\n",
    "adata = list(gse.objects.items())[60][1]\n",
    "num_genes_lower_bound = adata.uns['qc_genes_lower']\n",
    "num_genes_upper_bound = adata.uns['qc_genes_upper']\n",
    "mito_upper_bound = adata.uns['qc_mito_upper']\n",
    "total_count_upper_bound = adata.uns['qc_total_upper']\n",
    "print(num_genes_lower_bound, num_genes_upper_bound, mito_upper_bound, total_count_upper_bound)\n",
    "adata.obs['n_genes_by_counts'].describe()"
   ],
   "id": "8d8b94832c7aca4b",
   "outputs": [
    {
     "name": "stdout",
     "output_type": "stream",
     "text": [
      "500 3000 0.2 10000\n"
     ]
    },
    {
     "data": {
      "text/plain": [
       "count    4037.000000\n",
       "mean      951.772851\n",
       "std       572.783897\n",
       "min       202.000000\n",
       "25%       593.000000\n",
       "50%       738.000000\n",
       "75%      1089.000000\n",
       "max      4055.000000\n",
       "Name: n_genes_by_counts, dtype: float64"
      ]
     },
     "execution_count": 269,
     "metadata": {},
     "output_type": "execute_result"
    }
   ],
   "execution_count": 269
  },
  {
   "metadata": {
    "ExecuteTime": {
     "end_time": "2025-07-06T02:10:51.538545Z",
     "start_time": "2025-07-06T02:10:51.526974Z"
    }
   },
   "cell_type": "code",
   "source": [
    "# num_genes_lower_bound, num_genes_upper_bound, mito_upper_bound, total_count_upper_bound\n",
    "# adata.obs[['is_noise', 'is_low_num_genes', 'is_high_num_genes', 'is_high_mito', 'is_high_total_count']]\n",
    "adata = list(gse.objects.items())[60][1]\n",
    "num_genes_lower_bound = adata.uns['qc_genes_lower']\n",
    "num_genes_upper_bound = adata.uns['qc_genes_upper']\n",
    "mito_upper_bound = adata.uns['qc_mito_upper']\n",
    "total_count_upper_bound = adata.uns['qc_total_upper']\n",
    "print(num_genes_lower_bound, num_genes_upper_bound, mito_upper_bound, total_count_upper_bound)\n",
    "adata.obs['total_counts'].describe()"
   ],
   "id": "12689261882cad46",
   "outputs": [
    {
     "name": "stdout",
     "output_type": "stream",
     "text": [
      "500 3000 0.2 10000\n"
     ]
    },
    {
     "data": {
      "text/plain": [
       "count     4037.000000\n",
       "mean      2182.529541\n",
       "std       1796.125854\n",
       "min        500.000000\n",
       "25%       1165.000000\n",
       "50%       1536.000000\n",
       "75%       2435.000000\n",
       "max      16312.000000\n",
       "Name: total_counts, dtype: float64"
      ]
     },
     "execution_count": 270,
     "metadata": {},
     "output_type": "execute_result"
    }
   ],
   "execution_count": 270
  },
  {
   "metadata": {
    "ExecuteTime": {
     "end_time": "2025-07-06T02:00:35.229387Z",
     "start_time": "2025-07-06T02:00:35.220349Z"
    }
   },
   "cell_type": "code",
   "source": [
    "adata = list(gse.objects.items())[42][1]\n",
    "num_genes_lower_bound = adata.uns['qc_genes_lower']\n",
    "num_genes_upper_bound = adata.uns['qc_genes_upper']\n",
    "mito_upper_bound = adata.uns['qc_mito_upper']\n",
    "total_count_upper_bound = adata.uns['qc_total_upper']\n",
    "print(num_genes_lower_bound, num_genes_upper_bound, mito_upper_bound, total_count_upper_bound)\n",
    "adata.obs['total_counts'].describe()"
   ],
   "id": "c674502ad478b8b8",
   "outputs": [
    {
     "name": "stdout",
     "output_type": "stream",
     "text": [
      "500 7000 0.2 50000\n"
     ]
    },
    {
     "data": {
      "text/plain": [
       "count     3406.000000\n",
       "mean      5485.803711\n",
       "std       7681.176270\n",
       "min        500.000000\n",
       "25%       1395.250000\n",
       "50%       2204.500000\n",
       "75%       6536.000000\n",
       "max      85432.000000\n",
       "Name: total_counts, dtype: float64"
      ]
     },
     "execution_count": 183,
     "metadata": {},
     "output_type": "execute_result"
    }
   ],
   "execution_count": 183
  }
 ],
 "metadata": {},
 "nbformat": 4,
 "nbformat_minor": 5
}
