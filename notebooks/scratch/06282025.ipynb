{
 "cells": [
  {
   "metadata": {},
   "cell_type": "code",
   "outputs": [],
   "execution_count": null,
   "source": [
    "from signals_in_the_noise.preprocessing.gse161529 import GSE161529\n",
    "\n",
    "gse = GSE161529()"
   ],
   "id": "81cc203cf0d61cbf"
  },
  {
   "metadata": {},
   "cell_type": "code",
   "outputs": [],
   "execution_count": null,
   "source": [
    "rdf = gse._prepare_resources_for_annotation({\n",
    "    'metadata': (f\"{gse.STUDY_ID}/table_supplementary_1.xlsx\", 0),\n",
    "    'phenotype': (f\"{gse.STUDY_ID}/table_ev_4.xlsx\", 2),\n",
    "    'qc': (f\"{gse.STUDY_ID}/table_supplementary_2.xlsx\", 0),\n",
    "})"
   ],
   "id": "c460ddaf4e9d39e0"
  },
  {
   "metadata": {},
   "cell_type": "code",
   "outputs": [],
   "execution_count": null,
   "source": "rdf",
   "id": "2eec55fbcbc57dce"
  }
 ],
 "metadata": {},
 "nbformat": 4,
 "nbformat_minor": 5
}
