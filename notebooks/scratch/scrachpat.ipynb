{
 "cells": [
  {
   "metadata": {},
   "cell_type": "code",
   "outputs": [],
   "execution_count": null,
   "source": [
    "from signals_in_the_noise.utilities.tenx_genomics import TenX, DirectoryType\n",
    "t = TenX(\"../data/GSE161529_RAW\", DirectoryType.MULTIPLE, features_filename=\"../../data/GSE161529_features.tsv.gz\")\n",
    "t.load_data()"
   ],
   "id": "e2375e02d32b5e6e"
  },
  {
   "metadata": {},
   "cell_type": "code",
   "outputs": [],
   "execution_count": null,
   "source": [
    "e = f\"{t.study_directory}/GSM4909253_N-PM0092-Total\"\n",
    "\n",
    "import scanpy as sc\n",
    "adata = sc.read_10x_mtx(e)"
   ],
   "id": "2396d78679f97a78"
  },
  {
   "metadata": {},
   "cell_type": "code",
   "outputs": [],
   "execution_count": null,
   "source": "adata.shape",
   "id": "1ff9277a228c1c9c"
  },
  {
   "metadata": {},
   "cell_type": "code",
   "outputs": [],
   "execution_count": null,
   "source": [
    "# Sharing same features means there will be 0 count genes\n",
    "import numpy as np\n",
    "nonzero_gene_mask = (adata.X > 0).sum(axis=0).A1 > 0\n",
    "zero_gene_mask = (adata.X > 0).sum(axis=0).A1 == 0\n",
    "# Slice AnnData to keep only non-zero genes\n",
    "adata_nz = adata[:, nonzero_gene_mask]\n",
    "adata_z = adata[:, zero_gene_mask]"
   ],
   "id": "ba3bbf4bdecfcce1"
  },
  {
   "metadata": {},
   "cell_type": "code",
   "outputs": [],
   "execution_count": null,
   "source": [
    "# adata = adata_nz\n",
    "adata.var['mt'] = adata.var_names.str.upper().str.startswith('MT-')\n",
    "sc.pp.calculate_qc_metrics(adata, inplace=True, qc_vars=['mt'], log1p=False)"
   ],
   "id": "cf3fb0c2b23abaec"
  },
  {
   "metadata": {},
   "cell_type": "code",
   "outputs": [],
   "execution_count": null,
   "source": "adata",
   "id": "3555adc3347c40f3"
  },
  {
   "metadata": {},
   "cell_type": "code",
   "outputs": [],
   "execution_count": null,
   "source": [
    "import matplotlib.pyplot as plt\n",
    "import seaborn as sns\n",
    "\n",
    "sns.histplot(adata.obs['total_counts'], bins=100, kde=False)\n",
    "plt.axvline(500, color='red', linestyle='--', label='500 UMI threshold')\n",
    "plt.xlabel('Total counts per cell')\n",
    "plt.ylabel('Cell count')\n",
    "plt.title('Total RNA counts per cell')\n",
    "plt.legend()\n",
    "plt.show()"
   ],
   "id": "590f4f13999f3c6"
  },
  {
   "metadata": {},
   "cell_type": "code",
   "outputs": [],
   "execution_count": null,
   "source": [
    "sns.histplot(adata.obs['n_genes_by_counts'], bins=100, kde=False)\n",
    "plt.axvline(500, color='red', linestyle='--', label='500 gene threshold')\n",
    "plt.xlabel('Genes detected per cell')\n",
    "plt.ylabel('Cell count')\n",
    "plt.title('Gene count per cell')\n",
    "plt.legend()\n",
    "plt.show()"
   ],
   "id": "27e61a80563549c9"
  },
  {
   "metadata": {},
   "cell_type": "code",
   "outputs": [],
   "execution_count": null,
   "source": [
    "sns.scatterplot(\n",
    "    x='total_counts',\n",
    "    y='n_genes_by_counts',\n",
    "    data=adata.obs,\n",
    "    s=5, alpha=0.3\n",
    ")\n",
    "plt.xlabel('Total counts')\n",
    "plt.ylabel('Number of genes')\n",
    "plt.title('Total counts vs. number of genes per cell')\n",
    "plt.axvline(500, color='red', linestyle='--')\n",
    "plt.axhline(500, color='blue', linestyle='--')\n",
    "plt.show()"
   ],
   "id": "4524a0e7b2ecfc15"
  },
  {
   "metadata": {},
   "cell_type": "code",
   "outputs": [],
   "execution_count": null,
   "source": [
    "sns.scatterplot(\n",
    "    x='total_counts',\n",
    "    y='pct_counts_mt',\n",
    "    data=adata.obs,\n",
    "    s=5, alpha=0.3\n",
    ")\n",
    "plt.xlabel('Total counts')\n",
    "plt.ylabel('% mitochondrial counts')\n",
    "plt.title('Total counts vs. mitochondrial content')\n",
    "plt.axhline(20, color='red', linestyle='--')\n",
    "plt.show()"
   ],
   "id": "ed3e5ee854931c6b"
  },
  {
   "metadata": {},
   "cell_type": "code",
   "outputs": [],
   "execution_count": null,
   "source": [
    "# from signals_in_the_noise.utilities.storage import DATA_DIRECTORY, get_data_path\n",
    "# # import signals_in_the_noise.utilities.storage as storage\n",
    "#\n",
    "# # print(dir(storage))\n",
    "\n",
    "import sys\n",
    "from pathlib import Path\n",
    "\n",
    "# Add src/ to the Python path if not already present\n",
    "src_path = Path().resolve() / \"src\"\n",
    "if str(src_path) not in sys.path:\n",
    "    sys.path.append(str(src_path))"
   ],
   "id": "c8d16cb808b8f81c"
  },
  {
   "metadata": {},
   "cell_type": "code",
   "outputs": [],
   "execution_count": null,
   "source": [
    "from signals_in_the_noise.utilities.storage import get_data_path\n",
    "print(get_data_path(\"GSE161529_RAW\"))"
   ],
   "id": "6eb3a0c3e87ee602"
  }
 ],
 "metadata": {},
 "nbformat": 4,
 "nbformat_minor": 5
}
