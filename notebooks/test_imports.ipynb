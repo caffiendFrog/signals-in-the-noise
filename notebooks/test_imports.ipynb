{
 "cells": [
  {
   "cell_type": "code",
   "id": "initial_id",
   "metadata": {
    "collapsed": true,
    "ExecuteTime": {
     "end_time": "2025-06-17T00:20:20.610043Z",
     "start_time": "2025-06-17T00:20:20.293131Z"
    }
   },
   "source": [
    "# This is a test file to show how to import a class from the source code for use in the jupyter notebooks\n",
    "from signals_in_the_noise.utilities import tisch2_custom_h5"
   ],
   "outputs": [],
   "execution_count": 5
  }
 ],
 "metadata": {
  "kernelspec": {
   "display_name": "Python 3",
   "language": "python",
   "name": "python3"
  },
  "language_info": {
   "codemirror_mode": {
    "name": "ipython",
    "version": 2
   },
   "file_extension": ".py",
   "mimetype": "text/x-python",
   "name": "python",
   "nbconvert_exporter": "python",
   "pygments_lexer": "ipython2",
   "version": "2.7.6"
  }
 },
 "nbformat": 4,
 "nbformat_minor": 5
}
